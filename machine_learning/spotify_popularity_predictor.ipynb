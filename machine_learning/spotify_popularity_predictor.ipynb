{
 "cells": [
  {
   "cell_type": "code",
   "execution_count": 88,
   "metadata": {
    "ExecuteTime": {
     "end_time": "2021-03-19T16:27:47.882897Z",
     "start_time": "2021-03-19T16:27:47.876914Z"
    }
   },
   "outputs": [],
   "source": [
    "# Linear algebra\n",
    "import pandas as pd\n",
    "import numpy as np\n",
    "\n",
    "# Data visualization\n",
    "import matplotlib.pyplot as plt\n",
    "import seaborn as sns\n",
    "\n",
    "# Statistics library\n",
    "from statsmodels.graphics.gofplots import qqplot\n",
    "\n",
    "# Sklearn\n",
    "from sklearn.preprocessing import MinMaxScaler\n",
    "from sklearn.dummy import DummyRegressor\n",
    "from sklearn.linear_model import LinearRegression\n",
    "from sklearn.model_selection import cross_validate\n",
    "from sklearn.model_selection import cross_val_score\n",
    "from sklearn.model_selection import train_test_split\n",
    "from sklearn.preprocessing import FunctionTransformer\n",
    "from sklearn.pipeline import Pipeline\n",
    "from sklearn.compose import make_column_transformer"
   ]
  },
  {
   "cell_type": "markdown",
   "metadata": {},
   "source": [
    "# Spotify Popularity Predictor (39%)"
   ]
  },
  {
   "cell_type": "markdown",
   "metadata": {},
   "source": [
    "The goal of this challenge is to create a model that predicts the popularity of a song based on its features.\n",
    "\n",
    "The dataset contains a list of tracks with the following characteristics:\n",
    "- `acousticness`: whether the track is acoustic\n",
    "- `danceability`: describes how suitable a track is for dancing\n",
    "- `duration_ms`: duration of the track in milliseconds\n",
    "- `energy`: represents a perceptual measure of intensity and activity\n",
    "- `explicit`: whether the track has explicit lyrics\n",
    "- `id`: id for the track\n",
    "- `instrumentalness`: predicts whether a track contains no vocals\n",
    "- `key`: the key the track is in\n",
    "- `liveness`: detects the presence of an audience in the recording\n",
    "- `loudness`: the overall loudness of a track in decibels\n",
    "- `mode`: modality of a track\n",
    "- `name`: name of the track\n",
    "- `popularity`: popularity of the track\n",
    "- `release_date`: release date\n",
    "- `speechiness`: detects the presence of spoken words in a track\n",
    "- `tempo`: overall estimated tempo of a track in beats per minute\n",
    "- `valence`: describes the musical positiveness conveyed by a track\n",
    "- `artist`: artist who performed the track"
   ]
  },
  {
   "cell_type": "markdown",
   "metadata": {},
   "source": [
    "# Model"
   ]
  },
  {
   "cell_type": "markdown",
   "metadata": {},
   "source": [
    "## Data collection\n",
    "\n",
    "**📝 Load the `spotify_popularity_train.csv` dataset from the provided URL. Display the first few rows. Perform the usual cleaning operations. Store the result in a `DataFrame` named `data`.**\n",
    "\n",
    "👉 Do not forget to clean the dataset"
   ]
  },
  {
   "cell_type": "code",
   "execution_count": 2,
   "metadata": {
    "ExecuteTime": {
     "end_time": "2021-03-19T16:14:24.582765Z",
     "start_time": "2021-03-19T16:14:24.580170Z"
    }
   },
   "outputs": [],
   "source": [
    "url = \"https://wagon-public-datasets.s3.amazonaws.com/certification_paris_2021Q1/spotify_popularity_train.csv\""
   ]
  },
  {
   "cell_type": "code",
   "execution_count": 3,
   "metadata": {
    "ExecuteTime": {
     "end_time": "2021-03-19T16:14:29.601487Z",
     "start_time": "2021-03-19T16:14:24.585115Z"
    }
   },
   "outputs": [
    {
     "data": {
      "text/html": [
       "<div>\n",
       "<style scoped>\n",
       "    .dataframe tbody tr th:only-of-type {\n",
       "        vertical-align: middle;\n",
       "    }\n",
       "\n",
       "    .dataframe tbody tr th {\n",
       "        vertical-align: top;\n",
       "    }\n",
       "\n",
       "    .dataframe thead th {\n",
       "        text-align: right;\n",
       "    }\n",
       "</style>\n",
       "<table border=\"1\" class=\"dataframe\">\n",
       "  <thead>\n",
       "    <tr style=\"text-align: right;\">\n",
       "      <th></th>\n",
       "      <th>acousticness</th>\n",
       "      <th>danceability</th>\n",
       "      <th>duration_ms</th>\n",
       "      <th>energy</th>\n",
       "      <th>explicit</th>\n",
       "      <th>id</th>\n",
       "      <th>instrumentalness</th>\n",
       "      <th>key</th>\n",
       "      <th>liveness</th>\n",
       "      <th>loudness</th>\n",
       "      <th>mode</th>\n",
       "      <th>name</th>\n",
       "      <th>popularity</th>\n",
       "      <th>release_date</th>\n",
       "      <th>speechiness</th>\n",
       "      <th>tempo</th>\n",
       "      <th>valence</th>\n",
       "      <th>artist</th>\n",
       "    </tr>\n",
       "  </thead>\n",
       "  <tbody>\n",
       "    <tr>\n",
       "      <th>0</th>\n",
       "      <td>0.65400</td>\n",
       "      <td>0.499</td>\n",
       "      <td>219827</td>\n",
       "      <td>0.190</td>\n",
       "      <td>0</td>\n",
       "      <td>0B6BeEUd6UwFlbsHMQKjob</td>\n",
       "      <td>0.00409</td>\n",
       "      <td>7</td>\n",
       "      <td>0.0898</td>\n",
       "      <td>-16.435</td>\n",
       "      <td>1</td>\n",
       "      <td>Back in the Goodle Days</td>\n",
       "      <td>40</td>\n",
       "      <td>1971</td>\n",
       "      <td>0.0454</td>\n",
       "      <td>149.460</td>\n",
       "      <td>0.4300</td>\n",
       "      <td>John Hartford</td>\n",
       "    </tr>\n",
       "    <tr>\n",
       "      <th>1</th>\n",
       "      <td>0.00592</td>\n",
       "      <td>0.439</td>\n",
       "      <td>483948</td>\n",
       "      <td>0.808</td>\n",
       "      <td>0</td>\n",
       "      <td>5Gpx4lJy3vKmIvjwbiR5c8</td>\n",
       "      <td>0.14000</td>\n",
       "      <td>2</td>\n",
       "      <td>0.0890</td>\n",
       "      <td>-8.497</td>\n",
       "      <td>1</td>\n",
       "      <td>Worlds Which Break Us - Intro Mix</td>\n",
       "      <td>22</td>\n",
       "      <td>2015-02-02</td>\n",
       "      <td>0.0677</td>\n",
       "      <td>138.040</td>\n",
       "      <td>0.0587</td>\n",
       "      <td>Driftmoon</td>\n",
       "    </tr>\n",
       "    <tr>\n",
       "      <th>2</th>\n",
       "      <td>0.73400</td>\n",
       "      <td>0.523</td>\n",
       "      <td>245693</td>\n",
       "      <td>0.288</td>\n",
       "      <td>0</td>\n",
       "      <td>7MxuUYqrCIy93h1EEHrIrL</td>\n",
       "      <td>0.00000</td>\n",
       "      <td>0</td>\n",
       "      <td>0.0771</td>\n",
       "      <td>-11.506</td>\n",
       "      <td>1</td>\n",
       "      <td>I'm The Greatest Star</td>\n",
       "      <td>40</td>\n",
       "      <td>1968-09-01</td>\n",
       "      <td>0.2140</td>\n",
       "      <td>75.869</td>\n",
       "      <td>0.4640</td>\n",
       "      <td>Barbra Streisand</td>\n",
       "    </tr>\n",
       "  </tbody>\n",
       "</table>\n",
       "</div>"
      ],
      "text/plain": [
       "   acousticness  danceability  duration_ms  energy  explicit  \\\n",
       "0       0.65400         0.499       219827   0.190         0   \n",
       "1       0.00592         0.439       483948   0.808         0   \n",
       "2       0.73400         0.523       245693   0.288         0   \n",
       "\n",
       "                       id  instrumentalness  key  liveness  loudness  mode  \\\n",
       "0  0B6BeEUd6UwFlbsHMQKjob           0.00409    7    0.0898   -16.435     1   \n",
       "1  5Gpx4lJy3vKmIvjwbiR5c8           0.14000    2    0.0890    -8.497     1   \n",
       "2  7MxuUYqrCIy93h1EEHrIrL           0.00000    0    0.0771   -11.506     1   \n",
       "\n",
       "                                name  popularity release_date  speechiness  \\\n",
       "0            Back in the Goodle Days          40         1971       0.0454   \n",
       "1  Worlds Which Break Us - Intro Mix          22   2015-02-02       0.0677   \n",
       "2              I'm The Greatest Star          40   1968-09-01       0.2140   \n",
       "\n",
       "     tempo  valence            artist  \n",
       "0  149.460   0.4300     John Hartford  \n",
       "1  138.040   0.0587         Driftmoon  \n",
       "2   75.869   0.4640  Barbra Streisand  "
      ]
     },
     "execution_count": 3,
     "metadata": {},
     "output_type": "execute_result"
    }
   ],
   "source": [
    "import pandas as pd\n",
    "data = pd.read_csv(url)\n",
    "data.head(3)"
   ]
  },
  {
   "cell_type": "markdown",
   "metadata": {
    "heading_collapsed": true
   },
   "source": [
    "### Data Cleaning"
   ]
  },
  {
   "cell_type": "code",
   "execution_count": 4,
   "metadata": {
    "ExecuteTime": {
     "end_time": "2021-03-19T16:14:29.609927Z",
     "start_time": "2021-03-19T16:14:29.604379Z"
    },
    "hidden": true
   },
   "outputs": [
    {
     "data": {
      "text/plain": [
       "(52317, 18)"
      ]
     },
     "execution_count": 4,
     "metadata": {},
     "output_type": "execute_result"
    }
   ],
   "source": [
    "data.shape"
   ]
  },
  {
   "cell_type": "code",
   "execution_count": 5,
   "metadata": {
    "ExecuteTime": {
     "end_time": "2021-03-19T16:14:29.616088Z",
     "start_time": "2021-03-19T16:14:29.613059Z"
    },
    "hidden": true
   },
   "outputs": [],
   "source": [
    "# Step 1: duplicates\n",
    "# Step 2: check for nan\n",
    "# Step 3: is there outliers"
   ]
  },
  {
   "cell_type": "code",
   "execution_count": 6,
   "metadata": {
    "ExecuteTime": {
     "end_time": "2021-03-19T16:14:29.636461Z",
     "start_time": "2021-03-19T16:14:29.619388Z"
    },
    "hidden": true
   },
   "outputs": [
    {
     "data": {
      "text/plain": [
       "260"
      ]
     },
     "execution_count": 6,
     "metadata": {},
     "output_type": "execute_result"
    }
   ],
   "source": [
    "# __Step 1: duplicates\n",
    "(data.id.duplicated() == True).sum()"
   ]
  },
  {
   "cell_type": "code",
   "execution_count": 7,
   "metadata": {
    "ExecuteTime": {
     "end_time": "2021-03-19T16:14:29.739121Z",
     "start_time": "2021-03-19T16:14:29.640218Z"
    },
    "hidden": true
   },
   "outputs": [],
   "source": [
    "data.drop_duplicates(inplace = True)"
   ]
  },
  {
   "cell_type": "code",
   "execution_count": 8,
   "metadata": {
    "ExecuteTime": {
     "end_time": "2021-03-19T16:14:29.745710Z",
     "start_time": "2021-03-19T16:14:29.742392Z"
    },
    "hidden": true
   },
   "outputs": [
    {
     "data": {
      "text/plain": [
       "(52057, 18)"
      ]
     },
     "execution_count": 8,
     "metadata": {},
     "output_type": "execute_result"
    }
   ],
   "source": [
    "data.shape"
   ]
  },
  {
   "cell_type": "code",
   "execution_count": 9,
   "metadata": {
    "ExecuteTime": {
     "end_time": "2021-03-19T16:14:29.763698Z",
     "start_time": "2021-03-19T16:14:29.748053Z"
    },
    "hidden": true
   },
   "outputs": [
    {
     "data": {
      "text/plain": [
       "acousticness        0\n",
       "danceability        0\n",
       "duration_ms         0\n",
       "energy              0\n",
       "explicit            0\n",
       "id                  0\n",
       "instrumentalness    0\n",
       "key                 0\n",
       "liveness            0\n",
       "loudness            0\n",
       "mode                0\n",
       "name                0\n",
       "popularity          0\n",
       "release_date        0\n",
       "speechiness         0\n",
       "tempo               0\n",
       "valence             0\n",
       "artist              4\n",
       "dtype: int64"
      ]
     },
     "execution_count": 9,
     "metadata": {},
     "output_type": "execute_result"
    }
   ],
   "source": [
    "# __Step 2:  nan\n",
    "data.isna().sum()"
   ]
  },
  {
   "cell_type": "code",
   "execution_count": 10,
   "metadata": {
    "ExecuteTime": {
     "end_time": "2021-03-19T16:14:29.788769Z",
     "start_time": "2021-03-19T16:14:29.765892Z"
    },
    "hidden": true
   },
   "outputs": [],
   "source": [
    "data.dropna(inplace=True)"
   ]
  },
  {
   "cell_type": "code",
   "execution_count": 11,
   "metadata": {
    "ExecuteTime": {
     "end_time": "2021-03-19T16:14:29.794101Z",
     "start_time": "2021-03-19T16:14:29.790728Z"
    },
    "hidden": true
   },
   "outputs": [
    {
     "data": {
      "text/plain": [
       "(52053, 18)"
      ]
     },
     "execution_count": 11,
     "metadata": {},
     "output_type": "execute_result"
    }
   ],
   "source": [
    "data.shape"
   ]
  },
  {
   "cell_type": "markdown",
   "metadata": {
    "ExecuteTime": {
     "end_time": "2021-03-19T11:28:00.092268Z",
     "start_time": "2021-03-19T11:28:00.089929Z"
    },
    "heading_collapsed": true
   },
   "source": [
    "### Explore target Popularity"
   ]
  },
  {
   "cell_type": "code",
   "execution_count": 12,
   "metadata": {
    "ExecuteTime": {
     "end_time": "2021-03-19T16:14:29.809378Z",
     "start_time": "2021-03-19T16:14:29.796174Z"
    },
    "hidden": true,
    "scrolled": true
   },
   "outputs": [
    {
     "data": {
      "text/plain": [
       "count    52053.000000\n",
       "mean        25.815188\n",
       "std         21.864219\n",
       "min          0.000000\n",
       "25%          1.000000\n",
       "50%         26.000000\n",
       "75%         42.000000\n",
       "max         96.000000\n",
       "Name: popularity, dtype: float64"
      ]
     },
     "execution_count": 12,
     "metadata": {},
     "output_type": "execute_result"
    }
   ],
   "source": [
    "data.popularity.describe()"
   ]
  },
  {
   "cell_type": "code",
   "execution_count": 13,
   "metadata": {
    "ExecuteTime": {
     "end_time": "2021-03-19T16:14:29.960777Z",
     "start_time": "2021-03-19T16:14:29.812474Z"
    },
    "hidden": true
   },
   "outputs": [
    {
     "data": {
      "text/plain": [
       "<AxesSubplot:xlabel='popularity'>"
      ]
     },
     "execution_count": 13,
     "metadata": {},
     "output_type": "execute_result"
    },
    {
     "data": {
      "image/png": "[encoded data removed]",
      "text/plain": [
       "<Figure size 432x288 with 1 Axes>"
      ]
     },
     "metadata": {
      "needs_background": "light"
     },
     "output_type": "display_data"
    }
   ],
   "source": [
    "sns.boxplot(data.popularity)"
   ]
  },
  {
   "cell_type": "code",
   "execution_count": 14,
   "metadata": {
    "ExecuteTime": {
     "end_time": "2021-03-19T16:14:30.376107Z",
     "start_time": "2021-03-19T16:14:29.963185Z"
    },
    "hidden": true,
    "scrolled": true
   },
   "outputs": [
    {
     "data": {
      "text/plain": [
       "<AxesSubplot:xlabel='popularity', ylabel='Density'>"
      ]
     },
     "execution_count": 14,
     "metadata": {},
     "output_type": "execute_result"
    },
    {
     "data": {
      "image/png": "[encoded data removed]",
      "text/plain": [
       "<Figure size 432x288 with 1 Axes>"
      ]
     },
     "metadata": {
      "needs_background": "light"
     },
     "output_type": "display_data"
    }
   ],
   "source": [
    "sns.distplot(data.popularity)"
   ]
  },
  {
   "cell_type": "markdown",
   "metadata": {
    "heading_collapsed": true
   },
   "source": [
    "### Explore features"
   ]
  },
  {
   "cell_type": "code",
   "execution_count": 15,
   "metadata": {
    "ExecuteTime": {
     "end_time": "2021-03-19T16:14:30.382866Z",
     "start_time": "2021-03-19T16:14:30.378634Z"
    },
    "hidden": true,
    "scrolled": false
   },
   "outputs": [
    {
     "data": {
      "text/plain": [
       "Index(['acousticness', 'danceability', 'duration_ms', 'energy', 'explicit',\n",
       "       'id', 'instrumentalness', 'key', 'liveness', 'loudness', 'mode', 'name',\n",
       "       'popularity', 'release_date', 'speechiness', 'tempo', 'valence',\n",
       "       'artist'],\n",
       "      dtype='object')"
      ]
     },
     "execution_count": 15,
     "metadata": {},
     "output_type": "execute_result"
    }
   ],
   "source": [
    "data.columns"
   ]
  },
  {
   "cell_type": "code",
   "execution_count": 16,
   "metadata": {
    "ExecuteTime": {
     "end_time": "2021-03-19T16:14:30.389239Z",
     "start_time": "2021-03-19T16:14:30.385217Z"
    },
    "hidden": true
   },
   "outputs": [
    {
     "data": {
      "text/plain": [
       "18"
      ]
     },
     "execution_count": 16,
     "metadata": {},
     "output_type": "execute_result"
    }
   ],
   "source": [
    "len(data.columns)"
   ]
  },
  {
   "cell_type": "code",
   "execution_count": 17,
   "metadata": {
    "ExecuteTime": {
     "end_time": "2021-03-19T16:14:30.411090Z",
     "start_time": "2021-03-19T16:14:30.391088Z"
    },
    "hidden": true,
    "scrolled": false
   },
   "outputs": [
    {
     "data": {
      "text/html": [
       "<div>\n",
       "<style scoped>\n",
       "    .dataframe tbody tr th:only-of-type {\n",
       "        vertical-align: middle;\n",
       "    }\n",
       "\n",
       "    .dataframe tbody tr th {\n",
       "        vertical-align: top;\n",
       "    }\n",
       "\n",
       "    .dataframe thead th {\n",
       "        text-align: right;\n",
       "    }\n",
       "</style>\n",
       "<table border=\"1\" class=\"dataframe\">\n",
       "  <thead>\n",
       "    <tr style=\"text-align: right;\">\n",
       "      <th></th>\n",
       "      <th>acousticness</th>\n",
       "      <th>danceability</th>\n",
       "      <th>duration_ms</th>\n",
       "      <th>energy</th>\n",
       "      <th>explicit</th>\n",
       "      <th>id</th>\n",
       "      <th>instrumentalness</th>\n",
       "      <th>key</th>\n",
       "      <th>liveness</th>\n",
       "      <th>loudness</th>\n",
       "      <th>mode</th>\n",
       "      <th>name</th>\n",
       "      <th>popularity</th>\n",
       "      <th>release_date</th>\n",
       "      <th>speechiness</th>\n",
       "      <th>tempo</th>\n",
       "      <th>valence</th>\n",
       "      <th>artist</th>\n",
       "    </tr>\n",
       "  </thead>\n",
       "  <tbody>\n",
       "    <tr>\n",
       "      <th>0</th>\n",
       "      <td>0.654</td>\n",
       "      <td>0.499</td>\n",
       "      <td>219827</td>\n",
       "      <td>0.19</td>\n",
       "      <td>0</td>\n",
       "      <td>0B6BeEUd6UwFlbsHMQKjob</td>\n",
       "      <td>0.00409</td>\n",
       "      <td>7</td>\n",
       "      <td>0.0898</td>\n",
       "      <td>-16.435</td>\n",
       "      <td>1</td>\n",
       "      <td>Back in the Goodle Days</td>\n",
       "      <td>40</td>\n",
       "      <td>1971</td>\n",
       "      <td>0.0454</td>\n",
       "      <td>149.46</td>\n",
       "      <td>0.43</td>\n",
       "      <td>John Hartford</td>\n",
       "    </tr>\n",
       "  </tbody>\n",
       "</table>\n",
       "</div>"
      ],
      "text/plain": [
       "   acousticness  danceability  duration_ms  energy  explicit  \\\n",
       "0         0.654         0.499       219827    0.19         0   \n",
       "\n",
       "                       id  instrumentalness  key  liveness  loudness  mode  \\\n",
       "0  0B6BeEUd6UwFlbsHMQKjob           0.00409    7    0.0898   -16.435     1   \n",
       "\n",
       "                      name  popularity release_date  speechiness   tempo  \\\n",
       "0  Back in the Goodle Days          40         1971       0.0454  149.46   \n",
       "\n",
       "   valence         artist  \n",
       "0     0.43  John Hartford  "
      ]
     },
     "execution_count": 17,
     "metadata": {},
     "output_type": "execute_result"
    }
   ],
   "source": [
    "data.head(1)"
   ]
  },
  {
   "cell_type": "code",
   "execution_count": 18,
   "metadata": {
    "ExecuteTime": {
     "end_time": "2021-03-19T16:14:30.420945Z",
     "start_time": "2021-03-19T16:14:30.414076Z"
    },
    "hidden": true
   },
   "outputs": [
    {
     "data": {
      "text/plain": [
       "array([0, 1])"
      ]
     },
     "execution_count": 18,
     "metadata": {},
     "output_type": "execute_result"
    }
   ],
   "source": [
    "data.explicit.unique()"
   ]
  },
  {
   "cell_type": "code",
   "execution_count": 19,
   "metadata": {
    "ExecuteTime": {
     "end_time": "2021-03-19T16:14:30.429106Z",
     "start_time": "2021-03-19T16:14:30.423545Z"
    },
    "hidden": true
   },
   "outputs": [
    {
     "data": {
      "text/plain": [
       "array([1, 0])"
      ]
     },
     "execution_count": 19,
     "metadata": {},
     "output_type": "execute_result"
    }
   ],
   "source": [
    "data['mode'].unique()"
   ]
  },
  {
   "cell_type": "code",
   "execution_count": 20,
   "metadata": {
    "ExecuteTime": {
     "end_time": "2021-03-19T16:14:30.448868Z",
     "start_time": "2021-03-19T16:14:30.430862Z"
    },
    "hidden": true
   },
   "outputs": [
    {
     "data": {
      "text/html": [
       "<div>\n",
       "<style scoped>\n",
       "    .dataframe tbody tr th:only-of-type {\n",
       "        vertical-align: middle;\n",
       "    }\n",
       "\n",
       "    .dataframe tbody tr th {\n",
       "        vertical-align: top;\n",
       "    }\n",
       "\n",
       "    .dataframe thead th {\n",
       "        text-align: right;\n",
       "    }\n",
       "</style>\n",
       "<table border=\"1\" class=\"dataframe\">\n",
       "  <thead>\n",
       "    <tr style=\"text-align: right;\">\n",
       "      <th></th>\n",
       "      <th>acousticness</th>\n",
       "      <th>danceability</th>\n",
       "      <th>duration_ms</th>\n",
       "      <th>energy</th>\n",
       "      <th>explicit</th>\n",
       "      <th>id</th>\n",
       "      <th>instrumentalness</th>\n",
       "      <th>key</th>\n",
       "      <th>liveness</th>\n",
       "      <th>loudness</th>\n",
       "      <th>mode</th>\n",
       "      <th>name</th>\n",
       "      <th>popularity</th>\n",
       "      <th>release_date</th>\n",
       "      <th>speechiness</th>\n",
       "      <th>tempo</th>\n",
       "      <th>valence</th>\n",
       "      <th>artist</th>\n",
       "    </tr>\n",
       "  </thead>\n",
       "  <tbody>\n",
       "    <tr>\n",
       "      <th>0</th>\n",
       "      <td>0.654</td>\n",
       "      <td>0.499</td>\n",
       "      <td>219827</td>\n",
       "      <td>0.19</td>\n",
       "      <td>0</td>\n",
       "      <td>0B6BeEUd6UwFlbsHMQKjob</td>\n",
       "      <td>0.00409</td>\n",
       "      <td>7</td>\n",
       "      <td>0.0898</td>\n",
       "      <td>-16.435</td>\n",
       "      <td>1</td>\n",
       "      <td>Back in the Goodle Days</td>\n",
       "      <td>40</td>\n",
       "      <td>1971</td>\n",
       "      <td>0.0454</td>\n",
       "      <td>149.46</td>\n",
       "      <td>0.43</td>\n",
       "      <td>John Hartford</td>\n",
       "    </tr>\n",
       "  </tbody>\n",
       "</table>\n",
       "</div>"
      ],
      "text/plain": [
       "   acousticness  danceability  duration_ms  energy  explicit  \\\n",
       "0         0.654         0.499       219827    0.19         0   \n",
       "\n",
       "                       id  instrumentalness  key  liveness  loudness  mode  \\\n",
       "0  0B6BeEUd6UwFlbsHMQKjob           0.00409    7    0.0898   -16.435     1   \n",
       "\n",
       "                      name  popularity release_date  speechiness   tempo  \\\n",
       "0  Back in the Goodle Days          40         1971       0.0454  149.46   \n",
       "\n",
       "   valence         artist  \n",
       "0     0.43  John Hartford  "
      ]
     },
     "execution_count": 20,
     "metadata": {},
     "output_type": "execute_result"
    }
   ],
   "source": [
    "data.head(1)"
   ]
  },
  {
   "cell_type": "code",
   "execution_count": 21,
   "metadata": {
    "ExecuteTime": {
     "end_time": "2021-03-19T16:14:30.457907Z",
     "start_time": "2021-03-19T16:14:30.453344Z"
    },
    "hidden": true
   },
   "outputs": [],
   "source": [
    "num_features = ['acousticness', 'danceability', 'duration_ms', 'energy','instrumentalness','liveness', 'loudness','speechiness', 'tempo', 'valence']\n",
    "other_features = ['key', 'explicit', 'name', 'artist', 'mode', 'release_date']"
   ]
  },
  {
   "cell_type": "code",
   "execution_count": 22,
   "metadata": {
    "ExecuteTime": {
     "end_time": "2021-03-19T16:14:40.364422Z",
     "start_time": "2021-03-19T16:14:30.466717Z"
    },
    "hidden": true,
    "scrolled": true
   },
   "outputs": [
    {
     "data": {
      "image/png": "[encoded data removed]",
      "text/plain": [
       "<Figure size 1440x576 with 3 Axes>"
      ]
     },
     "metadata": {
      "needs_background": "light"
     },
     "output_type": "display_data"
    },
    {
     "data": {
      "image/png": "[encoded data removed]",
      "text/plain": [
       "<Figure size 1440x576 with 3 Axes>"
      ]
     },
     "metadata": {
      "needs_background": "light"
     },
     "output_type": "display_data"
    },
    {
     "data": {
      "image/png": "[encoded data removed]",
      "text/plain": [
       "<Figure size 1440x576 with 3 Axes>"
      ]
     },
     "metadata": {
      "needs_background": "light"
     },
     "output_type": "display_data"
    },
    {
     "data": {
      "image/png": "[encoded data removed]",
      "text/plain": [
       "<Figure size 1440x576 with 3 Axes>"
      ]
     },
     "metadata": {
      "needs_background": "light"
     },
     "output_type": "display_data"
    },
    {
     "data": {
      "image/png": "[encoded data removed]",
      "text/plain": [
       "<Figure size 1440x576 with 3 Axes>"
      ]
     },
     "metadata": {
      "needs_background": "light"
     },
     "output_type": "display_data"
    },
    {
     "data": {
      "image/png": "[encoded data removed]",
      "text/plain": [
       "<Figure size 1440x576 with 3 Axes>"
      ]
     },
     "metadata": {
      "needs_background": "light"
     },
     "output_type": "display_data"
    },
    {
     "data": {
      "image/png": "[encoded data removed]",
      "text/plain": [
       "<Figure size 1440x576 with 3 Axes>"
      ]
     },
     "metadata": {
      "needs_background": "light"
     },
     "output_type": "display_data"
    },
    {
     "data": {
      "image/png": "[encoded data removed]",
      "text/plain": [
       "<Figure size 1440x576 with 3 Axes>"
      ]
     },
     "metadata": {
      "needs_background": "light"
     },
     "output_type": "display_data"
    },
    {
     "data": {
      "image/png": "[encoded data removed]",
      "text/plain": [
       "<Figure size 1440x576 with 3 Axes>"
      ]
     },
     "metadata": {
      "needs_background": "light"
     },
     "output_type": "display_data"
    },
    {
     "data": {
      "image/png": "[encoded data removed]",
      "text/plain": [
       "<Figure size 1440x576 with 3 Axes>"
      ]
     },
     "metadata": {
      "needs_background": "light"
     },
     "output_type": "display_data"
    }
   ],
   "source": [
    "#Visualize num_features distribution\n",
    "for _ in num_features:\n",
    "    fig, ax=plt.subplots(1,3,figsize=(20,8))\n",
    "    ax[0].set_title(f\"Distribution of: {_}\")\n",
    "    sns.histplot(data = data[_], kde = True, ax = ax[0])\n",
    "    ax[1].set_title(f\"Boxplot of: {_}\")\n",
    "    sns.boxplot(data[_], ax=ax[1])\n",
    "    ax[2].set_title(f\"Gaussianity of: {_}\")\n",
    "    qqplot(data[_],line='s',ax=ax[2])\n",
    "fig.show() "
   ]
  },
  {
   "cell_type": "markdown",
   "metadata": {
    "heading_collapsed": true
   },
   "source": [
    "### Scale num features"
   ]
  },
  {
   "cell_type": "code",
   "execution_count": 23,
   "metadata": {
    "ExecuteTime": {
     "end_time": "2021-03-19T16:14:40.392715Z",
     "start_time": "2021-03-19T16:14:40.372240Z"
    },
    "hidden": true
   },
   "outputs": [
    {
     "data": {
      "text/html": [
       "<div>\n",
       "<style scoped>\n",
       "    .dataframe tbody tr th:only-of-type {\n",
       "        vertical-align: middle;\n",
       "    }\n",
       "\n",
       "    .dataframe tbody tr th {\n",
       "        vertical-align: top;\n",
       "    }\n",
       "\n",
       "    .dataframe thead th {\n",
       "        text-align: right;\n",
       "    }\n",
       "</style>\n",
       "<table border=\"1\" class=\"dataframe\">\n",
       "  <thead>\n",
       "    <tr style=\"text-align: right;\">\n",
       "      <th></th>\n",
       "      <th>acousticness</th>\n",
       "      <th>danceability</th>\n",
       "      <th>duration_ms</th>\n",
       "      <th>energy</th>\n",
       "      <th>explicit</th>\n",
       "      <th>id</th>\n",
       "      <th>instrumentalness</th>\n",
       "      <th>key</th>\n",
       "      <th>liveness</th>\n",
       "      <th>loudness</th>\n",
       "      <th>mode</th>\n",
       "      <th>name</th>\n",
       "      <th>popularity</th>\n",
       "      <th>release_date</th>\n",
       "      <th>speechiness</th>\n",
       "      <th>tempo</th>\n",
       "      <th>valence</th>\n",
       "      <th>artist</th>\n",
       "    </tr>\n",
       "  </thead>\n",
       "  <tbody>\n",
       "    <tr>\n",
       "      <th>0</th>\n",
       "      <td>0.654</td>\n",
       "      <td>0.499</td>\n",
       "      <td>219827</td>\n",
       "      <td>0.19</td>\n",
       "      <td>0</td>\n",
       "      <td>0B6BeEUd6UwFlbsHMQKjob</td>\n",
       "      <td>0.00409</td>\n",
       "      <td>7</td>\n",
       "      <td>0.0898</td>\n",
       "      <td>-16.435</td>\n",
       "      <td>1</td>\n",
       "      <td>Back in the Goodle Days</td>\n",
       "      <td>40</td>\n",
       "      <td>1971</td>\n",
       "      <td>0.0454</td>\n",
       "      <td>149.46</td>\n",
       "      <td>0.43</td>\n",
       "      <td>John Hartford</td>\n",
       "    </tr>\n",
       "  </tbody>\n",
       "</table>\n",
       "</div>"
      ],
      "text/plain": [
       "   acousticness  danceability  duration_ms  energy  explicit  \\\n",
       "0         0.654         0.499       219827    0.19         0   \n",
       "\n",
       "                       id  instrumentalness  key  liveness  loudness  mode  \\\n",
       "0  0B6BeEUd6UwFlbsHMQKjob           0.00409    7    0.0898   -16.435     1   \n",
       "\n",
       "                      name  popularity release_date  speechiness   tempo  \\\n",
       "0  Back in the Goodle Days          40         1971       0.0454  149.46   \n",
       "\n",
       "   valence         artist  \n",
       "0     0.43  John Hartford  "
      ]
     },
     "execution_count": 23,
     "metadata": {},
     "output_type": "execute_result"
    }
   ],
   "source": [
    "data.head(1)"
   ]
  },
  {
   "cell_type": "code",
   "execution_count": 24,
   "metadata": {
    "ExecuteTime": {
     "end_time": "2021-03-19T16:14:40.487974Z",
     "start_time": "2021-03-19T16:14:40.394562Z"
    },
    "hidden": true
   },
   "outputs": [],
   "source": [
    "scaler = MinMaxScaler()\n",
    "data[num_features] = scaler.fit_transform(data[num_features])"
   ]
  },
  {
   "cell_type": "code",
   "execution_count": 25,
   "metadata": {
    "ExecuteTime": {
     "end_time": "2021-03-19T16:14:40.510705Z",
     "start_time": "2021-03-19T16:14:40.490542Z"
    },
    "hidden": true
   },
   "outputs": [
    {
     "data": {
      "text/html": [
       "<div>\n",
       "<style scoped>\n",
       "    .dataframe tbody tr th:only-of-type {\n",
       "        vertical-align: middle;\n",
       "    }\n",
       "\n",
       "    .dataframe tbody tr th {\n",
       "        vertical-align: top;\n",
       "    }\n",
       "\n",
       "    .dataframe thead th {\n",
       "        text-align: right;\n",
       "    }\n",
       "</style>\n",
       "<table border=\"1\" class=\"dataframe\">\n",
       "  <thead>\n",
       "    <tr style=\"text-align: right;\">\n",
       "      <th></th>\n",
       "      <th>acousticness</th>\n",
       "      <th>danceability</th>\n",
       "      <th>duration_ms</th>\n",
       "      <th>energy</th>\n",
       "      <th>instrumentalness</th>\n",
       "      <th>liveness</th>\n",
       "      <th>loudness</th>\n",
       "      <th>speechiness</th>\n",
       "      <th>tempo</th>\n",
       "      <th>valence</th>\n",
       "    </tr>\n",
       "  </thead>\n",
       "  <tbody>\n",
       "    <tr>\n",
       "      <th>0</th>\n",
       "      <td>0.656627</td>\n",
       "      <td>0.506085</td>\n",
       "      <td>0.044604</td>\n",
       "      <td>0.190</td>\n",
       "      <td>0.004090</td>\n",
       "      <td>0.089890</td>\n",
       "      <td>0.683437</td>\n",
       "      <td>0.046804</td>\n",
       "      <td>0.613781</td>\n",
       "      <td>0.4300</td>\n",
       "    </tr>\n",
       "    <tr>\n",
       "      <th>1</th>\n",
       "      <td>0.005944</td>\n",
       "      <td>0.445233</td>\n",
       "      <td>0.099696</td>\n",
       "      <td>0.808</td>\n",
       "      <td>0.140000</td>\n",
       "      <td>0.089089</td>\n",
       "      <td>0.807966</td>\n",
       "      <td>0.069794</td>\n",
       "      <td>0.566883</td>\n",
       "      <td>0.0587</td>\n",
       "    </tr>\n",
       "    <tr>\n",
       "      <th>2</th>\n",
       "      <td>0.736948</td>\n",
       "      <td>0.530426</td>\n",
       "      <td>0.049999</td>\n",
       "      <td>0.288</td>\n",
       "      <td>0.000000</td>\n",
       "      <td>0.077177</td>\n",
       "      <td>0.760762</td>\n",
       "      <td>0.220619</td>\n",
       "      <td>0.311568</td>\n",
       "      <td>0.4640</td>\n",
       "    </tr>\n",
       "    <tr>\n",
       "      <th>3</th>\n",
       "      <td>0.430723</td>\n",
       "      <td>0.690669</td>\n",
       "      <td>0.025872</td>\n",
       "      <td>0.165</td>\n",
       "      <td>0.000000</td>\n",
       "      <td>0.394394</td>\n",
       "      <td>0.604653</td>\n",
       "      <td>0.975258</td>\n",
       "      <td>0.596833</td>\n",
       "      <td>0.2880</td>\n",
       "    </tr>\n",
       "    <tr>\n",
       "      <th>4</th>\n",
       "      <td>0.564257</td>\n",
       "      <td>0.550710</td>\n",
       "      <td>0.025828</td>\n",
       "      <td>0.575</td>\n",
       "      <td>0.000004</td>\n",
       "      <td>0.127127</td>\n",
       "      <td>0.825584</td>\n",
       "      <td>0.027320</td>\n",
       "      <td>0.571942</td>\n",
       "      <td>0.8010</td>\n",
       "    </tr>\n",
       "  </tbody>\n",
       "</table>\n",
       "</div>"
      ],
      "text/plain": [
       "   acousticness  danceability  duration_ms  energy  instrumentalness  \\\n",
       "0      0.656627      0.506085     0.044604   0.190          0.004090   \n",
       "1      0.005944      0.445233     0.099696   0.808          0.140000   \n",
       "2      0.736948      0.530426     0.049999   0.288          0.000000   \n",
       "3      0.430723      0.690669     0.025872   0.165          0.000000   \n",
       "4      0.564257      0.550710     0.025828   0.575          0.000004   \n",
       "\n",
       "   liveness  loudness  speechiness     tempo  valence  \n",
       "0  0.089890  0.683437     0.046804  0.613781   0.4300  \n",
       "1  0.089089  0.807966     0.069794  0.566883   0.0587  \n",
       "2  0.077177  0.760762     0.220619  0.311568   0.4640  \n",
       "3  0.394394  0.604653     0.975258  0.596833   0.2880  \n",
       "4  0.127127  0.825584     0.027320  0.571942   0.8010  "
      ]
     },
     "execution_count": 25,
     "metadata": {},
     "output_type": "execute_result"
    }
   ],
   "source": [
    "data[num_features].head(5)"
   ]
  },
  {
   "cell_type": "code",
   "execution_count": 26,
   "metadata": {
    "ExecuteTime": {
     "end_time": "2021-03-19T16:14:40.520273Z",
     "start_time": "2021-03-19T16:14:40.512785Z"
    },
    "hidden": true,
    "scrolled": true
   },
   "outputs": [
    {
     "data": {
      "text/plain": [
       "0        0.656627\n",
       "1        0.005944\n",
       "2        0.736948\n",
       "3        0.430723\n",
       "4        0.564257\n",
       "           ...   \n",
       "52312    0.164659\n",
       "52313    0.776104\n",
       "52314    0.457831\n",
       "52315    0.968876\n",
       "52316    0.545181\n",
       "Name: acousticness, Length: 52053, dtype: float64"
      ]
     },
     "execution_count": 26,
     "metadata": {},
     "output_type": "execute_result"
    }
   ],
   "source": [
    "data['acousticness']"
   ]
  },
  {
   "cell_type": "code",
   "execution_count": 27,
   "metadata": {
    "ExecuteTime": {
     "end_time": "2021-03-19T16:14:40.529880Z",
     "start_time": "2021-03-19T16:14:40.523589Z"
    },
    "hidden": true
   },
   "outputs": [
    {
     "data": {
      "text/plain": [
       "(52053, 18)"
      ]
     },
     "execution_count": 27,
     "metadata": {},
     "output_type": "execute_result"
    }
   ],
   "source": [
    "data.shape"
   ]
  },
  {
   "cell_type": "markdown",
   "metadata": {
    "heading_collapsed": true
   },
   "source": [
    "### Save your results\n",
    "\n",
    "Run the following cell to save your results."
   ]
  },
  {
   "cell_type": "code",
   "execution_count": 28,
   "metadata": {
    "ExecuteTime": {
     "end_time": "2021-03-19T16:14:40.581803Z",
     "start_time": "2021-03-19T16:14:40.532994Z"
    },
    "hidden": true
   },
   "outputs": [],
   "source": [
    "from nbresult import ChallengeResult\n",
    "\n",
    "ChallengeResult(\n",
    "    \"c5_data_cleaning\",\n",
    "    data=data).write()"
   ]
  },
  {
   "cell_type": "markdown",
   "metadata": {
    "heading_collapsed": true
   },
   "source": [
    "## Baseline"
   ]
  },
  {
   "cell_type": "markdown",
   "metadata": {
    "hidden": true
   },
   "source": [
    "**📝 We want to use a metric that measures the prediction error in the same unit than `popularity`. In addition, it should strongly penalize largest errors. Which sklearn's [metric](https://scikit-learn.org/stable/modules/model_evaluation.html) should we use? Store its exact name as string below**"
   ]
  },
  {
   "cell_type": "code",
   "execution_count": 29,
   "metadata": {
    "ExecuteTime": {
     "end_time": "2021-03-19T16:14:40.587359Z",
     "start_time": "2021-03-19T16:14:40.584537Z"
    },
    "hidden": true
   },
   "outputs": [],
   "source": [
    "scoring = \"neg_mean_squared_error\""
   ]
  },
  {
   "cell_type": "markdown",
   "metadata": {
    "hidden": true
   },
   "source": [
    "**📝 Let's build a baseline model using only the numerical features in our dataset.**\n",
    "- Build `X_baseline` with only numerical features\n",
    "- Build `y` your target containing the `popularity`\n",
    "- Then 5 times cross validate the baseline linear model of your choice (do not fine tune it)\n",
    "- Store your mean performance in a `float` variable named `baseline_score`"
   ]
  },
  {
   "cell_type": "code",
   "execution_count": 30,
   "metadata": {
    "ExecuteTime": {
     "end_time": "2021-03-19T16:14:40.609921Z",
     "start_time": "2021-03-19T16:14:40.590410Z"
    },
    "hidden": true,
    "scrolled": true
   },
   "outputs": [
    {
     "data": {
      "text/html": [
       "<div>\n",
       "<style scoped>\n",
       "    .dataframe tbody tr th:only-of-type {\n",
       "        vertical-align: middle;\n",
       "    }\n",
       "\n",
       "    .dataframe tbody tr th {\n",
       "        vertical-align: top;\n",
       "    }\n",
       "\n",
       "    .dataframe thead th {\n",
       "        text-align: right;\n",
       "    }\n",
       "</style>\n",
       "<table border=\"1\" class=\"dataframe\">\n",
       "  <thead>\n",
       "    <tr style=\"text-align: right;\">\n",
       "      <th></th>\n",
       "      <th>acousticness</th>\n",
       "      <th>danceability</th>\n",
       "      <th>duration_ms</th>\n",
       "      <th>energy</th>\n",
       "      <th>explicit</th>\n",
       "      <th>id</th>\n",
       "      <th>instrumentalness</th>\n",
       "      <th>key</th>\n",
       "      <th>liveness</th>\n",
       "      <th>loudness</th>\n",
       "      <th>mode</th>\n",
       "      <th>name</th>\n",
       "      <th>popularity</th>\n",
       "      <th>release_date</th>\n",
       "      <th>speechiness</th>\n",
       "      <th>tempo</th>\n",
       "      <th>valence</th>\n",
       "      <th>artist</th>\n",
       "    </tr>\n",
       "  </thead>\n",
       "  <tbody>\n",
       "    <tr>\n",
       "      <th>0</th>\n",
       "      <td>0.656627</td>\n",
       "      <td>0.506085</td>\n",
       "      <td>0.044604</td>\n",
       "      <td>0.19</td>\n",
       "      <td>0</td>\n",
       "      <td>0B6BeEUd6UwFlbsHMQKjob</td>\n",
       "      <td>0.00409</td>\n",
       "      <td>7</td>\n",
       "      <td>0.08989</td>\n",
       "      <td>0.683437</td>\n",
       "      <td>1</td>\n",
       "      <td>Back in the Goodle Days</td>\n",
       "      <td>40</td>\n",
       "      <td>1971</td>\n",
       "      <td>0.046804</td>\n",
       "      <td>0.613781</td>\n",
       "      <td>0.43</td>\n",
       "      <td>John Hartford</td>\n",
       "    </tr>\n",
       "  </tbody>\n",
       "</table>\n",
       "</div>"
      ],
      "text/plain": [
       "   acousticness  danceability  duration_ms  energy  explicit  \\\n",
       "0      0.656627      0.506085     0.044604    0.19         0   \n",
       "\n",
       "                       id  instrumentalness  key  liveness  loudness  mode  \\\n",
       "0  0B6BeEUd6UwFlbsHMQKjob           0.00409    7   0.08989  0.683437     1   \n",
       "\n",
       "                      name  popularity release_date  speechiness     tempo  \\\n",
       "0  Back in the Goodle Days          40         1971     0.046804  0.613781   \n",
       "\n",
       "   valence         artist  \n",
       "0     0.43  John Hartford  "
      ]
     },
     "execution_count": 30,
     "metadata": {},
     "output_type": "execute_result"
    }
   ],
   "source": [
    "data.head(1)"
   ]
  },
  {
   "cell_type": "code",
   "execution_count": 31,
   "metadata": {
    "ExecuteTime": {
     "end_time": "2021-03-19T16:14:40.620280Z",
     "start_time": "2021-03-19T16:14:40.612479Z"
    },
    "hidden": true
   },
   "outputs": [],
   "source": [
    "# Drop columns we won't train our model on\n",
    "X_baseline = data.drop(columns=['id','key','name','popularity'])\n",
    "y = data['popularity']"
   ]
  },
  {
   "cell_type": "code",
   "execution_count": 33,
   "metadata": {
    "ExecuteTime": {
     "end_time": "2021-03-19T16:15:56.690339Z",
     "start_time": "2021-03-19T16:15:56.653376Z"
    },
    "hidden": true
   },
   "outputs": [
    {
     "data": {
      "text/plain": [
       "-478.06912062179117"
      ]
     },
     "execution_count": 33,
     "metadata": {},
     "output_type": "execute_result"
    }
   ],
   "source": [
    "baseline_model = DummyRegressor(strategy=\"median\")\n",
    "cv_results = cross_validate(baseline_model, X_baseline, y, scoring=scoring)\n",
    "baseline_score = cv_results['test_score'].mean()\n",
    "baseline_score"
   ]
  },
  {
   "cell_type": "markdown",
   "metadata": {
    "hidden": true
   },
   "source": [
    "### Save your results\n",
    "\n",
    "Run the following cell to save your results."
   ]
  },
  {
   "cell_type": "code",
   "execution_count": null,
   "metadata": {
    "ExecuteTime": {
     "end_time": "2021-03-19T16:14:40.945696Z",
     "start_time": "2021-03-19T16:14:23.386Z"
    },
    "hidden": true
   },
   "outputs": [],
   "source": [
    "from nbresult import ChallengeResult\n",
    "\n",
    "ChallengeResult(\n",
    "    \"baseline\",\n",
    "    scoring=scoring,\n",
    "    baseline_score=baseline_score).write()"
   ]
  },
  {
   "cell_type": "markdown",
   "metadata": {},
   "source": [
    "## Feature engineering\n",
    "\n",
    "Let's now use the features that we left aside: `release_date` and `artist` to improve the performance of our model. We'll create them manually in a train vs. test context first (and pipeline them later)"
   ]
  },
  {
   "cell_type": "markdown",
   "metadata": {},
   "source": [
    "### holdout\n",
    "**📝 Create the 4 variables `X_train` `y_train`, `X_test`, `y_test` with a 50% split with random sampling**"
   ]
  },
  {
   "cell_type": "code",
   "execution_count": 34,
   "metadata": {
    "ExecuteTime": {
     "end_time": "2021-03-19T16:16:05.376298Z",
     "start_time": "2021-03-19T16:16:05.358435Z"
    }
   },
   "outputs": [],
   "source": [
    "X_train, X_test, y_train, y_test = train_test_split(X_baseline, y, test_size=0.5)"
   ]
  },
  {
   "cell_type": "markdown",
   "metadata": {
    "heading_collapsed": true
   },
   "source": [
    "### year\n",
    "\n",
    "**📝 Create `X_train_year` and `X_test_year` by adding the new column `year` containing the release year of the track as integer**"
   ]
  },
  {
   "cell_type": "code",
   "execution_count": 35,
   "metadata": {
    "ExecuteTime": {
     "end_time": "2021-03-19T16:16:06.361324Z",
     "start_time": "2021-03-19T16:16:06.354776Z"
    },
    "hidden": true
   },
   "outputs": [
    {
     "data": {
      "text/plain": [
       "(26026, 14)"
      ]
     },
     "execution_count": 35,
     "metadata": {},
     "output_type": "execute_result"
    }
   ],
   "source": [
    "X_train.shape"
   ]
  },
  {
   "cell_type": "code",
   "execution_count": 36,
   "metadata": {
    "ExecuteTime": {
     "end_time": "2021-03-19T16:16:06.900967Z",
     "start_time": "2021-03-19T16:16:06.886239Z"
    },
    "hidden": true
   },
   "outputs": [
    {
     "data": {
      "text/html": [
       "<div>\n",
       "<style scoped>\n",
       "    .dataframe tbody tr th:only-of-type {\n",
       "        vertical-align: middle;\n",
       "    }\n",
       "\n",
       "    .dataframe tbody tr th {\n",
       "        vertical-align: top;\n",
       "    }\n",
       "\n",
       "    .dataframe thead th {\n",
       "        text-align: right;\n",
       "    }\n",
       "</style>\n",
       "<table border=\"1\" class=\"dataframe\">\n",
       "  <thead>\n",
       "    <tr style=\"text-align: right;\">\n",
       "      <th></th>\n",
       "      <th>acousticness</th>\n",
       "      <th>danceability</th>\n",
       "      <th>duration_ms</th>\n",
       "      <th>energy</th>\n",
       "      <th>explicit</th>\n",
       "      <th>instrumentalness</th>\n",
       "      <th>liveness</th>\n",
       "      <th>loudness</th>\n",
       "      <th>mode</th>\n",
       "      <th>release_date</th>\n",
       "      <th>speechiness</th>\n",
       "      <th>tempo</th>\n",
       "      <th>valence</th>\n",
       "      <th>artist</th>\n",
       "    </tr>\n",
       "  </thead>\n",
       "  <tbody>\n",
       "    <tr>\n",
       "      <th>15155</th>\n",
       "      <td>0.990964</td>\n",
       "      <td>0.167343</td>\n",
       "      <td>0.038632</td>\n",
       "      <td>0.254</td>\n",
       "      <td>0</td>\n",
       "      <td>0.00437</td>\n",
       "      <td>0.084084</td>\n",
       "      <td>0.754785</td>\n",
       "      <td>1</td>\n",
       "      <td>1951</td>\n",
       "      <td>0.032268</td>\n",
       "      <td>0.314833</td>\n",
       "      <td>0.146</td>\n",
       "      <td>Jerome Kern</td>\n",
       "    </tr>\n",
       "  </tbody>\n",
       "</table>\n",
       "</div>"
      ],
      "text/plain": [
       "       acousticness  danceability  duration_ms  energy  explicit  \\\n",
       "15155      0.990964      0.167343     0.038632   0.254         0   \n",
       "\n",
       "       instrumentalness  liveness  loudness  mode release_date  speechiness  \\\n",
       "15155           0.00437  0.084084  0.754785     1         1951     0.032268   \n",
       "\n",
       "          tempo  valence       artist  \n",
       "15155  0.314833    0.146  Jerome Kern  "
      ]
     },
     "execution_count": 36,
     "metadata": {},
     "output_type": "execute_result"
    }
   ],
   "source": [
    "X_train.head(1)"
   ]
  },
  {
   "cell_type": "code",
   "execution_count": 37,
   "metadata": {
    "ExecuteTime": {
     "end_time": "2021-03-19T16:16:09.084831Z",
     "start_time": "2021-03-19T16:16:09.076391Z"
    },
    "hidden": true
   },
   "outputs": [],
   "source": [
    "X_train_year = X_train.copy()\n",
    "X_test_year = X_test.copy()"
   ]
  },
  {
   "cell_type": "code",
   "execution_count": 38,
   "metadata": {
    "ExecuteTime": {
     "end_time": "2021-03-19T16:16:09.728609Z",
     "start_time": "2021-03-19T16:16:09.672667Z"
    },
    "hidden": true
   },
   "outputs": [],
   "source": [
    "# Convert to year\n",
    "X_train_year['year'] = X_train_year['release_date'].apply(lambda x: int(str(x)[:4]))\n",
    "X_train_year.drop(columns='release_date', inplace = True)\n",
    "\n",
    "X_test_year['year'] = X_test_year['release_date'].apply(lambda x: int(str(x)[:4]))\n",
    "X_test_year.drop(columns='release_date', inplace = True)"
   ]
  },
  {
   "cell_type": "code",
   "execution_count": 39,
   "metadata": {
    "ExecuteTime": {
     "end_time": "2021-03-19T16:16:10.341993Z",
     "start_time": "2021-03-19T16:16:10.325554Z"
    },
    "hidden": true
   },
   "outputs": [
    {
     "data": {
      "text/html": [
       "<div>\n",
       "<style scoped>\n",
       "    .dataframe tbody tr th:only-of-type {\n",
       "        vertical-align: middle;\n",
       "    }\n",
       "\n",
       "    .dataframe tbody tr th {\n",
       "        vertical-align: top;\n",
       "    }\n",
       "\n",
       "    .dataframe thead th {\n",
       "        text-align: right;\n",
       "    }\n",
       "</style>\n",
       "<table border=\"1\" class=\"dataframe\">\n",
       "  <thead>\n",
       "    <tr style=\"text-align: right;\">\n",
       "      <th></th>\n",
       "      <th>acousticness</th>\n",
       "      <th>danceability</th>\n",
       "      <th>duration_ms</th>\n",
       "      <th>energy</th>\n",
       "      <th>explicit</th>\n",
       "      <th>instrumentalness</th>\n",
       "      <th>liveness</th>\n",
       "      <th>loudness</th>\n",
       "      <th>mode</th>\n",
       "      <th>release_date</th>\n",
       "      <th>speechiness</th>\n",
       "      <th>tempo</th>\n",
       "      <th>valence</th>\n",
       "      <th>artist</th>\n",
       "    </tr>\n",
       "  </thead>\n",
       "  <tbody>\n",
       "    <tr>\n",
       "      <th>15155</th>\n",
       "      <td>0.990964</td>\n",
       "      <td>0.167343</td>\n",
       "      <td>0.038632</td>\n",
       "      <td>0.254</td>\n",
       "      <td>0</td>\n",
       "      <td>0.00437</td>\n",
       "      <td>0.084084</td>\n",
       "      <td>0.754785</td>\n",
       "      <td>1</td>\n",
       "      <td>1951</td>\n",
       "      <td>0.032268</td>\n",
       "      <td>0.314833</td>\n",
       "      <td>0.146</td>\n",
       "      <td>Jerome Kern</td>\n",
       "    </tr>\n",
       "  </tbody>\n",
       "</table>\n",
       "</div>"
      ],
      "text/plain": [
       "       acousticness  danceability  duration_ms  energy  explicit  \\\n",
       "15155      0.990964      0.167343     0.038632   0.254         0   \n",
       "\n",
       "       instrumentalness  liveness  loudness  mode release_date  speechiness  \\\n",
       "15155           0.00437  0.084084  0.754785     1         1951     0.032268   \n",
       "\n",
       "          tempo  valence       artist  \n",
       "15155  0.314833    0.146  Jerome Kern  "
      ]
     },
     "execution_count": 39,
     "metadata": {},
     "output_type": "execute_result"
    }
   ],
   "source": [
    "X_train.head(1)"
   ]
  },
  {
   "cell_type": "code",
   "execution_count": 40,
   "metadata": {
    "ExecuteTime": {
     "end_time": "2021-03-19T16:16:11.144811Z",
     "start_time": "2021-03-19T16:16:11.141803Z"
    },
    "hidden": true,
    "scrolled": true
   },
   "outputs": [
    {
     "name": "stdout",
     "output_type": "stream",
     "text": [
      "(26027, 14)\n",
      "(26027, 14)\n"
     ]
    }
   ],
   "source": [
    "print(X_test.shape)\n",
    "print(X_test_year.shape)"
   ]
  },
  {
   "cell_type": "code",
   "execution_count": 41,
   "metadata": {
    "ExecuteTime": {
     "end_time": "2021-03-19T16:16:11.822218Z",
     "start_time": "2021-03-19T16:16:11.806876Z"
    },
    "hidden": true,
    "scrolled": true
   },
   "outputs": [
    {
     "data": {
      "text/html": [
       "<div>\n",
       "<style scoped>\n",
       "    .dataframe tbody tr th:only-of-type {\n",
       "        vertical-align: middle;\n",
       "    }\n",
       "\n",
       "    .dataframe tbody tr th {\n",
       "        vertical-align: top;\n",
       "    }\n",
       "\n",
       "    .dataframe thead th {\n",
       "        text-align: right;\n",
       "    }\n",
       "</style>\n",
       "<table border=\"1\" class=\"dataframe\">\n",
       "  <thead>\n",
       "    <tr style=\"text-align: right;\">\n",
       "      <th></th>\n",
       "      <th>acousticness</th>\n",
       "      <th>danceability</th>\n",
       "      <th>duration_ms</th>\n",
       "      <th>energy</th>\n",
       "      <th>explicit</th>\n",
       "      <th>instrumentalness</th>\n",
       "      <th>liveness</th>\n",
       "      <th>loudness</th>\n",
       "      <th>mode</th>\n",
       "      <th>speechiness</th>\n",
       "      <th>tempo</th>\n",
       "      <th>valence</th>\n",
       "      <th>artist</th>\n",
       "      <th>year</th>\n",
       "    </tr>\n",
       "  </thead>\n",
       "  <tbody>\n",
       "    <tr>\n",
       "      <th>15155</th>\n",
       "      <td>0.990964</td>\n",
       "      <td>0.167343</td>\n",
       "      <td>0.038632</td>\n",
       "      <td>0.254</td>\n",
       "      <td>0</td>\n",
       "      <td>0.00437</td>\n",
       "      <td>0.084084</td>\n",
       "      <td>0.754785</td>\n",
       "      <td>1</td>\n",
       "      <td>0.032268</td>\n",
       "      <td>0.314833</td>\n",
       "      <td>0.146</td>\n",
       "      <td>Jerome Kern</td>\n",
       "      <td>1951</td>\n",
       "    </tr>\n",
       "  </tbody>\n",
       "</table>\n",
       "</div>"
      ],
      "text/plain": [
       "       acousticness  danceability  duration_ms  energy  explicit  \\\n",
       "15155      0.990964      0.167343     0.038632   0.254         0   \n",
       "\n",
       "       instrumentalness  liveness  loudness  mode  speechiness     tempo  \\\n",
       "15155           0.00437  0.084084  0.754785     1     0.032268  0.314833   \n",
       "\n",
       "       valence       artist  year  \n",
       "15155    0.146  Jerome Kern  1951  "
      ]
     },
     "execution_count": 41,
     "metadata": {},
     "output_type": "execute_result"
    }
   ],
   "source": [
    "X_train_year.head(1)"
   ]
  },
  {
   "cell_type": "code",
   "execution_count": 42,
   "metadata": {
    "ExecuteTime": {
     "end_time": "2021-03-19T16:16:12.615263Z",
     "start_time": "2021-03-19T16:16:12.605582Z"
    },
    "hidden": true
   },
   "outputs": [
    {
     "data": {
      "text/plain": [
       "acousticness                       1.000000\n",
       "danceability                       0.478702\n",
       "duration_ms                        0.038477\n",
       "energy                             0.323000\n",
       "explicit                                  0\n",
       "id                   4eX2bbX3zqj8WY3ZGR3iEH\n",
       "instrumentalness                   0.452000\n",
       "key                                      10\n",
       "liveness                           0.129129\n",
       "loudness                           0.710404\n",
       "mode                                      0\n",
       "name                To fili den einai krima\n",
       "popularity                                0\n",
       "release_date                     1940-01-01\n",
       "speechiness                        0.078969\n",
       "tempo                              0.681837\n",
       "valence                            0.955000\n",
       "artist                     Mixalis Kalergis\n",
       "Name: 27053, dtype: object"
      ]
     },
     "execution_count": 42,
     "metadata": {},
     "output_type": "execute_result"
    }
   ],
   "source": [
    "data.loc[27053]"
   ]
  },
  {
   "cell_type": "code",
   "execution_count": 43,
   "metadata": {
    "ExecuteTime": {
     "end_time": "2021-03-19T16:16:13.396367Z",
     "start_time": "2021-03-19T16:16:13.380053Z"
    },
    "hidden": true
   },
   "outputs": [
    {
     "data": {
      "text/html": [
       "<div>\n",
       "<style scoped>\n",
       "    .dataframe tbody tr th:only-of-type {\n",
       "        vertical-align: middle;\n",
       "    }\n",
       "\n",
       "    .dataframe tbody tr th {\n",
       "        vertical-align: top;\n",
       "    }\n",
       "\n",
       "    .dataframe thead th {\n",
       "        text-align: right;\n",
       "    }\n",
       "</style>\n",
       "<table border=\"1\" class=\"dataframe\">\n",
       "  <thead>\n",
       "    <tr style=\"text-align: right;\">\n",
       "      <th></th>\n",
       "      <th>acousticness</th>\n",
       "      <th>danceability</th>\n",
       "      <th>duration_ms</th>\n",
       "      <th>energy</th>\n",
       "      <th>explicit</th>\n",
       "      <th>instrumentalness</th>\n",
       "      <th>liveness</th>\n",
       "      <th>loudness</th>\n",
       "      <th>mode</th>\n",
       "      <th>release_date</th>\n",
       "      <th>speechiness</th>\n",
       "      <th>tempo</th>\n",
       "      <th>valence</th>\n",
       "      <th>artist</th>\n",
       "    </tr>\n",
       "  </thead>\n",
       "  <tbody>\n",
       "    <tr>\n",
       "      <th>8073</th>\n",
       "      <td>0.673695</td>\n",
       "      <td>0.767748</td>\n",
       "      <td>0.033633</td>\n",
       "      <td>0.45</td>\n",
       "      <td>0</td>\n",
       "      <td>0.000085</td>\n",
       "      <td>0.08028</td>\n",
       "      <td>0.670024</td>\n",
       "      <td>0</td>\n",
       "      <td>1972-09-12</td>\n",
       "      <td>0.428866</td>\n",
       "      <td>0.38688</td>\n",
       "      <td>0.962</td>\n",
       "      <td>The Chakachas</td>\n",
       "    </tr>\n",
       "  </tbody>\n",
       "</table>\n",
       "</div>"
      ],
      "text/plain": [
       "      acousticness  danceability  duration_ms  energy  explicit  \\\n",
       "8073      0.673695      0.767748     0.033633    0.45         0   \n",
       "\n",
       "      instrumentalness  liveness  loudness  mode release_date  speechiness  \\\n",
       "8073          0.000085   0.08028  0.670024     0   1972-09-12     0.428866   \n",
       "\n",
       "        tempo  valence         artist  \n",
       "8073  0.38688    0.962  The Chakachas  "
      ]
     },
     "execution_count": 43,
     "metadata": {},
     "output_type": "execute_result"
    }
   ],
   "source": [
    "X_test.head(1)"
   ]
  },
  {
   "cell_type": "code",
   "execution_count": 44,
   "metadata": {
    "ExecuteTime": {
     "end_time": "2021-03-19T16:16:14.265286Z",
     "start_time": "2021-03-19T16:16:14.248422Z"
    },
    "hidden": true
   },
   "outputs": [
    {
     "data": {
      "text/html": [
       "<div>\n",
       "<style scoped>\n",
       "    .dataframe tbody tr th:only-of-type {\n",
       "        vertical-align: middle;\n",
       "    }\n",
       "\n",
       "    .dataframe tbody tr th {\n",
       "        vertical-align: top;\n",
       "    }\n",
       "\n",
       "    .dataframe thead th {\n",
       "        text-align: right;\n",
       "    }\n",
       "</style>\n",
       "<table border=\"1\" class=\"dataframe\">\n",
       "  <thead>\n",
       "    <tr style=\"text-align: right;\">\n",
       "      <th></th>\n",
       "      <th>acousticness</th>\n",
       "      <th>danceability</th>\n",
       "      <th>duration_ms</th>\n",
       "      <th>energy</th>\n",
       "      <th>explicit</th>\n",
       "      <th>instrumentalness</th>\n",
       "      <th>liveness</th>\n",
       "      <th>loudness</th>\n",
       "      <th>mode</th>\n",
       "      <th>speechiness</th>\n",
       "      <th>tempo</th>\n",
       "      <th>valence</th>\n",
       "      <th>artist</th>\n",
       "      <th>year</th>\n",
       "    </tr>\n",
       "  </thead>\n",
       "  <tbody>\n",
       "    <tr>\n",
       "      <th>8073</th>\n",
       "      <td>0.673695</td>\n",
       "      <td>0.767748</td>\n",
       "      <td>0.033633</td>\n",
       "      <td>0.45</td>\n",
       "      <td>0</td>\n",
       "      <td>0.000085</td>\n",
       "      <td>0.08028</td>\n",
       "      <td>0.670024</td>\n",
       "      <td>0</td>\n",
       "      <td>0.428866</td>\n",
       "      <td>0.38688</td>\n",
       "      <td>0.962</td>\n",
       "      <td>The Chakachas</td>\n",
       "      <td>1972</td>\n",
       "    </tr>\n",
       "  </tbody>\n",
       "</table>\n",
       "</div>"
      ],
      "text/plain": [
       "      acousticness  danceability  duration_ms  energy  explicit  \\\n",
       "8073      0.673695      0.767748     0.033633    0.45         0   \n",
       "\n",
       "      instrumentalness  liveness  loudness  mode  speechiness    tempo  \\\n",
       "8073          0.000085   0.08028  0.670024     0     0.428866  0.38688   \n",
       "\n",
       "      valence         artist  year  \n",
       "8073    0.962  The Chakachas  1972  "
      ]
     },
     "execution_count": 44,
     "metadata": {},
     "output_type": "execute_result"
    }
   ],
   "source": [
    "X_test_year.head(1)"
   ]
  },
  {
   "cell_type": "markdown",
   "metadata": {
    "heading_collapsed": true
   },
   "source": [
    "### artist\n",
    "\n",
    "How could we use the `artist` column? There are too many artists to one hot encode it.  \n",
    "We could instead create an `artist_popularity` feature containing the mean popularity of an artist, computed as the mean popularity of all tracks the artist released _on the train set_."
   ]
  },
  {
   "cell_type": "markdown",
   "metadata": {
    "hidden": true
   },
   "source": [
    "#### Process artist popularity from the Training set\n",
    "\n",
    "**📝 Compute and store the `artist_popularity` as a new pandas `Series`**  "
   ]
  },
  {
   "cell_type": "code",
   "execution_count": 45,
   "metadata": {
    "ExecuteTime": {
     "end_time": "2021-03-19T16:16:17.362021Z",
     "start_time": "2021-03-19T16:16:17.343912Z"
    },
    "hidden": true
   },
   "outputs": [],
   "source": [
    "artist_n_pop = pd.concat([X_train,y_train], axis=1)\n",
    "artist_n_pop = artist_n_pop[['artist','popularity']]"
   ]
  },
  {
   "cell_type": "code",
   "execution_count": 46,
   "metadata": {
    "ExecuteTime": {
     "end_time": "2021-03-19T16:16:17.734765Z",
     "start_time": "2021-03-19T16:16:17.728833Z"
    },
    "hidden": true
   },
   "outputs": [
    {
     "data": {
      "text/html": [
       "<div>\n",
       "<style scoped>\n",
       "    .dataframe tbody tr th:only-of-type {\n",
       "        vertical-align: middle;\n",
       "    }\n",
       "\n",
       "    .dataframe tbody tr th {\n",
       "        vertical-align: top;\n",
       "    }\n",
       "\n",
       "    .dataframe thead th {\n",
       "        text-align: right;\n",
       "    }\n",
       "</style>\n",
       "<table border=\"1\" class=\"dataframe\">\n",
       "  <thead>\n",
       "    <tr style=\"text-align: right;\">\n",
       "      <th></th>\n",
       "      <th>artist</th>\n",
       "      <th>popularity</th>\n",
       "    </tr>\n",
       "  </thead>\n",
       "  <tbody>\n",
       "    <tr>\n",
       "      <th>15155</th>\n",
       "      <td>Jerome Kern</td>\n",
       "      <td>1</td>\n",
       "    </tr>\n",
       "  </tbody>\n",
       "</table>\n",
       "</div>"
      ],
      "text/plain": [
       "            artist  popularity\n",
       "15155  Jerome Kern           1"
      ]
     },
     "execution_count": 46,
     "metadata": {},
     "output_type": "execute_result"
    }
   ],
   "source": [
    "artist_n_pop.head(1)"
   ]
  },
  {
   "cell_type": "code",
   "execution_count": 47,
   "metadata": {
    "ExecuteTime": {
     "end_time": "2021-03-19T16:16:18.387832Z",
     "start_time": "2021-03-19T16:16:18.361471Z"
    },
    "hidden": true
   },
   "outputs": [
    {
     "data": {
      "text/html": [
       "<div>\n",
       "<style scoped>\n",
       "    .dataframe tbody tr th:only-of-type {\n",
       "        vertical-align: middle;\n",
       "    }\n",
       "\n",
       "    .dataframe tbody tr th {\n",
       "        vertical-align: top;\n",
       "    }\n",
       "\n",
       "    .dataframe thead th {\n",
       "        text-align: right;\n",
       "    }\n",
       "</style>\n",
       "<table border=\"1\" class=\"dataframe\">\n",
       "  <thead>\n",
       "    <tr style=\"text-align: right;\">\n",
       "      <th></th>\n",
       "      <th>popularity</th>\n",
       "    </tr>\n",
       "    <tr>\n",
       "      <th>artist</th>\n",
       "      <th></th>\n",
       "    </tr>\n",
       "  </thead>\n",
       "  <tbody>\n",
       "    <tr>\n",
       "      <th>\"Test for Victor Young\"</th>\n",
       "      <td>3.0</td>\n",
       "    </tr>\n",
       "  </tbody>\n",
       "</table>\n",
       "</div>"
      ],
      "text/plain": [
       "                         popularity\n",
       "artist                             \n",
       "\"Test for Victor Young\"         3.0"
      ]
     },
     "execution_count": 47,
     "metadata": {},
     "output_type": "execute_result"
    }
   ],
   "source": [
    "artist_popularity = artist_n_pop.groupby('artist').mean()\n",
    "artist_popularity.head(1)"
   ]
  },
  {
   "cell_type": "markdown",
   "metadata": {
    "hidden": true
   },
   "source": [
    "#### Apply the artist popularity to `X_train_year`\n",
    "\n",
    "**📝 Create a new DataFrame `X_train_engineered` which adds a new column to the existing `X_train_year` with the `artist_popularity` corresponding to the song's artist.** \n",
    "\n",
    "🚨 Make sure that the target `popularity` does not end up in `X_train_engineered` "
   ]
  },
  {
   "cell_type": "code",
   "execution_count": 48,
   "metadata": {
    "ExecuteTime": {
     "end_time": "2021-03-19T16:16:19.422008Z",
     "start_time": "2021-03-19T16:16:19.416434Z"
    },
    "hidden": true
   },
   "outputs": [],
   "source": [
    "X_train_engineered = X_train_year.copy()"
   ]
  },
  {
   "cell_type": "code",
   "execution_count": 49,
   "metadata": {
    "ExecuteTime": {
     "end_time": "2021-03-19T16:16:19.885602Z",
     "start_time": "2021-03-19T16:16:19.872769Z"
    },
    "hidden": true
   },
   "outputs": [],
   "source": [
    "X_train_engineered = X_train_engineered.join(artist_popularity, on='artist')"
   ]
  },
  {
   "cell_type": "code",
   "execution_count": 50,
   "metadata": {
    "ExecuteTime": {
     "end_time": "2021-03-19T16:16:20.287820Z",
     "start_time": "2021-03-19T16:16:20.275142Z"
    },
    "hidden": true
   },
   "outputs": [
    {
     "data": {
      "text/plain": [
       "Index(['acousticness', 'danceability', 'duration_ms', 'energy', 'explicit',\n",
       "       'instrumentalness', 'liveness', 'loudness', 'mode', 'speechiness',\n",
       "       'tempo', 'valence', 'artist', 'year', 'popularity'],\n",
       "      dtype='object')"
      ]
     },
     "execution_count": 50,
     "metadata": {},
     "output_type": "execute_result"
    }
   ],
   "source": [
    "X_train_engineered.columns"
   ]
  },
  {
   "cell_type": "code",
   "execution_count": 51,
   "metadata": {
    "ExecuteTime": {
     "end_time": "2021-03-19T16:16:20.686570Z",
     "start_time": "2021-03-19T16:16:20.682487Z"
    },
    "hidden": true,
    "scrolled": true
   },
   "outputs": [],
   "source": [
    "X_train_engineered.rename(columns={'popularity': 'artist_popularity'}, inplace=True)"
   ]
  },
  {
   "cell_type": "code",
   "execution_count": 52,
   "metadata": {
    "ExecuteTime": {
     "end_time": "2021-03-19T16:16:21.148948Z",
     "start_time": "2021-03-19T16:16:21.133511Z"
    },
    "hidden": true,
    "scrolled": true
   },
   "outputs": [
    {
     "data": {
      "text/html": [
       "<div>\n",
       "<style scoped>\n",
       "    .dataframe tbody tr th:only-of-type {\n",
       "        vertical-align: middle;\n",
       "    }\n",
       "\n",
       "    .dataframe tbody tr th {\n",
       "        vertical-align: top;\n",
       "    }\n",
       "\n",
       "    .dataframe thead th {\n",
       "        text-align: right;\n",
       "    }\n",
       "</style>\n",
       "<table border=\"1\" class=\"dataframe\">\n",
       "  <thead>\n",
       "    <tr style=\"text-align: right;\">\n",
       "      <th></th>\n",
       "      <th>acousticness</th>\n",
       "      <th>danceability</th>\n",
       "      <th>duration_ms</th>\n",
       "      <th>energy</th>\n",
       "      <th>explicit</th>\n",
       "      <th>instrumentalness</th>\n",
       "      <th>liveness</th>\n",
       "      <th>loudness</th>\n",
       "      <th>mode</th>\n",
       "      <th>speechiness</th>\n",
       "      <th>tempo</th>\n",
       "      <th>valence</th>\n",
       "      <th>artist</th>\n",
       "      <th>year</th>\n",
       "      <th>artist_popularity</th>\n",
       "    </tr>\n",
       "  </thead>\n",
       "  <tbody>\n",
       "    <tr>\n",
       "      <th>15155</th>\n",
       "      <td>0.990964</td>\n",
       "      <td>0.167343</td>\n",
       "      <td>0.038632</td>\n",
       "      <td>0.254</td>\n",
       "      <td>0</td>\n",
       "      <td>0.00437</td>\n",
       "      <td>0.084084</td>\n",
       "      <td>0.754785</td>\n",
       "      <td>1</td>\n",
       "      <td>0.032268</td>\n",
       "      <td>0.314833</td>\n",
       "      <td>0.146</td>\n",
       "      <td>Jerome Kern</td>\n",
       "      <td>1951</td>\n",
       "      <td>0.5</td>\n",
       "    </tr>\n",
       "  </tbody>\n",
       "</table>\n",
       "</div>"
      ],
      "text/plain": [
       "       acousticness  danceability  duration_ms  energy  explicit  \\\n",
       "15155      0.990964      0.167343     0.038632   0.254         0   \n",
       "\n",
       "       instrumentalness  liveness  loudness  mode  speechiness     tempo  \\\n",
       "15155           0.00437  0.084084  0.754785     1     0.032268  0.314833   \n",
       "\n",
       "       valence       artist  year  artist_popularity  \n",
       "15155    0.146  Jerome Kern  1951                0.5  "
      ]
     },
     "execution_count": 52,
     "metadata": {},
     "output_type": "execute_result"
    }
   ],
   "source": [
    "X_train_engineered.head(1)"
   ]
  },
  {
   "cell_type": "markdown",
   "metadata": {
    "hidden": true
   },
   "source": [
    "#### Apply the artist popularity to `X_test_year`\n",
    "\n",
    "**📝 Similarily, create a new DataFrame `X_test_engineered` which also adds a new column to the existing `X_test_year` with the `artist_popularity` corresponding to the song's artist, computed from the training set.**\n",
    "\n",
    "🚨**If an artist has never been seen in the training set, use the global mean popularity of all the tracks of `X_train`**"
   ]
  },
  {
   "cell_type": "code",
   "execution_count": 53,
   "metadata": {
    "ExecuteTime": {
     "end_time": "2021-03-19T16:16:22.657006Z",
     "start_time": "2021-03-19T16:16:22.651692Z"
    },
    "hidden": true
   },
   "outputs": [
    {
     "data": {
      "text/plain": [
       "25.717628525320833"
      ]
     },
     "execution_count": 53,
     "metadata": {},
     "output_type": "execute_result"
    }
   ],
   "source": [
    "global_mean_pop = y_train.mean()\n",
    "global_mean_pop"
   ]
  },
  {
   "cell_type": "code",
   "execution_count": 54,
   "metadata": {
    "ExecuteTime": {
     "end_time": "2021-03-19T16:16:23.106632Z",
     "start_time": "2021-03-19T16:16:23.092372Z"
    },
    "hidden": true
   },
   "outputs": [],
   "source": [
    "X_test_engineered = X_test_year.copy()\n",
    "X_test_engineered = X_test_engineered.join(artist_popularity, on='artist', how='left')\n",
    "X_test_engineered.rename(columns={'popularity': 'artist_popularity'}, inplace=True)"
   ]
  },
  {
   "cell_type": "code",
   "execution_count": 55,
   "metadata": {
    "ExecuteTime": {
     "end_time": "2021-03-19T16:16:23.772228Z",
     "start_time": "2021-03-19T16:16:23.767500Z"
    },
    "hidden": true
   },
   "outputs": [],
   "source": [
    "X_test_engineered.artist_popularity.fillna(global_mean_pop, inplace=True)"
   ]
  },
  {
   "cell_type": "code",
   "execution_count": 56,
   "metadata": {
    "ExecuteTime": {
     "end_time": "2021-03-19T16:16:24.599856Z",
     "start_time": "2021-03-19T16:16:24.591520Z"
    },
    "hidden": true
   },
   "outputs": [
    {
     "data": {
      "text/plain": [
       "8073     38.000000\n",
       "16445     1.000000\n",
       "47412     5.537415\n",
       "17517    25.717629\n",
       "32674    51.000000\n",
       "           ...    \n",
       "46495     0.114458\n",
       "28320    29.000000\n",
       "22272    37.833333\n",
       "5468     10.000000\n",
       "52174    36.500000\n",
       "Name: artist_popularity, Length: 26027, dtype: float64"
      ]
     },
     "execution_count": 56,
     "metadata": {},
     "output_type": "execute_result"
    }
   ],
   "source": [
    "X_test_engineered.artist_popularity"
   ]
  },
  {
   "cell_type": "code",
   "execution_count": 57,
   "metadata": {
    "ExecuteTime": {
     "end_time": "2021-03-19T16:16:25.712525Z",
     "start_time": "2021-03-19T16:16:25.692228Z"
    },
    "hidden": true
   },
   "outputs": [
    {
     "data": {
      "text/html": [
       "<div>\n",
       "<style scoped>\n",
       "    .dataframe tbody tr th:only-of-type {\n",
       "        vertical-align: middle;\n",
       "    }\n",
       "\n",
       "    .dataframe tbody tr th {\n",
       "        vertical-align: top;\n",
       "    }\n",
       "\n",
       "    .dataframe thead th {\n",
       "        text-align: right;\n",
       "    }\n",
       "</style>\n",
       "<table border=\"1\" class=\"dataframe\">\n",
       "  <thead>\n",
       "    <tr style=\"text-align: right;\">\n",
       "      <th></th>\n",
       "      <th>acousticness</th>\n",
       "      <th>danceability</th>\n",
       "      <th>duration_ms</th>\n",
       "      <th>energy</th>\n",
       "      <th>explicit</th>\n",
       "      <th>instrumentalness</th>\n",
       "      <th>liveness</th>\n",
       "      <th>loudness</th>\n",
       "      <th>mode</th>\n",
       "      <th>speechiness</th>\n",
       "      <th>tempo</th>\n",
       "      <th>valence</th>\n",
       "      <th>artist</th>\n",
       "      <th>year</th>\n",
       "      <th>artist_popularity</th>\n",
       "    </tr>\n",
       "  </thead>\n",
       "  <tbody>\n",
       "    <tr>\n",
       "      <th>8073</th>\n",
       "      <td>0.673695</td>\n",
       "      <td>0.767748</td>\n",
       "      <td>0.033633</td>\n",
       "      <td>0.45</td>\n",
       "      <td>0</td>\n",
       "      <td>0.000085</td>\n",
       "      <td>0.08028</td>\n",
       "      <td>0.670024</td>\n",
       "      <td>0</td>\n",
       "      <td>0.428866</td>\n",
       "      <td>0.38688</td>\n",
       "      <td>0.962</td>\n",
       "      <td>The Chakachas</td>\n",
       "      <td>1972</td>\n",
       "      <td>38.0</td>\n",
       "    </tr>\n",
       "  </tbody>\n",
       "</table>\n",
       "</div>"
      ],
      "text/plain": [
       "      acousticness  danceability  duration_ms  energy  explicit  \\\n",
       "8073      0.673695      0.767748     0.033633    0.45         0   \n",
       "\n",
       "      instrumentalness  liveness  loudness  mode  speechiness    tempo  \\\n",
       "8073          0.000085   0.08028  0.670024     0     0.428866  0.38688   \n",
       "\n",
       "      valence         artist  year  artist_popularity  \n",
       "8073    0.962  The Chakachas  1972               38.0  "
      ]
     },
     "execution_count": 57,
     "metadata": {},
     "output_type": "execute_result"
    }
   ],
   "source": [
    "X_test_engineered.head(1)"
   ]
  },
  {
   "cell_type": "markdown",
   "metadata": {},
   "source": [
    "### Save your results\n",
    "\n",
    "Run the following cell to save your results."
   ]
  },
  {
   "cell_type": "code",
   "execution_count": 58,
   "metadata": {
    "ExecuteTime": {
     "end_time": "2021-03-19T16:16:26.961324Z",
     "start_time": "2021-03-19T16:16:26.938098Z"
    }
   },
   "outputs": [],
   "source": [
    "from nbresult import ChallengeResult\n",
    "\n",
    "_ = pd.concat([X_train_engineered, X_test_engineered])\n",
    "\n",
    "ChallengeResult(\"c7_feature_engineering\",\n",
    "    shape = _.shape,\n",
    "    cols = _.columns,\n",
    "    years = _.get(\"year\"),\n",
    "    popularities = _.get(\"artist_popularity\"),\n",
    ").write()"
   ]
  },
  {
   "cell_type": "markdown",
   "metadata": {
    "heading_collapsed": true
   },
   "source": [
    "### Performance\n",
    "\n",
    "**📝 Let's see how these features impact the performance of our model. Retrain the same baseline model on numerical values only, but adding the new features `year` and `artist_popularity`, and see how the performance is impacted. Save the performance in a `float` variable named `score_engineered`**\n",
    "\n",
    "👉 Do not fine tune the model yet"
   ]
  },
  {
   "cell_type": "code",
   "execution_count": 59,
   "metadata": {
    "ExecuteTime": {
     "end_time": "2021-03-19T16:16:29.428204Z",
     "start_time": "2021-03-19T16:16:29.421606Z"
    },
    "hidden": true
   },
   "outputs": [],
   "source": [
    "X_train_eng_baseline = X_train_engineered.drop(columns='artist')"
   ]
  },
  {
   "cell_type": "code",
   "execution_count": 60,
   "metadata": {
    "ExecuteTime": {
     "end_time": "2021-03-19T16:16:29.960178Z",
     "start_time": "2021-03-19T16:16:29.955630Z"
    },
    "hidden": true
   },
   "outputs": [
    {
     "data": {
      "text/plain": [
       "Index(['acousticness', 'danceability', 'duration_ms', 'energy', 'explicit',\n",
       "       'instrumentalness', 'liveness', 'loudness', 'mode', 'speechiness',\n",
       "       'tempo', 'valence', 'year', 'artist_popularity'],\n",
       "      dtype='object')"
      ]
     },
     "execution_count": 60,
     "metadata": {},
     "output_type": "execute_result"
    }
   ],
   "source": [
    "X_train_eng_baseline.columns"
   ]
  },
  {
   "cell_type": "code",
   "execution_count": 61,
   "metadata": {
    "ExecuteTime": {
     "end_time": "2021-03-19T16:16:30.699858Z",
     "start_time": "2021-03-19T16:16:30.676001Z"
    },
    "hidden": true
   },
   "outputs": [
    {
     "data": {
      "text/plain": [
       "-476.9073574605227"
      ]
     },
     "execution_count": 61,
     "metadata": {},
     "output_type": "execute_result"
    }
   ],
   "source": [
    "baseline_model_2 = DummyRegressor(strategy=\"median\")\n",
    "cv_results = cross_validate(baseline_model_2, X_train_eng_baseline, y_train, scoring=scoring)\n",
    "score_engineered = cv_results['test_score'].mean()\n",
    "score_engineered"
   ]
  },
  {
   "cell_type": "markdown",
   "metadata": {
    "heading_collapsed": true
   },
   "source": [
    "### Save your results\n",
    "\n",
    "Run the following cell to save your results."
   ]
  },
  {
   "cell_type": "code",
   "execution_count": 62,
   "metadata": {
    "ExecuteTime": {
     "end_time": "2021-03-19T16:16:32.726936Z",
     "start_time": "2021-03-19T16:16:32.722061Z"
    },
    "hidden": true
   },
   "outputs": [],
   "source": [
    "from nbresult import ChallengeResult\n",
    "\n",
    "ChallengeResult(\n",
    "    \"c7_score_engineering\",\n",
    "    scoring=scoring,\n",
    "    score_engineered=score_engineered).write()"
   ]
  },
  {
   "cell_type": "markdown",
   "metadata": {
    "heading_collapsed": true
   },
   "source": [
    "## Pipelining\n",
    "\n",
    "**📝 Let's create a full sklearn preprocessing pipeline called `preproc`. It should integrate our feature engineering for `year` and `artist_popularity`, as well as any other preprocessing of your choice**\n",
    "\n",
    "**Store also the number of columns/feature after preprocessing your inputs in a variable `col_number`**\n",
    "\n",
    "**🚨⚠️ Advice: SKIP the `ArtistPopularityTransformer` if you don't have time to do it. It is better for you to have a working pipeline rather than NO pipeline at all**"
   ]
  },
  {
   "cell_type": "code",
   "execution_count": 63,
   "metadata": {
    "ExecuteTime": {
     "end_time": "2021-03-19T16:16:34.638544Z",
     "start_time": "2021-03-19T16:16:34.636103Z"
    },
    "hidden": true,
    "slideshow": {
     "slide_type": "-"
    }
   },
   "outputs": [],
   "source": [
    "# 👉 Do not hesitate to reload clean new dataset if you need a fresh start\n",
    "y = data.popularity\n",
    "X = X_baseline"
   ]
  },
  {
   "cell_type": "code",
   "execution_count": 64,
   "metadata": {
    "ExecuteTime": {
     "end_time": "2021-03-19T16:16:37.513396Z",
     "start_time": "2021-03-19T16:16:37.505856Z"
    },
    "hidden": true
   },
   "outputs": [
    {
     "data": {
      "text/plain": [
       "15"
      ]
     },
     "execution_count": 64,
     "metadata": {},
     "output_type": "execute_result"
    }
   ],
   "source": [
    "len(X_train_engineered.columns)"
   ]
  },
  {
   "cell_type": "code",
   "execution_count": 65,
   "metadata": {
    "ExecuteTime": {
     "end_time": "2021-03-19T16:16:38.298651Z",
     "start_time": "2021-03-19T16:16:38.293524Z"
    },
    "hidden": true
   },
   "outputs": [],
   "source": [
    "# We give you below the skeleton of the custom ArtistPopularityTransformer to complete\n",
    "\n",
    "from sklearn.base import BaseEstimator, TransformerMixin\n",
    "\n",
    "class ArtistPopularityTransformer(BaseEstimator, TransformerMixin):\n",
    "\n",
    "    def __init__(self):\n",
    "        pass\n",
    "\n",
    "    def fit(self, X, y=None):\n",
    "        \"\"\"\n",
    "        process artist mean popularity from artists songs popularity\n",
    "        process song global mean popularity\n",
    "        \"\"\"\n",
    "\n",
    "        # process artist popularity\n",
    "        self.artist_n_pop = pd.concat([X,y], axis=1)\n",
    "        self.artist_popularity = self.artist_n_pop[['artist', 'popularity']].groupby('artist').mean()\n",
    "        \n",
    "        # process mean popularity\n",
    "        self.artist_mean_popularity = y.mean()\n",
    "        \n",
    "        return self\n",
    "\n",
    "    def transform(self, X, y=None):\n",
    "        \"\"\"\n",
    "        apply artist mean popularity vs song global mean popularity to songs\n",
    "        \"\"\"\n",
    "\n",
    "        # inject artist popularity\n",
    "        X_copy = X.join(self.artist_popularity, on='artist')\\\n",
    "                     .drop(columns='artist')\\\n",
    "                     .rename(columns={\"popularity\": \"artist_popularity\"})        \n",
    "                          \n",
    "        # fills popularity of unknown artists with song global mean popularity\n",
    "        X_copy['artist_popularity'].fillna(self.artist_mean_popularity, inplace=True)\n",
    "\n",
    "        return X_copy # TODO return X_copy"
   ]
  },
  {
   "cell_type": "code",
   "execution_count": 66,
   "metadata": {
    "ExecuteTime": {
     "end_time": "2021-03-19T16:16:39.219239Z",
     "start_time": "2021-03-19T16:16:39.212345Z"
    },
    "hidden": true
   },
   "outputs": [],
   "source": [
    "# Create a Transformer class to preprocess the year\n",
    "\n",
    "class ToYearTransformer(BaseEstimator, TransformerMixin):\n",
    "\n",
    "    def __init__(self):\n",
    "        pass\n",
    "\n",
    "    def fit(self, X, y=None):\n",
    "        return self\n",
    "\n",
    "    def transform(self, X, y=None):\n",
    "        \"\"\"\n",
    "        Extract year from the release date\n",
    "        \"\"\"\n",
    "        X['year'] = X['release_date'].apply(lambda x: int(str(x)[:4]))\n",
    "        X_copy = X.drop(columns=['release_date'])\n",
    "        return X_copy # TODO return X_copy"
   ]
  },
  {
   "cell_type": "code",
   "execution_count": 67,
   "metadata": {
    "ExecuteTime": {
     "end_time": "2021-03-19T16:16:39.972110Z",
     "start_time": "2021-03-19T16:16:39.965177Z"
    },
    "hidden": true
   },
   "outputs": [
    {
     "data": {
      "text/plain": [
       "['acousticness',\n",
       " 'danceability',\n",
       " 'duration_ms',\n",
       " 'energy',\n",
       " 'instrumentalness',\n",
       " 'liveness',\n",
       " 'loudness',\n",
       " 'speechiness',\n",
       " 'tempo',\n",
       " 'valence']"
      ]
     },
     "execution_count": 67,
     "metadata": {},
     "output_type": "execute_result"
    }
   ],
   "source": [
    "num_features"
   ]
  },
  {
   "cell_type": "code",
   "execution_count": 72,
   "metadata": {
    "ExecuteTime": {
     "end_time": "2021-03-19T16:18:06.148823Z",
     "start_time": "2021-03-19T16:18:06.143805Z"
    },
    "hidden": true
   },
   "outputs": [
    {
     "data": {
      "text/plain": [
       "10"
      ]
     },
     "execution_count": 72,
     "metadata": {},
     "output_type": "execute_result"
    }
   ],
   "source": [
    "len(num_features)"
   ]
  },
  {
   "cell_type": "code",
   "execution_count": 74,
   "metadata": {
    "ExecuteTime": {
     "end_time": "2021-03-19T16:18:26.522667Z",
     "start_time": "2021-03-19T16:18:26.516029Z"
    },
    "hidden": true
   },
   "outputs": [
    {
     "data": {
      "text/plain": [
       "Index(['acousticness', 'danceability', 'duration_ms', 'energy', 'explicit',\n",
       "       'instrumentalness', 'liveness', 'loudness', 'mode', 'release_date',\n",
       "       'speechiness', 'tempo', 'valence', 'artist'],\n",
       "      dtype='object')"
      ]
     },
     "execution_count": 74,
     "metadata": {},
     "output_type": "execute_result"
    }
   ],
   "source": [
    "X.columns"
   ]
  },
  {
   "cell_type": "code",
   "execution_count": 77,
   "metadata": {
    "ExecuteTime": {
     "end_time": "2021-03-19T16:20:15.915053Z",
     "start_time": "2021-03-19T16:20:15.909327Z"
    },
    "hidden": true,
    "scrolled": true
   },
   "outputs": [],
   "source": [
    "# Run this cell to visualize your pipeline as you build it\n",
    "from sklearn import set_config\n",
    "set_config(display='diagram')\n",
    "\n",
    "preproc = make_column_transformer(\n",
    "        (MinMaxScaler(), num_features),\n",
    "        (ArtistPopularityTransformer(),['artist']),\n",
    "        (ToYearTransformer(),['release_date'])\n",
    "    ,remainder='passthrough')"
   ]
  },
  {
   "cell_type": "code",
   "execution_count": 78,
   "metadata": {
    "ExecuteTime": {
     "end_time": "2021-03-19T16:20:16.525467Z",
     "start_time": "2021-03-19T16:20:16.515273Z"
    },
    "hidden": true
   },
   "outputs": [
    {
     "data": {
      "text/html": [
       "<style>div.sk-top-container {color: black;background-color: white;}div.sk-toggleable {background-color: white;}label.sk-toggleable__label {cursor: pointer;display: block;width: 100%;margin-bottom: 0;padding: 0.2em 0.3em;box-sizing: border-box;text-align: center;}div.sk-toggleable__content {max-height: 0;max-width: 0;overflow: hidden;text-align: left;background-color: #f0f8ff;}div.sk-toggleable__content pre {margin: 0.2em;color: black;border-radius: 0.25em;background-color: #f0f8ff;}input.sk-toggleable__control:checked~div.sk-toggleable__content {max-height: 200px;max-width: 100%;overflow: auto;}div.sk-estimator input.sk-toggleable__control:checked~label.sk-toggleable__label {background-color: #d4ebff;}div.sk-label input.sk-toggleable__control:checked~label.sk-toggleable__label {background-color: #d4ebff;}input.sk-hidden--visually {border: 0;clip: rect(1px 1px 1px 1px);clip: rect(1px, 1px, 1px, 1px);height: 1px;margin: -1px;overflow: hidden;padding: 0;position: absolute;width: 1px;}div.sk-estimator {font-family: monospace;background-color: #f0f8ff;margin: 0.25em 0.25em;border: 1px dotted black;border-radius: 0.25em;box-sizing: border-box;}div.sk-estimator:hover {background-color: #d4ebff;}div.sk-parallel-item::after {content: \"\";width: 100%;border-bottom: 1px solid gray;flex-grow: 1;}div.sk-label:hover label.sk-toggleable__label {background-color: #d4ebff;}div.sk-serial::before {content: \"\";position: absolute;border-left: 1px solid gray;box-sizing: border-box;top: 2em;bottom: 0;left: 50%;}div.sk-serial {display: flex;flex-direction: column;align-items: center;background-color: white;}div.sk-item {z-index: 1;}div.sk-parallel {display: flex;align-items: stretch;justify-content: center;background-color: white;}div.sk-parallel-item {display: flex;flex-direction: column;position: relative;background-color: white;}div.sk-parallel-item:first-child::after {align-self: flex-end;width: 50%;}div.sk-parallel-item:last-child::after {align-self: flex-start;width: 50%;}div.sk-parallel-item:only-child::after {width: 0;}div.sk-dashed-wrapped {border: 1px dashed gray;margin: 0.2em;box-sizing: border-box;padding-bottom: 0.1em;background-color: white;position: relative;}div.sk-label label {font-family: monospace;font-weight: bold;background-color: white;display: inline-block;line-height: 1.2em;}div.sk-label-container {position: relative;z-index: 2;text-align: center;}div.sk-container {display: inline-block;position: relative;}</style><div class=\"sk-top-container\"><div class=\"sk-container\"><div class=\"sk-item sk-dashed-wrapped\"><div class=\"sk-label-container\"><div class=\"sk-label sk-toggleable\"><input class=\"sk-toggleable__control sk-hidden--visually\" id=\"a196162c-2b52-4d5d-a3e0-f2f025a01096\" type=\"checkbox\" ><label class=\"sk-toggleable__label\" for=\"a196162c-2b52-4d5d-a3e0-f2f025a01096\">ColumnTransformer</label><div class=\"sk-toggleable__content\"><pre>ColumnTransformer(remainder='passthrough',\n",
       "                  transformers=[('minmaxscaler', MinMaxScaler(),\n",
       "                                 ['acousticness', 'danceability', 'duration_ms',\n",
       "                                  'energy', 'instrumentalness', 'liveness',\n",
       "                                  'loudness', 'speechiness', 'tempo',\n",
       "                                  'valence']),\n",
       "                                ('artistpopularitytransformer',\n",
       "                                 ArtistPopularityTransformer(), ['artist']),\n",
       "                                ('toyeartransformer', ToYearTransformer(),\n",
       "                                 ['release_date'])])</pre></div></div></div><div class=\"sk-parallel\"><div class=\"sk-parallel-item\"><div class=\"sk-item\"><div class=\"sk-label-container\"><div class=\"sk-label sk-toggleable\"><input class=\"sk-toggleable__control sk-hidden--visually\" id=\"9d733e92-f505-4512-b588-a7f8c6ec8043\" type=\"checkbox\" ><label class=\"sk-toggleable__label\" for=\"9d733e92-f505-4512-b588-a7f8c6ec8043\">minmaxscaler</label><div class=\"sk-toggleable__content\"><pre>['acousticness', 'danceability', 'duration_ms', 'energy', 'instrumentalness', 'liveness', 'loudness', 'speechiness', 'tempo', 'valence']</pre></div></div></div><div class=\"sk-serial\"><div class=\"sk-item\"><div class=\"sk-estimator sk-toggleable\"><input class=\"sk-toggleable__control sk-hidden--visually\" id=\"fe8492da-7320-4348-aee4-74a0fa3007b3\" type=\"checkbox\" ><label class=\"sk-toggleable__label\" for=\"fe8492da-7320-4348-aee4-74a0fa3007b3\">MinMaxScaler</label><div class=\"sk-toggleable__content\"><pre>MinMaxScaler()</pre></div></div></div></div></div></div><div class=\"sk-parallel-item\"><div class=\"sk-item\"><div class=\"sk-label-container\"><div class=\"sk-label sk-toggleable\"><input class=\"sk-toggleable__control sk-hidden--visually\" id=\"32553358-5d49-4e19-9fee-66d140317476\" type=\"checkbox\" ><label class=\"sk-toggleable__label\" for=\"32553358-5d49-4e19-9fee-66d140317476\">artistpopularitytransformer</label><div class=\"sk-toggleable__content\"><pre>['artist']</pre></div></div></div><div class=\"sk-serial\"><div class=\"sk-item\"><div class=\"sk-estimator sk-toggleable\"><input class=\"sk-toggleable__control sk-hidden--visually\" id=\"80e18003-ea62-4f36-a20a-115871110ab4\" type=\"checkbox\" ><label class=\"sk-toggleable__label\" for=\"80e18003-ea62-4f36-a20a-115871110ab4\">ArtistPopularityTransformer</label><div class=\"sk-toggleable__content\"><pre>ArtistPopularityTransformer()</pre></div></div></div></div></div></div><div class=\"sk-parallel-item\"><div class=\"sk-item\"><div class=\"sk-label-container\"><div class=\"sk-label sk-toggleable\"><input class=\"sk-toggleable__control sk-hidden--visually\" id=\"c9f16c42-e258-430a-b07c-dff18596f62b\" type=\"checkbox\" ><label class=\"sk-toggleable__label\" for=\"c9f16c42-e258-430a-b07c-dff18596f62b\">toyeartransformer</label><div class=\"sk-toggleable__content\"><pre>['release_date']</pre></div></div></div><div class=\"sk-serial\"><div class=\"sk-item\"><div class=\"sk-estimator sk-toggleable\"><input class=\"sk-toggleable__control sk-hidden--visually\" id=\"12c0757c-18d0-444c-a88f-d3127aec91c7\" type=\"checkbox\" ><label class=\"sk-toggleable__label\" for=\"12c0757c-18d0-444c-a88f-d3127aec91c7\">ToYearTransformer</label><div class=\"sk-toggleable__content\"><pre>ToYearTransformer()</pre></div></div></div></div></div></div><div class=\"sk-parallel-item\"><div class=\"sk-item\"><div class=\"sk-label-container\"><div class=\"sk-label sk-toggleable\"><input class=\"sk-toggleable__control sk-hidden--visually\" id=\"2c798b35-e331-48b7-8f77-c5bb41f679f9\" type=\"checkbox\" ><label class=\"sk-toggleable__label\" for=\"2c798b35-e331-48b7-8f77-c5bb41f679f9\">remainder</label><div class=\"sk-toggleable__content\"><pre></pre></div></div></div><div class=\"sk-serial\"><div class=\"sk-item\"><div class=\"sk-estimator sk-toggleable\"><input class=\"sk-toggleable__control sk-hidden--visually\" id=\"c752fe29-e638-49f7-8a7a-3367f731c02e\" type=\"checkbox\" ><label class=\"sk-toggleable__label\" for=\"c752fe29-e638-49f7-8a7a-3367f731c02e\">passthrough</label><div class=\"sk-toggleable__content\"><pre>passthrough</pre></div></div></div></div></div></div></div></div></div></div>"
      ],
      "text/plain": [
       "ColumnTransformer(remainder='passthrough',\n",
       "                  transformers=[('minmaxscaler', MinMaxScaler(),\n",
       "                                 ['acousticness', 'danceability', 'duration_ms',\n",
       "                                  'energy', 'instrumentalness', 'liveness',\n",
       "                                  'loudness', 'speechiness', 'tempo',\n",
       "                                  'valence']),\n",
       "                                ('artistpopularitytransformer',\n",
       "                                 ArtistPopularityTransformer(), ['artist']),\n",
       "                                ('toyeartransformer', ToYearTransformer(),\n",
       "                                 ['release_date'])])"
      ]
     },
     "execution_count": 78,
     "metadata": {},
     "output_type": "execute_result"
    }
   ],
   "source": [
    "preproc"
   ]
  },
  {
   "cell_type": "code",
   "execution_count": 79,
   "metadata": {
    "ExecuteTime": {
     "end_time": "2021-03-19T16:20:57.341232Z",
     "start_time": "2021-03-19T16:20:57.226211Z"
    },
    "hidden": true
   },
   "outputs": [
    {
     "data": {
      "text/html": [
       "<div>\n",
       "<style scoped>\n",
       "    .dataframe tbody tr th:only-of-type {\n",
       "        vertical-align: middle;\n",
       "    }\n",
       "\n",
       "    .dataframe tbody tr th {\n",
       "        vertical-align: top;\n",
       "    }\n",
       "\n",
       "    .dataframe thead th {\n",
       "        text-align: right;\n",
       "    }\n",
       "</style>\n",
       "<table border=\"1\" class=\"dataframe\">\n",
       "  <thead>\n",
       "    <tr style=\"text-align: right;\">\n",
       "      <th></th>\n",
       "      <th>0</th>\n",
       "      <th>1</th>\n",
       "      <th>2</th>\n",
       "      <th>3</th>\n",
       "      <th>4</th>\n",
       "      <th>5</th>\n",
       "      <th>6</th>\n",
       "      <th>7</th>\n",
       "      <th>8</th>\n",
       "      <th>9</th>\n",
       "      <th>10</th>\n",
       "      <th>11</th>\n",
       "      <th>12</th>\n",
       "      <th>13</th>\n",
       "    </tr>\n",
       "  </thead>\n",
       "  <tbody>\n",
       "    <tr>\n",
       "      <th>0</th>\n",
       "      <td>0.656627</td>\n",
       "      <td>0.506085</td>\n",
       "      <td>0.044604</td>\n",
       "      <td>0.190</td>\n",
       "      <td>0.00409</td>\n",
       "      <td>0.089890</td>\n",
       "      <td>0.683437</td>\n",
       "      <td>0.046804</td>\n",
       "      <td>0.613781</td>\n",
       "      <td>0.4300</td>\n",
       "      <td>35.000000</td>\n",
       "      <td>1971.0</td>\n",
       "      <td>0.0</td>\n",
       "      <td>1.0</td>\n",
       "    </tr>\n",
       "    <tr>\n",
       "      <th>1</th>\n",
       "      <td>0.005944</td>\n",
       "      <td>0.445233</td>\n",
       "      <td>0.099696</td>\n",
       "      <td>0.808</td>\n",
       "      <td>0.14000</td>\n",
       "      <td>0.089089</td>\n",
       "      <td>0.807966</td>\n",
       "      <td>0.069794</td>\n",
       "      <td>0.566883</td>\n",
       "      <td>0.0587</td>\n",
       "      <td>10.000000</td>\n",
       "      <td>2015.0</td>\n",
       "      <td>0.0</td>\n",
       "      <td>1.0</td>\n",
       "    </tr>\n",
       "    <tr>\n",
       "      <th>2</th>\n",
       "      <td>0.736948</td>\n",
       "      <td>0.530426</td>\n",
       "      <td>0.049999</td>\n",
       "      <td>0.288</td>\n",
       "      <td>0.00000</td>\n",
       "      <td>0.077177</td>\n",
       "      <td>0.760762</td>\n",
       "      <td>0.220619</td>\n",
       "      <td>0.311568</td>\n",
       "      <td>0.4640</td>\n",
       "      <td>34.333333</td>\n",
       "      <td>1968.0</td>\n",
       "      <td>0.0</td>\n",
       "      <td>1.0</td>\n",
       "    </tr>\n",
       "  </tbody>\n",
       "</table>\n",
       "</div>"
      ],
      "text/plain": [
       "         0         1         2      3        4         5         6         7   \\\n",
       "0  0.656627  0.506085  0.044604  0.190  0.00409  0.089890  0.683437  0.046804   \n",
       "1  0.005944  0.445233  0.099696  0.808  0.14000  0.089089  0.807966  0.069794   \n",
       "2  0.736948  0.530426  0.049999  0.288  0.00000  0.077177  0.760762  0.220619   \n",
       "\n",
       "         8       9          10      11   12   13  \n",
       "0  0.613781  0.4300  35.000000  1971.0  0.0  1.0  \n",
       "1  0.566883  0.0587  10.000000  2015.0  0.0  1.0  \n",
       "2  0.311568  0.4640  34.333333  1968.0  0.0  1.0  "
      ]
     },
     "execution_count": 79,
     "metadata": {},
     "output_type": "execute_result"
    }
   ],
   "source": [
    "pd.DataFrame(preproc.fit_transform(X,y)).head(3)"
   ]
  },
  {
   "cell_type": "code",
   "execution_count": 80,
   "metadata": {
    "ExecuteTime": {
     "end_time": "2021-03-19T16:21:05.772246Z",
     "start_time": "2021-03-19T16:21:05.676806Z"
    },
    "hidden": true
   },
   "outputs": [
    {
     "data": {
      "text/plain": [
       "14"
      ]
     },
     "execution_count": 80,
     "metadata": {},
     "output_type": "execute_result"
    }
   ],
   "source": [
    "col_number = len(pd.DataFrame(preproc.fit_transform(X,y)).columns)\n",
    "col_number"
   ]
  },
  {
   "cell_type": "markdown",
   "metadata": {
    "heading_collapsed": true,
    "hidden": true
   },
   "source": [
    "#### Save your results\n",
    "\n",
    "Run the following cell to save your results."
   ]
  },
  {
   "cell_type": "code",
   "execution_count": 81,
   "metadata": {
    "ExecuteTime": {
     "end_time": "2021-03-19T16:21:12.736957Z",
     "start_time": "2021-03-19T16:21:12.728021Z"
    },
    "hidden": true
   },
   "outputs": [
    {
     "data": {
      "text/html": [
       "<style>div.sk-top-container {color: black;background-color: white;}div.sk-toggleable {background-color: white;}label.sk-toggleable__label {cursor: pointer;display: block;width: 100%;margin-bottom: 0;padding: 0.2em 0.3em;box-sizing: border-box;text-align: center;}div.sk-toggleable__content {max-height: 0;max-width: 0;overflow: hidden;text-align: left;background-color: #f0f8ff;}div.sk-toggleable__content pre {margin: 0.2em;color: black;border-radius: 0.25em;background-color: #f0f8ff;}input.sk-toggleable__control:checked~div.sk-toggleable__content {max-height: 200px;max-width: 100%;overflow: auto;}div.sk-estimator input.sk-toggleable__control:checked~label.sk-toggleable__label {background-color: #d4ebff;}div.sk-label input.sk-toggleable__control:checked~label.sk-toggleable__label {background-color: #d4ebff;}input.sk-hidden--visually {border: 0;clip: rect(1px 1px 1px 1px);clip: rect(1px, 1px, 1px, 1px);height: 1px;margin: -1px;overflow: hidden;padding: 0;position: absolute;width: 1px;}div.sk-estimator {font-family: monospace;background-color: #f0f8ff;margin: 0.25em 0.25em;border: 1px dotted black;border-radius: 0.25em;box-sizing: border-box;}div.sk-estimator:hover {background-color: #d4ebff;}div.sk-parallel-item::after {content: \"\";width: 100%;border-bottom: 1px solid gray;flex-grow: 1;}div.sk-label:hover label.sk-toggleable__label {background-color: #d4ebff;}div.sk-serial::before {content: \"\";position: absolute;border-left: 1px solid gray;box-sizing: border-box;top: 2em;bottom: 0;left: 50%;}div.sk-serial {display: flex;flex-direction: column;align-items: center;background-color: white;}div.sk-item {z-index: 1;}div.sk-parallel {display: flex;align-items: stretch;justify-content: center;background-color: white;}div.sk-parallel-item {display: flex;flex-direction: column;position: relative;background-color: white;}div.sk-parallel-item:first-child::after {align-self: flex-end;width: 50%;}div.sk-parallel-item:last-child::after {align-self: flex-start;width: 50%;}div.sk-parallel-item:only-child::after {width: 0;}div.sk-dashed-wrapped {border: 1px dashed gray;margin: 0.2em;box-sizing: border-box;padding-bottom: 0.1em;background-color: white;position: relative;}div.sk-label label {font-family: monospace;font-weight: bold;background-color: white;display: inline-block;line-height: 1.2em;}div.sk-label-container {position: relative;z-index: 2;text-align: center;}div.sk-container {display: inline-block;position: relative;}</style><div class=\"sk-top-container\"><div class=\"sk-container\"><div class=\"sk-item sk-dashed-wrapped\"><div class=\"sk-label-container\"><div class=\"sk-label sk-toggleable\"><input class=\"sk-toggleable__control sk-hidden--visually\" id=\"9cd903d1-0170-436e-8e16-563f7c5652ac\" type=\"checkbox\" ><label class=\"sk-toggleable__label\" for=\"9cd903d1-0170-436e-8e16-563f7c5652ac\">ColumnTransformer</label><div class=\"sk-toggleable__content\"><pre>ColumnTransformer(remainder='passthrough',\n",
       "                  transformers=[('minmaxscaler', MinMaxScaler(),\n",
       "                                 ['acousticness', 'danceability', 'duration_ms',\n",
       "                                  'energy', 'instrumentalness', 'liveness',\n",
       "                                  'loudness', 'speechiness', 'tempo',\n",
       "                                  'valence']),\n",
       "                                ('artistpopularitytransformer',\n",
       "                                 ArtistPopularityTransformer(), ['artist']),\n",
       "                                ('toyeartransformer', ToYearTransformer(),\n",
       "                                 ['release_date'])])</pre></div></div></div><div class=\"sk-parallel\"><div class=\"sk-parallel-item\"><div class=\"sk-item\"><div class=\"sk-label-container\"><div class=\"sk-label sk-toggleable\"><input class=\"sk-toggleable__control sk-hidden--visually\" id=\"cfc7f9f2-a14e-4368-a267-611a9fb5b335\" type=\"checkbox\" ><label class=\"sk-toggleable__label\" for=\"cfc7f9f2-a14e-4368-a267-611a9fb5b335\">minmaxscaler</label><div class=\"sk-toggleable__content\"><pre>['acousticness', 'danceability', 'duration_ms', 'energy', 'instrumentalness', 'liveness', 'loudness', 'speechiness', 'tempo', 'valence']</pre></div></div></div><div class=\"sk-serial\"><div class=\"sk-item\"><div class=\"sk-estimator sk-toggleable\"><input class=\"sk-toggleable__control sk-hidden--visually\" id=\"8b3fc73a-d314-41fe-8009-9420b7e5857b\" type=\"checkbox\" ><label class=\"sk-toggleable__label\" for=\"8b3fc73a-d314-41fe-8009-9420b7e5857b\">MinMaxScaler</label><div class=\"sk-toggleable__content\"><pre>MinMaxScaler()</pre></div></div></div></div></div></div><div class=\"sk-parallel-item\"><div class=\"sk-item\"><div class=\"sk-label-container\"><div class=\"sk-label sk-toggleable\"><input class=\"sk-toggleable__control sk-hidden--visually\" id=\"e7c47805-3fa9-4881-a254-d3752db4f135\" type=\"checkbox\" ><label class=\"sk-toggleable__label\" for=\"e7c47805-3fa9-4881-a254-d3752db4f135\">artistpopularitytransformer</label><div class=\"sk-toggleable__content\"><pre>['artist']</pre></div></div></div><div class=\"sk-serial\"><div class=\"sk-item\"><div class=\"sk-estimator sk-toggleable\"><input class=\"sk-toggleable__control sk-hidden--visually\" id=\"5dcc3b16-ea61-4454-87d7-1b59f9e0705e\" type=\"checkbox\" ><label class=\"sk-toggleable__label\" for=\"5dcc3b16-ea61-4454-87d7-1b59f9e0705e\">ArtistPopularityTransformer</label><div class=\"sk-toggleable__content\"><pre>ArtistPopularityTransformer()</pre></div></div></div></div></div></div><div class=\"sk-parallel-item\"><div class=\"sk-item\"><div class=\"sk-label-container\"><div class=\"sk-label sk-toggleable\"><input class=\"sk-toggleable__control sk-hidden--visually\" id=\"f1c0a50a-7a70-48ee-b8b1-4decaa8f5c2d\" type=\"checkbox\" ><label class=\"sk-toggleable__label\" for=\"f1c0a50a-7a70-48ee-b8b1-4decaa8f5c2d\">toyeartransformer</label><div class=\"sk-toggleable__content\"><pre>['release_date']</pre></div></div></div><div class=\"sk-serial\"><div class=\"sk-item\"><div class=\"sk-estimator sk-toggleable\"><input class=\"sk-toggleable__control sk-hidden--visually\" id=\"ae61e909-130d-426c-b7b6-7ea49980e8e2\" type=\"checkbox\" ><label class=\"sk-toggleable__label\" for=\"ae61e909-130d-426c-b7b6-7ea49980e8e2\">ToYearTransformer</label><div class=\"sk-toggleable__content\"><pre>ToYearTransformer()</pre></div></div></div></div></div></div><div class=\"sk-parallel-item\"><div class=\"sk-item\"><div class=\"sk-label-container\"><div class=\"sk-label sk-toggleable\"><input class=\"sk-toggleable__control sk-hidden--visually\" id=\"df04e2f8-4366-47e4-89bd-284e4c60010e\" type=\"checkbox\" ><label class=\"sk-toggleable__label\" for=\"df04e2f8-4366-47e4-89bd-284e4c60010e\">remainder</label><div class=\"sk-toggleable__content\"><pre>['explicit', 'mode']</pre></div></div></div><div class=\"sk-serial\"><div class=\"sk-item\"><div class=\"sk-estimator sk-toggleable\"><input class=\"sk-toggleable__control sk-hidden--visually\" id=\"9160d12a-a43d-4e63-b193-ac46a9d892eb\" type=\"checkbox\" ><label class=\"sk-toggleable__label\" for=\"9160d12a-a43d-4e63-b193-ac46a9d892eb\">passthrough</label><div class=\"sk-toggleable__content\"><pre>passthrough</pre></div></div></div></div></div></div></div></div></div></div>"
      ],
      "text/plain": [
       "ColumnTransformer(remainder='passthrough',\n",
       "                  transformers=[('minmaxscaler', MinMaxScaler(),\n",
       "                                 ['acousticness', 'danceability', 'duration_ms',\n",
       "                                  'energy', 'instrumentalness', 'liveness',\n",
       "                                  'loudness', 'speechiness', 'tempo',\n",
       "                                  'valence']),\n",
       "                                ('artistpopularitytransformer',\n",
       "                                 ArtistPopularityTransformer(), ['artist']),\n",
       "                                ('toyeartransformer', ToYearTransformer(),\n",
       "                                 ['release_date'])])"
      ]
     },
     "execution_count": 81,
     "metadata": {},
     "output_type": "execute_result"
    }
   ],
   "source": [
    "# Print below your preproc here for the correctors\n",
    "from sklearn import set_config; set_config(display='diagram')\n",
    "preproc"
   ]
  },
  {
   "cell_type": "code",
   "execution_count": 82,
   "metadata": {
    "ExecuteTime": {
     "end_time": "2021-03-19T16:21:17.325316Z",
     "start_time": "2021-03-19T16:21:17.320598Z"
    },
    "hidden": true
   },
   "outputs": [],
   "source": [
    "from nbresult import ChallengeResult\n",
    "\n",
    "ChallengeResult(\n",
    "    \"c6_preprocessing\",\n",
    "    col_number=col_number\n",
    ").write()"
   ]
  },
  {
   "cell_type": "markdown",
   "metadata": {},
   "source": [
    "## Training\n",
    "\n",
    "📝 Time to optimize \n",
    "\n",
    "- **Add an estimator to your pipeline (only from scikit-learn)** \n",
    "\n",
    "- **Train your pipeline and fine-tune (optimize) your estimator to get the best prediction score**\n",
    "\n",
    "- **You must create 2 pipelines (one with a linear model, one with an ensemble model)**\n",
    "\n",
    "Then, \n",
    "\n",
    "- Save your two best 5-time cross-validated scores as _float_: `score_linear` and `score_ensemble`\n",
    "\n",
    "- Save your two best trained pipelines as _Pipeline_ objects: `pipe_linear` and `pipe_ensemble`"
   ]
  },
  {
   "cell_type": "markdown",
   "metadata": {},
   "source": [
    "### Linear"
   ]
  },
  {
   "cell_type": "code",
   "execution_count": 83,
   "metadata": {
    "ExecuteTime": {
     "end_time": "2021-03-19T16:22:42.786209Z",
     "start_time": "2021-03-19T16:22:42.764280Z"
    }
   },
   "outputs": [
    {
     "data": {
      "text/html": [
       "<style>div.sk-top-container {color: black;background-color: white;}div.sk-toggleable {background-color: white;}label.sk-toggleable__label {cursor: pointer;display: block;width: 100%;margin-bottom: 0;padding: 0.2em 0.3em;box-sizing: border-box;text-align: center;}div.sk-toggleable__content {max-height: 0;max-width: 0;overflow: hidden;text-align: left;background-color: #f0f8ff;}div.sk-toggleable__content pre {margin: 0.2em;color: black;border-radius: 0.25em;background-color: #f0f8ff;}input.sk-toggleable__control:checked~div.sk-toggleable__content {max-height: 200px;max-width: 100%;overflow: auto;}div.sk-estimator input.sk-toggleable__control:checked~label.sk-toggleable__label {background-color: #d4ebff;}div.sk-label input.sk-toggleable__control:checked~label.sk-toggleable__label {background-color: #d4ebff;}input.sk-hidden--visually {border: 0;clip: rect(1px 1px 1px 1px);clip: rect(1px, 1px, 1px, 1px);height: 1px;margin: -1px;overflow: hidden;padding: 0;position: absolute;width: 1px;}div.sk-estimator {font-family: monospace;background-color: #f0f8ff;margin: 0.25em 0.25em;border: 1px dotted black;border-radius: 0.25em;box-sizing: border-box;}div.sk-estimator:hover {background-color: #d4ebff;}div.sk-parallel-item::after {content: \"\";width: 100%;border-bottom: 1px solid gray;flex-grow: 1;}div.sk-label:hover label.sk-toggleable__label {background-color: #d4ebff;}div.sk-serial::before {content: \"\";position: absolute;border-left: 1px solid gray;box-sizing: border-box;top: 2em;bottom: 0;left: 50%;}div.sk-serial {display: flex;flex-direction: column;align-items: center;background-color: white;}div.sk-item {z-index: 1;}div.sk-parallel {display: flex;align-items: stretch;justify-content: center;background-color: white;}div.sk-parallel-item {display: flex;flex-direction: column;position: relative;background-color: white;}div.sk-parallel-item:first-child::after {align-self: flex-end;width: 50%;}div.sk-parallel-item:last-child::after {align-self: flex-start;width: 50%;}div.sk-parallel-item:only-child::after {width: 0;}div.sk-dashed-wrapped {border: 1px dashed gray;margin: 0.2em;box-sizing: border-box;padding-bottom: 0.1em;background-color: white;position: relative;}div.sk-label label {font-family: monospace;font-weight: bold;background-color: white;display: inline-block;line-height: 1.2em;}div.sk-label-container {position: relative;z-index: 2;text-align: center;}div.sk-container {display: inline-block;position: relative;}</style><div class=\"sk-top-container\"><div class=\"sk-container\"><div class=\"sk-item sk-dashed-wrapped\"><div class=\"sk-label-container\"><div class=\"sk-label sk-toggleable\"><input class=\"sk-toggleable__control sk-hidden--visually\" id=\"5a1f4e49-19a3-4b4d-9d33-1253e5d235f3\" type=\"checkbox\" ><label class=\"sk-toggleable__label\" for=\"5a1f4e49-19a3-4b4d-9d33-1253e5d235f3\">Pipeline</label><div class=\"sk-toggleable__content\"><pre>Pipeline(steps=[('preprocessing',\n",
       "                 ColumnTransformer(remainder='passthrough',\n",
       "                                   transformers=[('minmaxscaler',\n",
       "                                                  MinMaxScaler(),\n",
       "                                                  ['acousticness',\n",
       "                                                   'danceability',\n",
       "                                                   'duration_ms', 'energy',\n",
       "                                                   'instrumentalness',\n",
       "                                                   'liveness', 'loudness',\n",
       "                                                   'speechiness', 'tempo',\n",
       "                                                   'valence']),\n",
       "                                                 ('artistpopularitytransformer',\n",
       "                                                  ArtistPopularityTransformer(),\n",
       "                                                  ['artist']),\n",
       "                                                 ('toyeartransformer',\n",
       "                                                  ToYearTransformer(),\n",
       "                                                  ['release_date'])])),\n",
       "                ('linear_reg', LinearRegression())])</pre></div></div></div><div class=\"sk-serial\"><div class=\"sk-item sk-dashed-wrapped\"><div class=\"sk-label-container\"><div class=\"sk-label sk-toggleable\"><input class=\"sk-toggleable__control sk-hidden--visually\" id=\"c7a702e5-b60f-4943-aa1f-df3904e60f2c\" type=\"checkbox\" ><label class=\"sk-toggleable__label\" for=\"c7a702e5-b60f-4943-aa1f-df3904e60f2c\">preprocessing: ColumnTransformer</label><div class=\"sk-toggleable__content\"><pre>ColumnTransformer(remainder='passthrough',\n",
       "                  transformers=[('minmaxscaler', MinMaxScaler(),\n",
       "                                 ['acousticness', 'danceability', 'duration_ms',\n",
       "                                  'energy', 'instrumentalness', 'liveness',\n",
       "                                  'loudness', 'speechiness', 'tempo',\n",
       "                                  'valence']),\n",
       "                                ('artistpopularitytransformer',\n",
       "                                 ArtistPopularityTransformer(), ['artist']),\n",
       "                                ('toyeartransformer', ToYearTransformer(),\n",
       "                                 ['release_date'])])</pre></div></div></div><div class=\"sk-parallel\"><div class=\"sk-parallel-item\"><div class=\"sk-item\"><div class=\"sk-label-container\"><div class=\"sk-label sk-toggleable\"><input class=\"sk-toggleable__control sk-hidden--visually\" id=\"5149f95b-fd12-4840-8cb1-ef9359c3d7bc\" type=\"checkbox\" ><label class=\"sk-toggleable__label\" for=\"5149f95b-fd12-4840-8cb1-ef9359c3d7bc\">minmaxscaler</label><div class=\"sk-toggleable__content\"><pre>['acousticness', 'danceability', 'duration_ms', 'energy', 'instrumentalness', 'liveness', 'loudness', 'speechiness', 'tempo', 'valence']</pre></div></div></div><div class=\"sk-serial\"><div class=\"sk-item\"><div class=\"sk-estimator sk-toggleable\"><input class=\"sk-toggleable__control sk-hidden--visually\" id=\"3353959f-7d36-4ab8-9794-dcd3a90a0b3b\" type=\"checkbox\" ><label class=\"sk-toggleable__label\" for=\"3353959f-7d36-4ab8-9794-dcd3a90a0b3b\">MinMaxScaler</label><div class=\"sk-toggleable__content\"><pre>MinMaxScaler()</pre></div></div></div></div></div></div><div class=\"sk-parallel-item\"><div class=\"sk-item\"><div class=\"sk-label-container\"><div class=\"sk-label sk-toggleable\"><input class=\"sk-toggleable__control sk-hidden--visually\" id=\"8bfcd9bf-ff4c-43ad-bd51-fdc0f0074467\" type=\"checkbox\" ><label class=\"sk-toggleable__label\" for=\"8bfcd9bf-ff4c-43ad-bd51-fdc0f0074467\">artistpopularitytransformer</label><div class=\"sk-toggleable__content\"><pre>['artist']</pre></div></div></div><div class=\"sk-serial\"><div class=\"sk-item\"><div class=\"sk-estimator sk-toggleable\"><input class=\"sk-toggleable__control sk-hidden--visually\" id=\"63d74620-6873-4b47-b31c-fdae1a4a89ab\" type=\"checkbox\" ><label class=\"sk-toggleable__label\" for=\"63d74620-6873-4b47-b31c-fdae1a4a89ab\">ArtistPopularityTransformer</label><div class=\"sk-toggleable__content\"><pre>ArtistPopularityTransformer()</pre></div></div></div></div></div></div><div class=\"sk-parallel-item\"><div class=\"sk-item\"><div class=\"sk-label-container\"><div class=\"sk-label sk-toggleable\"><input class=\"sk-toggleable__control sk-hidden--visually\" id=\"4a89c748-13ef-449c-a1d5-2984652abf4c\" type=\"checkbox\" ><label class=\"sk-toggleable__label\" for=\"4a89c748-13ef-449c-a1d5-2984652abf4c\">toyeartransformer</label><div class=\"sk-toggleable__content\"><pre>['release_date']</pre></div></div></div><div class=\"sk-serial\"><div class=\"sk-item\"><div class=\"sk-estimator sk-toggleable\"><input class=\"sk-toggleable__control sk-hidden--visually\" id=\"1e935610-9a86-465e-bd6d-c27084ee9c03\" type=\"checkbox\" ><label class=\"sk-toggleable__label\" for=\"1e935610-9a86-465e-bd6d-c27084ee9c03\">ToYearTransformer</label><div class=\"sk-toggleable__content\"><pre>ToYearTransformer()</pre></div></div></div></div></div></div><div class=\"sk-parallel-item\"><div class=\"sk-item\"><div class=\"sk-label-container\"><div class=\"sk-label sk-toggleable\"><input class=\"sk-toggleable__control sk-hidden--visually\" id=\"a318daab-1985-4732-aace-51f61a2fb5e2\" type=\"checkbox\" ><label class=\"sk-toggleable__label\" for=\"a318daab-1985-4732-aace-51f61a2fb5e2\">remainder</label><div class=\"sk-toggleable__content\"><pre>['explicit', 'mode']</pre></div></div></div><div class=\"sk-serial\"><div class=\"sk-item\"><div class=\"sk-estimator sk-toggleable\"><input class=\"sk-toggleable__control sk-hidden--visually\" id=\"d30cbbe2-5cc8-457c-a611-1e3ec1256f91\" type=\"checkbox\" ><label class=\"sk-toggleable__label\" for=\"d30cbbe2-5cc8-457c-a611-1e3ec1256f91\">passthrough</label><div class=\"sk-toggleable__content\"><pre>passthrough</pre></div></div></div></div></div></div></div></div><div class=\"sk-item\"><div class=\"sk-estimator sk-toggleable\"><input class=\"sk-toggleable__control sk-hidden--visually\" id=\"5a51cc10-3608-4fea-8c68-4b1cb96e58de\" type=\"checkbox\" ><label class=\"sk-toggleable__label\" for=\"5a51cc10-3608-4fea-8c68-4b1cb96e58de\">LinearRegression</label><div class=\"sk-toggleable__content\"><pre>LinearRegression()</pre></div></div></div></div></div></div></div>"
      ],
      "text/plain": [
       "Pipeline(steps=[('preprocessing',\n",
       "                 ColumnTransformer(remainder='passthrough',\n",
       "                                   transformers=[('minmaxscaler',\n",
       "                                                  MinMaxScaler(),\n",
       "                                                  ['acousticness',\n",
       "                                                   'danceability',\n",
       "                                                   'duration_ms', 'energy',\n",
       "                                                   'instrumentalness',\n",
       "                                                   'liveness', 'loudness',\n",
       "                                                   'speechiness', 'tempo',\n",
       "                                                   'valence']),\n",
       "                                                 ('artistpopularitytransformer',\n",
       "                                                  ArtistPopularityTransformer(),\n",
       "                                                  ['artist']),\n",
       "                                                 ('toyeartransformer',\n",
       "                                                  ToYearTransformer(),\n",
       "                                                  ['release_date'])])),\n",
       "                ('linear_reg', LinearRegression())])"
      ]
     },
     "execution_count": 83,
     "metadata": {},
     "output_type": "execute_result"
    }
   ],
   "source": [
    "from sklearn.linear_model import LinearRegression\n",
    "\n",
    "pipe_linear = Pipeline([\n",
    "    ('preprocessing', preproc),\n",
    "    ('linear_reg', LinearRegression())\n",
    "])\n",
    "pipe_linear"
   ]
  },
  {
   "cell_type": "code",
   "execution_count": 85,
   "metadata": {
    "ExecuteTime": {
     "end_time": "2021-03-19T16:25:31.498722Z",
     "start_time": "2021-03-19T16:25:31.418485Z"
    }
   },
   "outputs": [],
   "source": [
    "# Train pipeline\n",
    "pipe_linear_fit = pipe_linear.fit(X_train, y_train)"
   ]
  },
  {
   "cell_type": "code",
   "execution_count": 99,
   "metadata": {
    "ExecuteTime": {
     "end_time": "2021-03-19T16:32:01.489839Z",
     "start_time": "2021-03-19T16:32:00.975386Z"
    }
   },
   "outputs": [],
   "source": [
    "# Score model\n",
    "score_linear = float(cross_val_score(pipe_linear_fit, X_train, y_train, cv=5, scoring=scoring).mean())"
   ]
  },
  {
   "cell_type": "code",
   "execution_count": 100,
   "metadata": {
    "ExecuteTime": {
     "end_time": "2021-03-19T16:32:04.786656Z",
     "start_time": "2021-03-19T16:32:04.780765Z"
    }
   },
   "outputs": [
    {
     "data": {
      "text/plain": [
       "-214.73916084107958"
      ]
     },
     "execution_count": 100,
     "metadata": {},
     "output_type": "execute_result"
    }
   ],
   "source": [
    "score_linear"
   ]
  },
  {
   "cell_type": "markdown",
   "metadata": {},
   "source": [
    "### Ensemble"
   ]
  },
  {
   "cell_type": "code",
   "execution_count": 102,
   "metadata": {
    "ExecuteTime": {
     "end_time": "2021-03-19T16:33:29.252509Z",
     "start_time": "2021-03-19T16:33:29.229190Z"
    },
    "scrolled": true
   },
   "outputs": [
    {
     "data": {
      "text/html": [
       "<style>div.sk-top-container {color: black;background-color: white;}div.sk-toggleable {background-color: white;}label.sk-toggleable__label {cursor: pointer;display: block;width: 100%;margin-bottom: 0;padding: 0.2em 0.3em;box-sizing: border-box;text-align: center;}div.sk-toggleable__content {max-height: 0;max-width: 0;overflow: hidden;text-align: left;background-color: #f0f8ff;}div.sk-toggleable__content pre {margin: 0.2em;color: black;border-radius: 0.25em;background-color: #f0f8ff;}input.sk-toggleable__control:checked~div.sk-toggleable__content {max-height: 200px;max-width: 100%;overflow: auto;}div.sk-estimator input.sk-toggleable__control:checked~label.sk-toggleable__label {background-color: #d4ebff;}div.sk-label input.sk-toggleable__control:checked~label.sk-toggleable__label {background-color: #d4ebff;}input.sk-hidden--visually {border: 0;clip: rect(1px 1px 1px 1px);clip: rect(1px, 1px, 1px, 1px);height: 1px;margin: -1px;overflow: hidden;padding: 0;position: absolute;width: 1px;}div.sk-estimator {font-family: monospace;background-color: #f0f8ff;margin: 0.25em 0.25em;border: 1px dotted black;border-radius: 0.25em;box-sizing: border-box;}div.sk-estimator:hover {background-color: #d4ebff;}div.sk-parallel-item::after {content: \"\";width: 100%;border-bottom: 1px solid gray;flex-grow: 1;}div.sk-label:hover label.sk-toggleable__label {background-color: #d4ebff;}div.sk-serial::before {content: \"\";position: absolute;border-left: 1px solid gray;box-sizing: border-box;top: 2em;bottom: 0;left: 50%;}div.sk-serial {display: flex;flex-direction: column;align-items: center;background-color: white;}div.sk-item {z-index: 1;}div.sk-parallel {display: flex;align-items: stretch;justify-content: center;background-color: white;}div.sk-parallel-item {display: flex;flex-direction: column;position: relative;background-color: white;}div.sk-parallel-item:first-child::after {align-self: flex-end;width: 50%;}div.sk-parallel-item:last-child::after {align-self: flex-start;width: 50%;}div.sk-parallel-item:only-child::after {width: 0;}div.sk-dashed-wrapped {border: 1px dashed gray;margin: 0.2em;box-sizing: border-box;padding-bottom: 0.1em;background-color: white;position: relative;}div.sk-label label {font-family: monospace;font-weight: bold;background-color: white;display: inline-block;line-height: 1.2em;}div.sk-label-container {position: relative;z-index: 2;text-align: center;}div.sk-container {display: inline-block;position: relative;}</style><div class=\"sk-top-container\"><div class=\"sk-container\"><div class=\"sk-item sk-dashed-wrapped\"><div class=\"sk-label-container\"><div class=\"sk-label sk-toggleable\"><input class=\"sk-toggleable__control sk-hidden--visually\" id=\"2454cdf8-7410-40f2-8881-3600b0fea37c\" type=\"checkbox\" ><label class=\"sk-toggleable__label\" for=\"2454cdf8-7410-40f2-8881-3600b0fea37c\">Pipeline</label><div class=\"sk-toggleable__content\"><pre>Pipeline(steps=[('preprocessing',\n",
       "                 ColumnTransformer(remainder='passthrough',\n",
       "                                   transformers=[('minmaxscaler',\n",
       "                                                  MinMaxScaler(),\n",
       "                                                  ['acousticness',\n",
       "                                                   'danceability',\n",
       "                                                   'duration_ms', 'energy',\n",
       "                                                   'instrumentalness',\n",
       "                                                   'liveness', 'loudness',\n",
       "                                                   'speechiness', 'tempo',\n",
       "                                                   'valence']),\n",
       "                                                 ('artistpopularitytransformer',\n",
       "                                                  ArtistPopularityTransformer(),\n",
       "                                                  ['artist']),\n",
       "                                                 ('toyeartransformer',\n",
       "                                                  ToYearTransformer(),\n",
       "                                                  ['release_date'])])),\n",
       "                ('KNN', KNeighborsRegressor())])</pre></div></div></div><div class=\"sk-serial\"><div class=\"sk-item sk-dashed-wrapped\"><div class=\"sk-label-container\"><div class=\"sk-label sk-toggleable\"><input class=\"sk-toggleable__control sk-hidden--visually\" id=\"073f27d9-e46a-4ebb-9d3e-21ab55b63303\" type=\"checkbox\" ><label class=\"sk-toggleable__label\" for=\"073f27d9-e46a-4ebb-9d3e-21ab55b63303\">preprocessing: ColumnTransformer</label><div class=\"sk-toggleable__content\"><pre>ColumnTransformer(remainder='passthrough',\n",
       "                  transformers=[('minmaxscaler', MinMaxScaler(),\n",
       "                                 ['acousticness', 'danceability', 'duration_ms',\n",
       "                                  'energy', 'instrumentalness', 'liveness',\n",
       "                                  'loudness', 'speechiness', 'tempo',\n",
       "                                  'valence']),\n",
       "                                ('artistpopularitytransformer',\n",
       "                                 ArtistPopularityTransformer(), ['artist']),\n",
       "                                ('toyeartransformer', ToYearTransformer(),\n",
       "                                 ['release_date'])])</pre></div></div></div><div class=\"sk-parallel\"><div class=\"sk-parallel-item\"><div class=\"sk-item\"><div class=\"sk-label-container\"><div class=\"sk-label sk-toggleable\"><input class=\"sk-toggleable__control sk-hidden--visually\" id=\"961cb605-f47e-461d-92d8-bacf91fa1c70\" type=\"checkbox\" ><label class=\"sk-toggleable__label\" for=\"961cb605-f47e-461d-92d8-bacf91fa1c70\">minmaxscaler</label><div class=\"sk-toggleable__content\"><pre>['acousticness', 'danceability', 'duration_ms', 'energy', 'instrumentalness', 'liveness', 'loudness', 'speechiness', 'tempo', 'valence']</pre></div></div></div><div class=\"sk-serial\"><div class=\"sk-item\"><div class=\"sk-estimator sk-toggleable\"><input class=\"sk-toggleable__control sk-hidden--visually\" id=\"889eaaf3-d720-40af-9bea-a26a70481403\" type=\"checkbox\" ><label class=\"sk-toggleable__label\" for=\"889eaaf3-d720-40af-9bea-a26a70481403\">MinMaxScaler</label><div class=\"sk-toggleable__content\"><pre>MinMaxScaler()</pre></div></div></div></div></div></div><div class=\"sk-parallel-item\"><div class=\"sk-item\"><div class=\"sk-label-container\"><div class=\"sk-label sk-toggleable\"><input class=\"sk-toggleable__control sk-hidden--visually\" id=\"294bd58f-3d53-47e9-9ecc-fdb277aa7c0a\" type=\"checkbox\" ><label class=\"sk-toggleable__label\" for=\"294bd58f-3d53-47e9-9ecc-fdb277aa7c0a\">artistpopularitytransformer</label><div class=\"sk-toggleable__content\"><pre>['artist']</pre></div></div></div><div class=\"sk-serial\"><div class=\"sk-item\"><div class=\"sk-estimator sk-toggleable\"><input class=\"sk-toggleable__control sk-hidden--visually\" id=\"0bc5f1b4-0454-4034-84e4-90d0eb88519b\" type=\"checkbox\" ><label class=\"sk-toggleable__label\" for=\"0bc5f1b4-0454-4034-84e4-90d0eb88519b\">ArtistPopularityTransformer</label><div class=\"sk-toggleable__content\"><pre>ArtistPopularityTransformer()</pre></div></div></div></div></div></div><div class=\"sk-parallel-item\"><div class=\"sk-item\"><div class=\"sk-label-container\"><div class=\"sk-label sk-toggleable\"><input class=\"sk-toggleable__control sk-hidden--visually\" id=\"3ef690ed-4e48-400a-bc1b-ba508347c452\" type=\"checkbox\" ><label class=\"sk-toggleable__label\" for=\"3ef690ed-4e48-400a-bc1b-ba508347c452\">toyeartransformer</label><div class=\"sk-toggleable__content\"><pre>['release_date']</pre></div></div></div><div class=\"sk-serial\"><div class=\"sk-item\"><div class=\"sk-estimator sk-toggleable\"><input class=\"sk-toggleable__control sk-hidden--visually\" id=\"2f1fe5d4-a273-4d79-838a-39c0e139720a\" type=\"checkbox\" ><label class=\"sk-toggleable__label\" for=\"2f1fe5d4-a273-4d79-838a-39c0e139720a\">ToYearTransformer</label><div class=\"sk-toggleable__content\"><pre>ToYearTransformer()</pre></div></div></div></div></div></div><div class=\"sk-parallel-item\"><div class=\"sk-item\"><div class=\"sk-label-container\"><div class=\"sk-label sk-toggleable\"><input class=\"sk-toggleable__control sk-hidden--visually\" id=\"291f43c6-4ab2-4f4c-8214-70e6d15f0f10\" type=\"checkbox\" ><label class=\"sk-toggleable__label\" for=\"291f43c6-4ab2-4f4c-8214-70e6d15f0f10\">remainder</label><div class=\"sk-toggleable__content\"><pre>['explicit', 'mode']</pre></div></div></div><div class=\"sk-serial\"><div class=\"sk-item\"><div class=\"sk-estimator sk-toggleable\"><input class=\"sk-toggleable__control sk-hidden--visually\" id=\"25564dc4-c508-4fdf-85e1-01691925f0c8\" type=\"checkbox\" ><label class=\"sk-toggleable__label\" for=\"25564dc4-c508-4fdf-85e1-01691925f0c8\">passthrough</label><div class=\"sk-toggleable__content\"><pre>passthrough</pre></div></div></div></div></div></div></div></div><div class=\"sk-item\"><div class=\"sk-estimator sk-toggleable\"><input class=\"sk-toggleable__control sk-hidden--visually\" id=\"348d7660-8376-4e0f-8698-256a27119c7d\" type=\"checkbox\" ><label class=\"sk-toggleable__label\" for=\"348d7660-8376-4e0f-8698-256a27119c7d\">KNeighborsRegressor</label><div class=\"sk-toggleable__content\"><pre>KNeighborsRegressor()</pre></div></div></div></div></div></div></div>"
      ],
      "text/plain": [
       "Pipeline(steps=[('preprocessing',\n",
       "                 ColumnTransformer(remainder='passthrough',\n",
       "                                   transformers=[('minmaxscaler',\n",
       "                                                  MinMaxScaler(),\n",
       "                                                  ['acousticness',\n",
       "                                                   'danceability',\n",
       "                                                   'duration_ms', 'energy',\n",
       "                                                   'instrumentalness',\n",
       "                                                   'liveness', 'loudness',\n",
       "                                                   'speechiness', 'tempo',\n",
       "                                                   'valence']),\n",
       "                                                 ('artistpopularitytransformer',\n",
       "                                                  ArtistPopularityTransformer(),\n",
       "                                                  ['artist']),\n",
       "                                                 ('toyeartransformer',\n",
       "                                                  ToYearTransformer(),\n",
       "                                                  ['release_date'])])),\n",
       "                ('KNN', KNeighborsRegressor())])"
      ]
     },
     "execution_count": 102,
     "metadata": {},
     "output_type": "execute_result"
    }
   ],
   "source": [
    "from sklearn.neighbors import KNeighborsRegressor\n",
    "\n",
    "pipe_ensemble = Pipeline([\n",
    "    ('preprocessing', preproc),\n",
    "    ('KNN', KNeighborsRegressor())\n",
    "])\n",
    "pipe_ensemble"
   ]
  },
  {
   "cell_type": "code",
   "execution_count": 103,
   "metadata": {
    "ExecuteTime": {
     "end_time": "2021-03-19T16:34:25.480784Z",
     "start_time": "2021-03-19T16:34:25.382106Z"
    }
   },
   "outputs": [],
   "source": [
    "# Train pipeline\n",
    "pipe_ensemble = pipe_ensemble.fit(X_train, y_train)"
   ]
  },
  {
   "cell_type": "code",
   "execution_count": 106,
   "metadata": {
    "ExecuteTime": {
     "end_time": "2021-03-19T16:34:49.323462Z",
     "start_time": "2021-03-19T16:34:48.682839Z"
    }
   },
   "outputs": [],
   "source": [
    "# Score model\n",
    "score_ensemble = float(cross_val_score(pipe_ensemble, X_train, y_train, cv=5, scoring=scoring).mean())"
   ]
  },
  {
   "cell_type": "code",
   "execution_count": 107,
   "metadata": {
    "ExecuteTime": {
     "end_time": "2021-03-19T16:34:49.919122Z",
     "start_time": "2021-03-19T16:34:49.914207Z"
    }
   },
   "outputs": [
    {
     "data": {
      "text/plain": [
       "-192.84926992788562"
      ]
     },
     "execution_count": 107,
     "metadata": {},
     "output_type": "execute_result"
    }
   ],
   "source": [
    "score_ensemble"
   ]
  },
  {
   "cell_type": "code",
   "execution_count": 113,
   "metadata": {
    "ExecuteTime": {
     "end_time": "2021-03-19T16:37:41.641151Z",
     "start_time": "2021-03-19T16:37:37.748580Z"
    }
   },
   "outputs": [
    {
     "data": {
      "text/plain": [
       "{'KNN__n_neighbors': 9}"
      ]
     },
     "execution_count": 113,
     "metadata": {},
     "output_type": "execute_result"
    }
   ],
   "source": [
    "from sklearn.model_selection import GridSearchCV\n",
    "\n",
    "grid =  {'KNN__n_neighbors': np.arange(3,10)}\n",
    "\n",
    "search = GridSearchCV(pipe_ensemble, \n",
    "                        param_grid=grid,\n",
    "                        cv=5,\n",
    "                        n_jobs=-1,\n",
    "                        scoring=scoring)\n",
    "search.fit(X_train, y_train)\n",
    "search.best_params_"
   ]
  },
  {
   "cell_type": "code",
   "execution_count": 116,
   "metadata": {
    "ExecuteTime": {
     "end_time": "2021-03-19T16:38:02.273920Z",
     "start_time": "2021-03-19T16:38:02.266991Z"
    }
   },
   "outputs": [
    {
     "data": {
      "text/plain": [
       "-187.52925534792146"
      ]
     },
     "execution_count": 116,
     "metadata": {},
     "output_type": "execute_result"
    }
   ],
   "source": [
    "score_ensemble = search.best_score_\n",
    "score_ensemble"
   ]
  },
  {
   "cell_type": "markdown",
   "metadata": {},
   "source": [
    "### Save your results\n",
    "\n",
    "Run the following cell to save your results."
   ]
  },
  {
   "cell_type": "code",
   "execution_count": 117,
   "metadata": {
    "ExecuteTime": {
     "end_time": "2021-03-19T16:38:06.016979Z",
     "start_time": "2021-03-19T16:38:05.991214Z"
    }
   },
   "outputs": [
    {
     "data": {
      "text/html": [
       "<style>div.sk-top-container {color: black;background-color: white;}div.sk-toggleable {background-color: white;}label.sk-toggleable__label {cursor: pointer;display: block;width: 100%;margin-bottom: 0;padding: 0.2em 0.3em;box-sizing: border-box;text-align: center;}div.sk-toggleable__content {max-height: 0;max-width: 0;overflow: hidden;text-align: left;background-color: #f0f8ff;}div.sk-toggleable__content pre {margin: 0.2em;color: black;border-radius: 0.25em;background-color: #f0f8ff;}input.sk-toggleable__control:checked~div.sk-toggleable__content {max-height: 200px;max-width: 100%;overflow: auto;}div.sk-estimator input.sk-toggleable__control:checked~label.sk-toggleable__label {background-color: #d4ebff;}div.sk-label input.sk-toggleable__control:checked~label.sk-toggleable__label {background-color: #d4ebff;}input.sk-hidden--visually {border: 0;clip: rect(1px 1px 1px 1px);clip: rect(1px, 1px, 1px, 1px);height: 1px;margin: -1px;overflow: hidden;padding: 0;position: absolute;width: 1px;}div.sk-estimator {font-family: monospace;background-color: #f0f8ff;margin: 0.25em 0.25em;border: 1px dotted black;border-radius: 0.25em;box-sizing: border-box;}div.sk-estimator:hover {background-color: #d4ebff;}div.sk-parallel-item::after {content: \"\";width: 100%;border-bottom: 1px solid gray;flex-grow: 1;}div.sk-label:hover label.sk-toggleable__label {background-color: #d4ebff;}div.sk-serial::before {content: \"\";position: absolute;border-left: 1px solid gray;box-sizing: border-box;top: 2em;bottom: 0;left: 50%;}div.sk-serial {display: flex;flex-direction: column;align-items: center;background-color: white;}div.sk-item {z-index: 1;}div.sk-parallel {display: flex;align-items: stretch;justify-content: center;background-color: white;}div.sk-parallel-item {display: flex;flex-direction: column;position: relative;background-color: white;}div.sk-parallel-item:first-child::after {align-self: flex-end;width: 50%;}div.sk-parallel-item:last-child::after {align-self: flex-start;width: 50%;}div.sk-parallel-item:only-child::after {width: 0;}div.sk-dashed-wrapped {border: 1px dashed gray;margin: 0.2em;box-sizing: border-box;padding-bottom: 0.1em;background-color: white;position: relative;}div.sk-label label {font-family: monospace;font-weight: bold;background-color: white;display: inline-block;line-height: 1.2em;}div.sk-label-container {position: relative;z-index: 2;text-align: center;}div.sk-container {display: inline-block;position: relative;}</style><div class=\"sk-top-container\"><div class=\"sk-container\"><div class=\"sk-item sk-dashed-wrapped\"><div class=\"sk-label-container\"><div class=\"sk-label sk-toggleable\"><input class=\"sk-toggleable__control sk-hidden--visually\" id=\"30791ef5-3ab4-43db-b57c-3a841e8ae996\" type=\"checkbox\" ><label class=\"sk-toggleable__label\" for=\"30791ef5-3ab4-43db-b57c-3a841e8ae996\">Pipeline</label><div class=\"sk-toggleable__content\"><pre>Pipeline(steps=[('preprocessing',\n",
       "                 ColumnTransformer(remainder='passthrough',\n",
       "                                   transformers=[('minmaxscaler',\n",
       "                                                  MinMaxScaler(),\n",
       "                                                  ['acousticness',\n",
       "                                                   'danceability',\n",
       "                                                   'duration_ms', 'energy',\n",
       "                                                   'instrumentalness',\n",
       "                                                   'liveness', 'loudness',\n",
       "                                                   'speechiness', 'tempo',\n",
       "                                                   'valence']),\n",
       "                                                 ('artistpopularitytransformer',\n",
       "                                                  ArtistPopularityTransformer(),\n",
       "                                                  ['artist']),\n",
       "                                                 ('toyeartransformer',\n",
       "                                                  ToYearTransformer(),\n",
       "                                                  ['release_date'])])),\n",
       "                ('linear_reg', LinearRegression())])</pre></div></div></div><div class=\"sk-serial\"><div class=\"sk-item sk-dashed-wrapped\"><div class=\"sk-label-container\"><div class=\"sk-label sk-toggleable\"><input class=\"sk-toggleable__control sk-hidden--visually\" id=\"25265d12-0cbc-48fd-9d8b-f90183df1414\" type=\"checkbox\" ><label class=\"sk-toggleable__label\" for=\"25265d12-0cbc-48fd-9d8b-f90183df1414\">preprocessing: ColumnTransformer</label><div class=\"sk-toggleable__content\"><pre>ColumnTransformer(remainder='passthrough',\n",
       "                  transformers=[('minmaxscaler', MinMaxScaler(),\n",
       "                                 ['acousticness', 'danceability', 'duration_ms',\n",
       "                                  'energy', 'instrumentalness', 'liveness',\n",
       "                                  'loudness', 'speechiness', 'tempo',\n",
       "                                  'valence']),\n",
       "                                ('artistpopularitytransformer',\n",
       "                                 ArtistPopularityTransformer(), ['artist']),\n",
       "                                ('toyeartransformer', ToYearTransformer(),\n",
       "                                 ['release_date'])])</pre></div></div></div><div class=\"sk-parallel\"><div class=\"sk-parallel-item\"><div class=\"sk-item\"><div class=\"sk-label-container\"><div class=\"sk-label sk-toggleable\"><input class=\"sk-toggleable__control sk-hidden--visually\" id=\"f382141b-8e33-4e8c-a1c1-0d45f688a22d\" type=\"checkbox\" ><label class=\"sk-toggleable__label\" for=\"f382141b-8e33-4e8c-a1c1-0d45f688a22d\">minmaxscaler</label><div class=\"sk-toggleable__content\"><pre>['acousticness', 'danceability', 'duration_ms', 'energy', 'instrumentalness', 'liveness', 'loudness', 'speechiness', 'tempo', 'valence']</pre></div></div></div><div class=\"sk-serial\"><div class=\"sk-item\"><div class=\"sk-estimator sk-toggleable\"><input class=\"sk-toggleable__control sk-hidden--visually\" id=\"9f59b3e7-1e76-42ad-8a4c-dffe27ab38c4\" type=\"checkbox\" ><label class=\"sk-toggleable__label\" for=\"9f59b3e7-1e76-42ad-8a4c-dffe27ab38c4\">MinMaxScaler</label><div class=\"sk-toggleable__content\"><pre>MinMaxScaler()</pre></div></div></div></div></div></div><div class=\"sk-parallel-item\"><div class=\"sk-item\"><div class=\"sk-label-container\"><div class=\"sk-label sk-toggleable\"><input class=\"sk-toggleable__control sk-hidden--visually\" id=\"b299cbdf-8692-49e1-8669-6f73ea0546b8\" type=\"checkbox\" ><label class=\"sk-toggleable__label\" for=\"b299cbdf-8692-49e1-8669-6f73ea0546b8\">artistpopularitytransformer</label><div class=\"sk-toggleable__content\"><pre>['artist']</pre></div></div></div><div class=\"sk-serial\"><div class=\"sk-item\"><div class=\"sk-estimator sk-toggleable\"><input class=\"sk-toggleable__control sk-hidden--visually\" id=\"1fb1cb11-7c0e-4266-abbd-fd4bac37f9a4\" type=\"checkbox\" ><label class=\"sk-toggleable__label\" for=\"1fb1cb11-7c0e-4266-abbd-fd4bac37f9a4\">ArtistPopularityTransformer</label><div class=\"sk-toggleable__content\"><pre>ArtistPopularityTransformer()</pre></div></div></div></div></div></div><div class=\"sk-parallel-item\"><div class=\"sk-item\"><div class=\"sk-label-container\"><div class=\"sk-label sk-toggleable\"><input class=\"sk-toggleable__control sk-hidden--visually\" id=\"8a71696e-f53b-400b-bdfe-b2214c684123\" type=\"checkbox\" ><label class=\"sk-toggleable__label\" for=\"8a71696e-f53b-400b-bdfe-b2214c684123\">toyeartransformer</label><div class=\"sk-toggleable__content\"><pre>['release_date']</pre></div></div></div><div class=\"sk-serial\"><div class=\"sk-item\"><div class=\"sk-estimator sk-toggleable\"><input class=\"sk-toggleable__control sk-hidden--visually\" id=\"aa4a0b4c-3fd6-47ab-b51e-c241a4a47674\" type=\"checkbox\" ><label class=\"sk-toggleable__label\" for=\"aa4a0b4c-3fd6-47ab-b51e-c241a4a47674\">ToYearTransformer</label><div class=\"sk-toggleable__content\"><pre>ToYearTransformer()</pre></div></div></div></div></div></div><div class=\"sk-parallel-item\"><div class=\"sk-item\"><div class=\"sk-label-container\"><div class=\"sk-label sk-toggleable\"><input class=\"sk-toggleable__control sk-hidden--visually\" id=\"57d0631f-0033-48b9-926a-c58247d85ab8\" type=\"checkbox\" ><label class=\"sk-toggleable__label\" for=\"57d0631f-0033-48b9-926a-c58247d85ab8\">remainder</label><div class=\"sk-toggleable__content\"><pre>['explicit', 'mode']</pre></div></div></div><div class=\"sk-serial\"><div class=\"sk-item\"><div class=\"sk-estimator sk-toggleable\"><input class=\"sk-toggleable__control sk-hidden--visually\" id=\"dc39944e-146e-45ce-9755-c33f76f9439a\" type=\"checkbox\" ><label class=\"sk-toggleable__label\" for=\"dc39944e-146e-45ce-9755-c33f76f9439a\">passthrough</label><div class=\"sk-toggleable__content\"><pre>passthrough</pre></div></div></div></div></div></div></div></div><div class=\"sk-item\"><div class=\"sk-estimator sk-toggleable\"><input class=\"sk-toggleable__control sk-hidden--visually\" id=\"423321e5-5646-4a52-bc5e-96047258deae\" type=\"checkbox\" ><label class=\"sk-toggleable__label\" for=\"423321e5-5646-4a52-bc5e-96047258deae\">LinearRegression</label><div class=\"sk-toggleable__content\"><pre>LinearRegression()</pre></div></div></div></div></div></div></div>"
      ],
      "text/plain": [
       "Pipeline(steps=[('preprocessing',\n",
       "                 ColumnTransformer(remainder='passthrough',\n",
       "                                   transformers=[('minmaxscaler',\n",
       "                                                  MinMaxScaler(),\n",
       "                                                  ['acousticness',\n",
       "                                                   'danceability',\n",
       "                                                   'duration_ms', 'energy',\n",
       "                                                   'instrumentalness',\n",
       "                                                   'liveness', 'loudness',\n",
       "                                                   'speechiness', 'tempo',\n",
       "                                                   'valence']),\n",
       "                                                 ('artistpopularitytransformer',\n",
       "                                                  ArtistPopularityTransformer(),\n",
       "                                                  ['artist']),\n",
       "                                                 ('toyeartransformer',\n",
       "                                                  ToYearTransformer(),\n",
       "                                                  ['release_date'])])),\n",
       "                ('linear_reg', LinearRegression())])"
      ]
     },
     "execution_count": 117,
     "metadata": {},
     "output_type": "execute_result"
    }
   ],
   "source": [
    "# Print below your best pipe for correction purpose\n",
    "from sklearn import set_config; set_config(display='diagram')\n",
    "pipe_linear"
   ]
  },
  {
   "cell_type": "code",
   "execution_count": 118,
   "metadata": {
    "ExecuteTime": {
     "end_time": "2021-03-19T16:38:08.703922Z",
     "start_time": "2021-03-19T16:38:08.684417Z"
    }
   },
   "outputs": [
    {
     "data": {
      "text/html": [
       "<style>div.sk-top-container {color: black;background-color: white;}div.sk-toggleable {background-color: white;}label.sk-toggleable__label {cursor: pointer;display: block;width: 100%;margin-bottom: 0;padding: 0.2em 0.3em;box-sizing: border-box;text-align: center;}div.sk-toggleable__content {max-height: 0;max-width: 0;overflow: hidden;text-align: left;background-color: #f0f8ff;}div.sk-toggleable__content pre {margin: 0.2em;color: black;border-radius: 0.25em;background-color: #f0f8ff;}input.sk-toggleable__control:checked~div.sk-toggleable__content {max-height: 200px;max-width: 100%;overflow: auto;}div.sk-estimator input.sk-toggleable__control:checked~label.sk-toggleable__label {background-color: #d4ebff;}div.sk-label input.sk-toggleable__control:checked~label.sk-toggleable__label {background-color: #d4ebff;}input.sk-hidden--visually {border: 0;clip: rect(1px 1px 1px 1px);clip: rect(1px, 1px, 1px, 1px);height: 1px;margin: -1px;overflow: hidden;padding: 0;position: absolute;width: 1px;}div.sk-estimator {font-family: monospace;background-color: #f0f8ff;margin: 0.25em 0.25em;border: 1px dotted black;border-radius: 0.25em;box-sizing: border-box;}div.sk-estimator:hover {background-color: #d4ebff;}div.sk-parallel-item::after {content: \"\";width: 100%;border-bottom: 1px solid gray;flex-grow: 1;}div.sk-label:hover label.sk-toggleable__label {background-color: #d4ebff;}div.sk-serial::before {content: \"\";position: absolute;border-left: 1px solid gray;box-sizing: border-box;top: 2em;bottom: 0;left: 50%;}div.sk-serial {display: flex;flex-direction: column;align-items: center;background-color: white;}div.sk-item {z-index: 1;}div.sk-parallel {display: flex;align-items: stretch;justify-content: center;background-color: white;}div.sk-parallel-item {display: flex;flex-direction: column;position: relative;background-color: white;}div.sk-parallel-item:first-child::after {align-self: flex-end;width: 50%;}div.sk-parallel-item:last-child::after {align-self: flex-start;width: 50%;}div.sk-parallel-item:only-child::after {width: 0;}div.sk-dashed-wrapped {border: 1px dashed gray;margin: 0.2em;box-sizing: border-box;padding-bottom: 0.1em;background-color: white;position: relative;}div.sk-label label {font-family: monospace;font-weight: bold;background-color: white;display: inline-block;line-height: 1.2em;}div.sk-label-container {position: relative;z-index: 2;text-align: center;}div.sk-container {display: inline-block;position: relative;}</style><div class=\"sk-top-container\"><div class=\"sk-container\"><div class=\"sk-item sk-dashed-wrapped\"><div class=\"sk-label-container\"><div class=\"sk-label sk-toggleable\"><input class=\"sk-toggleable__control sk-hidden--visually\" id=\"23c2ada5-5bfa-40da-8697-f1a9d67d2eae\" type=\"checkbox\" ><label class=\"sk-toggleable__label\" for=\"23c2ada5-5bfa-40da-8697-f1a9d67d2eae\">Pipeline</label><div class=\"sk-toggleable__content\"><pre>Pipeline(steps=[('preprocessing',\n",
       "                 ColumnTransformer(remainder='passthrough',\n",
       "                                   transformers=[('minmaxscaler',\n",
       "                                                  MinMaxScaler(),\n",
       "                                                  ['acousticness',\n",
       "                                                   'danceability',\n",
       "                                                   'duration_ms', 'energy',\n",
       "                                                   'instrumentalness',\n",
       "                                                   'liveness', 'loudness',\n",
       "                                                   'speechiness', 'tempo',\n",
       "                                                   'valence']),\n",
       "                                                 ('artistpopularitytransformer',\n",
       "                                                  ArtistPopularityTransformer(),\n",
       "                                                  ['artist']),\n",
       "                                                 ('toyeartransformer',\n",
       "                                                  ToYearTransformer(),\n",
       "                                                  ['release_date'])])),\n",
       "                ('KNN', KNeighborsRegressor())])</pre></div></div></div><div class=\"sk-serial\"><div class=\"sk-item sk-dashed-wrapped\"><div class=\"sk-label-container\"><div class=\"sk-label sk-toggleable\"><input class=\"sk-toggleable__control sk-hidden--visually\" id=\"7c5bc537-7c71-4851-88f6-cd6fbc5ff867\" type=\"checkbox\" ><label class=\"sk-toggleable__label\" for=\"7c5bc537-7c71-4851-88f6-cd6fbc5ff867\">preprocessing: ColumnTransformer</label><div class=\"sk-toggleable__content\"><pre>ColumnTransformer(remainder='passthrough',\n",
       "                  transformers=[('minmaxscaler', MinMaxScaler(),\n",
       "                                 ['acousticness', 'danceability', 'duration_ms',\n",
       "                                  'energy', 'instrumentalness', 'liveness',\n",
       "                                  'loudness', 'speechiness', 'tempo',\n",
       "                                  'valence']),\n",
       "                                ('artistpopularitytransformer',\n",
       "                                 ArtistPopularityTransformer(), ['artist']),\n",
       "                                ('toyeartransformer', ToYearTransformer(),\n",
       "                                 ['release_date'])])</pre></div></div></div><div class=\"sk-parallel\"><div class=\"sk-parallel-item\"><div class=\"sk-item\"><div class=\"sk-label-container\"><div class=\"sk-label sk-toggleable\"><input class=\"sk-toggleable__control sk-hidden--visually\" id=\"02832471-4511-4791-98f6-8e68083d9492\" type=\"checkbox\" ><label class=\"sk-toggleable__label\" for=\"02832471-4511-4791-98f6-8e68083d9492\">minmaxscaler</label><div class=\"sk-toggleable__content\"><pre>['acousticness', 'danceability', 'duration_ms', 'energy', 'instrumentalness', 'liveness', 'loudness', 'speechiness', 'tempo', 'valence']</pre></div></div></div><div class=\"sk-serial\"><div class=\"sk-item\"><div class=\"sk-estimator sk-toggleable\"><input class=\"sk-toggleable__control sk-hidden--visually\" id=\"522352c5-14ea-474d-b418-2563722572d2\" type=\"checkbox\" ><label class=\"sk-toggleable__label\" for=\"522352c5-14ea-474d-b418-2563722572d2\">MinMaxScaler</label><div class=\"sk-toggleable__content\"><pre>MinMaxScaler()</pre></div></div></div></div></div></div><div class=\"sk-parallel-item\"><div class=\"sk-item\"><div class=\"sk-label-container\"><div class=\"sk-label sk-toggleable\"><input class=\"sk-toggleable__control sk-hidden--visually\" id=\"b0c23d1a-7747-4af5-988b-f7751f946f33\" type=\"checkbox\" ><label class=\"sk-toggleable__label\" for=\"b0c23d1a-7747-4af5-988b-f7751f946f33\">artistpopularitytransformer</label><div class=\"sk-toggleable__content\"><pre>['artist']</pre></div></div></div><div class=\"sk-serial\"><div class=\"sk-item\"><div class=\"sk-estimator sk-toggleable\"><input class=\"sk-toggleable__control sk-hidden--visually\" id=\"d2f97d8a-45bf-4b3a-985a-f93a0139f960\" type=\"checkbox\" ><label class=\"sk-toggleable__label\" for=\"d2f97d8a-45bf-4b3a-985a-f93a0139f960\">ArtistPopularityTransformer</label><div class=\"sk-toggleable__content\"><pre>ArtistPopularityTransformer()</pre></div></div></div></div></div></div><div class=\"sk-parallel-item\"><div class=\"sk-item\"><div class=\"sk-label-container\"><div class=\"sk-label sk-toggleable\"><input class=\"sk-toggleable__control sk-hidden--visually\" id=\"917ca7ca-1abb-4b98-be14-4fbf422e8363\" type=\"checkbox\" ><label class=\"sk-toggleable__label\" for=\"917ca7ca-1abb-4b98-be14-4fbf422e8363\">toyeartransformer</label><div class=\"sk-toggleable__content\"><pre>['release_date']</pre></div></div></div><div class=\"sk-serial\"><div class=\"sk-item\"><div class=\"sk-estimator sk-toggleable\"><input class=\"sk-toggleable__control sk-hidden--visually\" id=\"e25de910-faaa-4e73-951f-6e2c9936cb04\" type=\"checkbox\" ><label class=\"sk-toggleable__label\" for=\"e25de910-faaa-4e73-951f-6e2c9936cb04\">ToYearTransformer</label><div class=\"sk-toggleable__content\"><pre>ToYearTransformer()</pre></div></div></div></div></div></div><div class=\"sk-parallel-item\"><div class=\"sk-item\"><div class=\"sk-label-container\"><div class=\"sk-label sk-toggleable\"><input class=\"sk-toggleable__control sk-hidden--visually\" id=\"888b617e-315b-4ed1-a725-7d572c889c39\" type=\"checkbox\" ><label class=\"sk-toggleable__label\" for=\"888b617e-315b-4ed1-a725-7d572c889c39\">remainder</label><div class=\"sk-toggleable__content\"><pre>['explicit', 'mode']</pre></div></div></div><div class=\"sk-serial\"><div class=\"sk-item\"><div class=\"sk-estimator sk-toggleable\"><input class=\"sk-toggleable__control sk-hidden--visually\" id=\"7e623814-1049-4f0b-8ef4-45a2f99aba51\" type=\"checkbox\" ><label class=\"sk-toggleable__label\" for=\"7e623814-1049-4f0b-8ef4-45a2f99aba51\">passthrough</label><div class=\"sk-toggleable__content\"><pre>passthrough</pre></div></div></div></div></div></div></div></div><div class=\"sk-item\"><div class=\"sk-estimator sk-toggleable\"><input class=\"sk-toggleable__control sk-hidden--visually\" id=\"c8a30985-7481-4d10-8ea5-9f958a6798dd\" type=\"checkbox\" ><label class=\"sk-toggleable__label\" for=\"c8a30985-7481-4d10-8ea5-9f958a6798dd\">KNeighborsRegressor</label><div class=\"sk-toggleable__content\"><pre>KNeighborsRegressor()</pre></div></div></div></div></div></div></div>"
      ],
      "text/plain": [
       "Pipeline(steps=[('preprocessing',\n",
       "                 ColumnTransformer(remainder='passthrough',\n",
       "                                   transformers=[('minmaxscaler',\n",
       "                                                  MinMaxScaler(),\n",
       "                                                  ['acousticness',\n",
       "                                                   'danceability',\n",
       "                                                   'duration_ms', 'energy',\n",
       "                                                   'instrumentalness',\n",
       "                                                   'liveness', 'loudness',\n",
       "                                                   'speechiness', 'tempo',\n",
       "                                                   'valence']),\n",
       "                                                 ('artistpopularitytransformer',\n",
       "                                                  ArtistPopularityTransformer(),\n",
       "                                                  ['artist']),\n",
       "                                                 ('toyeartransformer',\n",
       "                                                  ToYearTransformer(),\n",
       "                                                  ['release_date'])])),\n",
       "                ('KNN', KNeighborsRegressor())])"
      ]
     },
     "execution_count": 118,
     "metadata": {},
     "output_type": "execute_result"
    }
   ],
   "source": [
    "# Print below your best pipe for correction purpose\n",
    "pipe_ensemble"
   ]
  },
  {
   "cell_type": "code",
   "execution_count": 119,
   "metadata": {
    "ExecuteTime": {
     "end_time": "2021-03-19T16:38:30.015150Z",
     "start_time": "2021-03-19T16:38:30.009445Z"
    }
   },
   "outputs": [],
   "source": [
    "from nbresult import ChallengeResult\n",
    "\n",
    "ChallengeResult(\"c8_c9_c11_c13_model_tuning\",\n",
    "    scoring = scoring,\n",
    "    score_linear=score_linear,\n",
    "    score_ensemble=score_ensemble).write()"
   ]
  },
  {
   "cell_type": "markdown",
   "metadata": {},
   "source": [
    "## API \n",
    "\n",
    "Time to put a pipeline in production!\n",
    "\n",
    "👉 Go to https://github.com/lewagon/data-certification-api and follow instructions\n",
    "\n",
    "**This final part is independent from the above notebook**"
   ]
  }
 ],
 "metadata": {
  "celltoolbar": "Slideshow",
  "kernelspec": {
   "display_name": "Python 3",
   "language": "python",
   "name": "python3"
  },
  "language_info": {
   "codemirror_mode": {
    "name": "ipython",
    "version": 3
   },
   "file_extension": ".py",
   "mimetype": "text/x-python",
   "name": "python",
   "nbconvert_exporter": "python",
   "pygments_lexer": "ipython3",
   "version": "3.8.6"
  },
  "toc": {
   "base_numbering": 1,
   "nav_menu": {},
   "number_sections": true,
   "sideBar": true,
   "skip_h1_title": true,
   "title_cell": "Table of Contents",
   "title_sidebar": "Contents",
   "toc_cell": false,
   "toc_position": {
    "height": "calc(100% - 180px)",
    "left": "10px",
    "top": "150px",
    "width": "252.003px"
   },
   "toc_section_display": true,
   "toc_window_display": true
  },
  "varInspector": {
   "cols": {
    "lenName": 16,
    "lenType": 16,
    "lenVar": 40
   },
   "kernels_config": {
    "python": {
     "delete_cmd_postfix": "",
     "delete_cmd_prefix": "del ",
     "library": "var_list.py",
     "varRefreshCmd": "print(var_dic_list())"
    },
    "r": {
     "delete_cmd_postfix": ") ",
     "delete_cmd_prefix": "rm(",
     "library": "var_list.r",
     "varRefreshCmd": "cat(var_dic_list()) "
    }
   },
   "types_to_exclude": [
    "module",
    "function",
    "builtin_function_or_method",
    "instance",
    "_Feature"
   ],
   "window_display": false
  }
 },
 "nbformat": 4,
 "nbformat_minor": 4
}
