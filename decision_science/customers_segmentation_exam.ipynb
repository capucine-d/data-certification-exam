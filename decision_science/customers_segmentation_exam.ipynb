{
 "cells": [
  {
   "cell_type": "markdown",
   "metadata": {},
   "source": [
    "# Customers segmentation"
   ]
  },
  {
   "cell_type": "markdown",
   "metadata": {},
   "source": [
    "**Las Wagones** is a company selling IT equipment , from small consumable items to large printers. Las Wagones has identified 4 customers segments noted _A, B, C and D_. These segments have been identified by the Sales department based on a study of the historical buying behavior of the customers. The Marketing department is very interested in understanding who are the customers inside these segments at an early stage. They ordered you for a study. This study aims at understanding what are these 4 segments."
   ]
  },
  {
   "cell_type": "code",
   "execution_count": 1,
   "metadata": {
    "ExecuteTime": {
     "end_time": "2021-03-18T16:11:11.945227Z",
     "start_time": "2021-03-18T16:11:11.929256Z"
    }
   },
   "outputs": [],
   "source": [
    "# Load the nbresult package to be able to save your results \n",
    "from nbresult import ChallengeResult"
   ]
  },
  {
   "cell_type": "markdown",
   "metadata": {},
   "source": [
    "## Data collection (9.5%)"
   ]
  },
  {
   "cell_type": "markdown",
   "metadata": {},
   "source": [
    "### Loading data from the database"
   ]
  },
  {
   "cell_type": "markdown",
   "metadata": {},
   "source": [
    "Download the `customers.sqlite` database from this [URL](https://wagon-public-datasets.s3.amazonaws.com/certification_paris_2021Q1/customers.sqlite) and store it inside the `db` folder:"
   ]
  },
  {
   "cell_type": "code",
   "execution_count": 2,
   "metadata": {
    "ExecuteTime": {
     "end_time": "2021-03-18T16:11:12.846111Z",
     "start_time": "2021-03-18T16:11:11.948865Z"
    }
   },
   "outputs": [
    {
     "name": "stdout",
     "output_type": "stream",
     "text": [
      "  % Total    % Received % Xferd  Average Speed   Time    Time     Time  Current\n",
      "                                 Dload  Upload   Total   Spent    Left  Speed\n",
      "100  608k  100  608k    0     0   797k      0 --:--:-- --:--:-- --:--:--  796k\n"
     ]
    }
   ],
   "source": [
    "!curl https://wagon-public-datasets.s3.amazonaws.com/certification_paris_2021Q1/customers.sqlite >> db/customers.sqlite"
   ]
  },
  {
   "cell_type": "markdown",
   "metadata": {},
   "source": [
    "#### Database schema"
   ]
  },
  {
   "cell_type": "markdown",
   "metadata": {},
   "source": [
    "**📝 Open the `db/customers.sqlite` from your favorite SQL client and draw the database schema on the [schema editor](https://kitt.lewagon.com/db) on Kitt. Save the schema as `customers.xml` in the `db` folder.**"
   ]
  },
  {
   "cell_type": "markdown",
   "metadata": {},
   "source": [
    "#### Querying the data"
   ]
  },
  {
   "cell_type": "markdown",
   "metadata": {},
   "source": [
    "We want to get the following information about **all** the 8068 customers from the database:\n",
    "- `id`: the unique identifier of the customer\n",
    "- `gender`: customer's gender\n",
    "- `married`: whether or not the customer has ever been married\n",
    "- `age`: customer's age\n",
    "- `graduated`: whether or not the customer has a degree\n",
    "- `score`: customer's spending score (first order)\n",
    "- `family_size`: the number of members of the customer's family, including the customer\n",
    "- `profession`: customer's profession\n",
    "- `work_experience`: customer's work experience in years\n",
    "- `segment`: the segment the customer belongs to"
   ]
  },
  {
   "cell_type": "markdown",
   "metadata": {},
   "source": [
    "**📝 Write the SQL query you need to fetch the data. Save it as a `str` in the `query` variable.**"
   ]
  },
  {
   "cell_type": "code",
   "execution_count": 3,
   "metadata": {
    "ExecuteTime": {
     "end_time": "2021-03-18T16:11:12.853497Z",
     "start_time": "2021-03-18T16:11:12.849606Z"
    }
   },
   "outputs": [],
   "source": [
    "query = '''\n",
    "SELECT c.id\n",
    "       ,c.gender\n",
    "       ,c.married\n",
    "       ,c.age\n",
    "       ,c.graduated\n",
    "       ,c.score\n",
    "       ,COUNT(r.id) + 1 AS family_size\n",
    "       ,p.category AS profession\n",
    "       ,e.duration AS work_experience\n",
    "       ,c.segment\n",
    "FROM customers c\n",
    "LEFT JOIN relatives r ON r.customer_id  = c.id \n",
    "LEFT JOIN experiences e ON e.customer_id = c.id \n",
    "LEFT JOIN professions p ON p.id = e.profession_id\n",
    "GROUP BY c.id\n",
    "'''"
   ]
  },
  {
   "cell_type": "markdown",
   "metadata": {},
   "source": [
    "**📝 Connect to the database, execute the query and store the results into a `DataFrame` named `data`. Display the 10 first rows and the shape of the dataset.**"
   ]
  },
  {
   "cell_type": "code",
   "execution_count": 4,
   "metadata": {
    "ExecuteTime": {
     "end_time": "2021-03-18T16:11:13.556747Z",
     "start_time": "2021-03-18T16:11:12.857079Z"
    }
   },
   "outputs": [
    {
     "ename": "NameError",
     "evalue": "name 'query_columns' is not defined",
     "output_type": "error",
     "traceback": [
      "\u001b[0;31m---------------------------------------------------------------------------\u001b[0m",
      "\u001b[0;31mNameError\u001b[0m                                 Traceback (most recent call last)",
      "\u001b[0;32m<ipython-input-4-7363e518a794>\u001b[0m in \u001b[0;36m<module>\u001b[0;34m\u001b[0m\n\u001b[1;32m     21\u001b[0m        \u001b[0;34m,\u001b[0m\u001b[0;34m\"work_experience\"\u001b[0m\u001b[0;34m\u001b[0m\u001b[0;34m\u001b[0m\u001b[0m\n\u001b[1;32m     22\u001b[0m        ,\"segment\"]\n\u001b[0;32m---> 23\u001b[0;31m \u001b[0mdata\u001b[0m \u001b[0;34m=\u001b[0m \u001b[0mpd\u001b[0m\u001b[0;34m.\u001b[0m\u001b[0mDataFrame\u001b[0m\u001b[0;34m(\u001b[0m\u001b[0mrows\u001b[0m\u001b[0;34m,\u001b[0m \u001b[0mcolumns\u001b[0m\u001b[0;34m=\u001b[0m\u001b[0mquery_columns\u001b[0m\u001b[0;34m)\u001b[0m\u001b[0;34m\u001b[0m\u001b[0;34m\u001b[0m\u001b[0m\n\u001b[0m",
      "\u001b[0;31mNameError\u001b[0m: name 'query_columns' is not defined"
     ]
    }
   ],
   "source": [
    "import sqlite3\n",
    "import pandas as pd\n",
    "\n",
    "# Connect to the database\n",
    "conn = sqlite3.connect('db/customers.sqlite')\n",
    "c = conn.cursor()\n",
    "\n",
    "# Execute the query\n",
    "c.execute(query)\n",
    "rows = c.fetchall()\n",
    "\n",
    "# Store results in a DataFrame named data\n",
    "df_columns = [\"id\"\n",
    "       ,\"gender\"\n",
    "       ,\"married\"\n",
    "       ,\"age\"\n",
    "       ,\"graduated\"\n",
    "       ,\"score\"\n",
    "       ,\"family_size\"\n",
    "       ,\"profession\"\n",
    "       ,\"work_experience\"\n",
    "       ,\"segment\"]\n",
    "data = pd.DataFrame(rows, columns=query_columns)"
   ]
  },
  {
   "cell_type": "code",
   "execution_count": null,
   "metadata": {
    "ExecuteTime": {
     "end_time": "2021-03-18T16:11:13.624763Z",
     "start_time": "2021-03-18T16:11:11.921Z"
    },
    "scrolled": false
   },
   "outputs": [],
   "source": [
    "# Display the first 10 rows\n",
    "data.head(10)"
   ]
  },
  {
   "cell_type": "code",
   "execution_count": null,
   "metadata": {
    "ExecuteTime": {
     "end_time": "2021-03-18T16:11:13.627903Z",
     "start_time": "2021-03-18T16:11:11.924Z"
    }
   },
   "outputs": [],
   "source": [
    "# Display the shape of the dataset\n",
    "data.shape"
   ]
  },
  {
   "cell_type": "markdown",
   "metadata": {},
   "source": [
    "#### 💾 Save your results\n",
    "\n",
    "Run the following cell to save your results."
   ]
  },
  {
   "cell_type": "code",
   "execution_count": null,
   "metadata": {
    "ExecuteTime": {
     "end_time": "2021-03-18T16:11:13.630394Z",
     "start_time": "2021-03-18T16:11:11.927Z"
    },
    "scrolled": true
   },
   "outputs": [],
   "source": [
    "ChallengeResult('sql', query=query).write()"
   ]
  },
  {
   "cell_type": "markdown",
   "metadata": {
    "heading_collapsed": true
   },
   "source": [
    "### Loading data from a CSV file"
   ]
  },
  {
   "cell_type": "markdown",
   "metadata": {
    "hidden": true
   },
   "source": [
    "**📝 Load the data from this [URL](https://wagon-public-datasets.s3.amazonaws.com/certification_paris_2021Q1/customers.csv) inside a `DataFrame` named `customers`.** \n",
    "\n",
    "Also, you can download the dataset into the `data` directory."
   ]
  },
  {
   "cell_type": "code",
   "execution_count": null,
   "metadata": {
    "ExecuteTime": {
     "end_time": "2021-03-18T16:11:13.633018Z",
     "start_time": "2021-03-18T16:11:11.931Z"
    },
    "hidden": true
   },
   "outputs": [],
   "source": [
    "customers = pd.read_csv('data/customers.csv')\n",
    "customers.head()"
   ]
  },
  {
   "cell_type": "markdown",
   "metadata": {
    "hidden": true
   },
   "source": [
    "**💾 Save your results**\n",
    "\n",
    "Run the following cell to save your results."
   ]
  },
  {
   "cell_type": "code",
   "execution_count": null,
   "metadata": {
    "ExecuteTime": {
     "end_time": "2021-03-18T16:11:13.635910Z",
     "start_time": "2021-03-18T16:11:11.935Z"
    },
    "hidden": true
   },
   "outputs": [],
   "source": [
    "ChallengeResult('csv', data=customers).write()"
   ]
  },
  {
   "cell_type": "markdown",
   "metadata": {},
   "source": [
    "## Data consulting challenge (33%)"
   ]
  },
  {
   "cell_type": "markdown",
   "metadata": {
    "heading_collapsed": true
   },
   "source": [
    "### Data analysis & presentation\n",
    "\n",
    "> Who are the customers composing the 4 segments? \n",
    "\n",
    "Based on the analysis of the `customers` dataset, prepare a slides deck to present your conclusions to the Marketing manager Debrah. The presentation must contain **5 slides maximum** (including the title slide). Feel free to choose the slide app of your choice.\n",
    "\n",
    "ℹ️ Debrah is in fond of illustrations and statistics!\n",
    "\n",
    "⚠️ Save your presentation in the current directory!"
   ]
  },
  {
   "cell_type": "code",
   "execution_count": null,
   "metadata": {
    "ExecuteTime": {
     "end_time": "2021-03-18T16:11:13.638994Z",
     "start_time": "2021-03-18T16:11:11.939Z"
    },
    "hidden": true
   },
   "outputs": [],
   "source": [
    "# Start your data analysis!\n",
    "import matplotlib.pyplot as plt\n",
    "import seaborn as sns\n",
    "sns.set_theme()"
   ]
  },
  {
   "cell_type": "markdown",
   "metadata": {
    "heading_collapsed": true,
    "hidden": true
   },
   "source": [
    "#### Explore the dataset and remove null values"
   ]
  },
  {
   "cell_type": "code",
   "execution_count": null,
   "metadata": {
    "ExecuteTime": {
     "end_time": "2021-03-18T16:11:13.641265Z",
     "start_time": "2021-03-18T16:11:11.943Z"
    },
    "hidden": true
   },
   "outputs": [],
   "source": [
    "customers.describe()"
   ]
  },
  {
   "cell_type": "code",
   "execution_count": null,
   "metadata": {
    "ExecuteTime": {
     "end_time": "2021-03-18T16:11:13.643546Z",
     "start_time": "2021-03-18T16:11:11.946Z"
    },
    "hidden": true
   },
   "outputs": [],
   "source": [
    "# How many null values?\n",
    "customers.isna().sum()"
   ]
  },
  {
   "cell_type": "code",
   "execution_count": null,
   "metadata": {
    "ExecuteTime": {
     "end_time": "2021-03-18T16:11:13.645780Z",
     "start_time": "2021-03-18T16:11:11.949Z"
    },
    "hidden": true
   },
   "outputs": [],
   "source": [
    "# Remove null values and analyze if it alter the database stats\n",
    "customers_clean = customers = customers.dropna()\n",
    "customers_clean.describe()"
   ]
  },
  {
   "cell_type": "code",
   "execution_count": null,
   "metadata": {
    "ExecuteTime": {
     "end_time": "2021-03-18T16:11:13.649139Z",
     "start_time": "2021-03-18T16:11:11.953Z"
    },
    "hidden": true
   },
   "outputs": [],
   "source": [
    "# Removing the null values won't alter the stats so we can keep it clean\n",
    "customers = customers_clean.copy()"
   ]
  },
  {
   "cell_type": "markdown",
   "metadata": {
    "heading_collapsed": true,
    "hidden": true
   },
   "source": [
    "#### Explore target: Segmentation"
   ]
  },
  {
   "cell_type": "code",
   "execution_count": null,
   "metadata": {
    "ExecuteTime": {
     "end_time": "2021-03-18T16:11:13.651855Z",
     "start_time": "2021-03-18T16:11:11.957Z"
    },
    "hidden": true,
    "scrolled": true
   },
   "outputs": [],
   "source": [
    "# How many customers in each Segments\n",
    "sns.countplot(customers.Segmentation, hue=customers.Segmentation)"
   ]
  },
  {
   "cell_type": "markdown",
   "metadata": {
    "hidden": true
   },
   "source": [
    "They look pretty well balanced"
   ]
  },
  {
   "cell_type": "markdown",
   "metadata": {
    "hidden": true
   },
   "source": [
    "#### Explore each feature"
   ]
  },
  {
   "cell_type": "markdown",
   "metadata": {
    "hidden": true
   },
   "source": [
    "##### Categorical features"
   ]
  },
  {
   "cell_type": "code",
   "execution_count": null,
   "metadata": {
    "ExecuteTime": {
     "end_time": "2021-03-18T16:11:13.654463Z",
     "start_time": "2021-03-18T16:11:11.963Z"
    },
    "hidden": true,
    "scrolled": true
   },
   "outputs": [],
   "source": [
    "# Ever_Married\n",
    "sns.countplot(customers.Segmentation, hue=customers.Ever_Married)"
   ]
  },
  {
   "cell_type": "markdown",
   "metadata": {
    "hidden": true
   },
   "source": [
    "--> D seems highly correlated with not ever_married, compared to others"
   ]
  },
  {
   "cell_type": "code",
   "execution_count": null,
   "metadata": {
    "ExecuteTime": {
     "end_time": "2021-03-18T16:11:13.656666Z",
     "start_time": "2021-03-18T16:11:11.967Z"
    },
    "hidden": true,
    "scrolled": true
   },
   "outputs": [],
   "source": [
    "# Gender\n",
    "sns.countplot(customers.Segmentation, hue=customers.Gender)"
   ]
  },
  {
   "cell_type": "markdown",
   "metadata": {
    "hidden": true
   },
   "source": [
    "--> All segments have more males than females so gender is not highly correlated with segmentation"
   ]
  },
  {
   "cell_type": "code",
   "execution_count": null,
   "metadata": {
    "ExecuteTime": {
     "end_time": "2021-03-18T16:11:13.658680Z",
     "start_time": "2021-03-18T16:11:11.971Z"
    },
    "hidden": true
   },
   "outputs": [],
   "source": [
    "# Profession\n",
    "plt.figure(figsize=(15,6))\n",
    "sns.countplot(customers.Segmentation, hue=customers.Profession)"
   ]
  },
  {
   "cell_type": "markdown",
   "metadata": {
    "hidden": true
   },
   "source": [
    "--> D highly correlated with Healthcare profession"
   ]
  },
  {
   "cell_type": "code",
   "execution_count": null,
   "metadata": {
    "ExecuteTime": {
     "end_time": "2021-03-18T16:11:13.660795Z",
     "start_time": "2021-03-18T16:11:11.974Z"
    },
    "hidden": true,
    "scrolled": false
   },
   "outputs": [],
   "source": [
    "# Explore Spending Score for each Segment\n",
    "sns.countplot(customers.Segmentation, hue=customers.Spending_Score)"
   ]
  },
  {
   "cell_type": "markdown",
   "metadata": {
    "hidden": true
   },
   "source": [
    "--> D is negatively correlated with high and average spending score"
   ]
  },
  {
   "cell_type": "markdown",
   "metadata": {
    "ExecuteTime": {
     "end_time": "2021-03-18T11:21:37.168397Z",
     "start_time": "2021-03-18T11:21:37.166208Z"
    },
    "hidden": true
   },
   "source": [
    "##### Numerical features"
   ]
  },
  {
   "cell_type": "code",
   "execution_count": null,
   "metadata": {
    "ExecuteTime": {
     "end_time": "2021-03-18T16:11:13.663114Z",
     "start_time": "2021-03-18T16:11:11.978Z"
    },
    "hidden": true
   },
   "outputs": [],
   "source": [
    "# Explore Work Experience for each Segment\n",
    "plt.figure(figsize=(15,6))\n",
    "sns.countplot(customers.Segmentation, hue=customers.Work_Experience)"
   ]
  },
  {
   "cell_type": "code",
   "execution_count": null,
   "metadata": {
    "ExecuteTime": {
     "end_time": "2021-03-18T16:11:13.665400Z",
     "start_time": "2021-03-18T16:11:11.982Z"
    },
    "hidden": true,
    "scrolled": true
   },
   "outputs": [],
   "source": [
    "# Explore Family Size for each Segment\n",
    "plt.figure(figsize=(15,6))\n",
    "sns.countplot(customers.Segmentation, hue=customers.Family_Size)"
   ]
  },
  {
   "cell_type": "code",
   "execution_count": null,
   "metadata": {
    "ExecuteTime": {
     "end_time": "2021-03-18T16:11:13.667912Z",
     "start_time": "2021-03-18T16:11:11.985Z"
    },
    "hidden": true,
    "scrolled": true
   },
   "outputs": [],
   "source": [
    "# Create bins for Family Size: Let's explore the distribution first\n",
    "sns.boxplot(customers.Family_Size)"
   ]
  },
  {
   "cell_type": "code",
   "execution_count": null,
   "metadata": {
    "ExecuteTime": {
     "end_time": "2021-03-18T16:11:13.670708Z",
     "start_time": "2021-03-18T16:11:11.988Z"
    },
    "hidden": true
   },
   "outputs": [],
   "source": [
    "# Create bins\n",
    "customers['Family_Size_binned'] = pd.cut(x= customers['Family_Size'],\n",
    "                       bins=[0,2,3,5,10], \n",
    "                       labels=[\"fam_1\",\"fam_2\",\"fam_34\",\"fam_5+\"])"
   ]
  },
  {
   "cell_type": "code",
   "execution_count": null,
   "metadata": {
    "ExecuteTime": {
     "end_time": "2021-03-18T16:11:13.673190Z",
     "start_time": "2021-03-18T16:11:11.991Z"
    },
    "hidden": true,
    "scrolled": false
   },
   "outputs": [],
   "source": [
    "# Explore Binned Family Size for each Segment\n",
    "plt.figure(figsize=(15,6))\n",
    "sns.countplot(customers.Segmentation, hue=customers.Family_Size_binned)"
   ]
  },
  {
   "cell_type": "code",
   "execution_count": null,
   "metadata": {
    "ExecuteTime": {
     "end_time": "2021-03-18T16:11:13.675962Z",
     "start_time": "2021-03-18T16:11:11.994Z"
    },
    "hidden": true
   },
   "outputs": [],
   "source": [
    "# Age per Segment\n",
    "sns.boxplot(customers[\"Age\"])"
   ]
  },
  {
   "cell_type": "code",
   "execution_count": null,
   "metadata": {
    "ExecuteTime": {
     "end_time": "2021-03-18T16:11:13.679020Z",
     "start_time": "2021-03-18T16:11:11.997Z"
    },
    "hidden": true
   },
   "outputs": [],
   "source": [
    "sns.countplot(customers.Spending_Score, hue=customers.Segmentation)"
   ]
  },
  {
   "cell_type": "code",
   "execution_count": null,
   "metadata": {
    "ExecuteTime": {
     "end_time": "2021-03-18T16:11:13.681374Z",
     "start_time": "2021-03-18T16:11:12.000Z"
    },
    "hidden": true
   },
   "outputs": [],
   "source": [
    "age18_25 = customers.Age[(customers.Age <= 25) & (customers.Age >= 18)]\n",
    "age26_35 = customers.Age[(customers.Age <= 35) & (customers.Age >= 26)]\n",
    "age36_45 = customers.Age[(customers.Age <= 45) & (customers.Age >= 36)]\n",
    "age46_55 = customers.Age[(customers.Age <= 55) & (customers.Age >= 46)]\n",
    "age55above = customers.Age[customers.Age >= 56]\n",
    "\n",
    "x = [\"18-25\",\"26-35\",\"36-45\",\"46-55\",\"55+\"]\n",
    "y = [len(age18_25.values),len(age26_35.values),len(age36_45.values),len(age46_55.values),len(age55above.values)]\n",
    "plt.figure(figsize=(15,6))\n",
    "sns.barplot(x=x, y=y, palette=\"rocket\")\n",
    "plt.title(\"Number of Customer and Ages\")\n",
    "plt.xlabel(\"Age\")\n",
    "plt.ylabel(\"Number of Customer\")\n",
    "plt.show()"
   ]
  },
  {
   "cell_type": "code",
   "execution_count": null,
   "metadata": {
    "ExecuteTime": {
     "end_time": "2021-03-18T16:11:13.683657Z",
     "start_time": "2021-03-18T16:11:12.005Z"
    },
    "hidden": true
   },
   "outputs": [],
   "source": [
    "sns.catplot(data=customers, x=\"Segmentation\", y=\"Age\")"
   ]
  },
  {
   "cell_type": "markdown",
   "metadata": {},
   "source": [
    "### Segmentation relevance\n",
    "\n",
    "Debrah has a doubt about the number of customers segments designed by the Sales department. Base on an empirical method, the elbow method, and a clustering approach **can you tell her if it is an optimal segmentation or not?**\n",
    "\n",
    "Store the optimal number of segments inside the `n_clusters` variable."
   ]
  },
  {
   "cell_type": "code",
   "execution_count": null,
   "metadata": {
    "ExecuteTime": {
     "end_time": "2021-03-18T16:11:13.685737Z",
     "start_time": "2021-03-18T16:11:12.010Z"
    },
    "scrolled": true
   },
   "outputs": [],
   "source": [
    "# ENCODE CATEGORICAL FEATURES\n",
    "customers_dummies = customers.drop(columns='Segmentation')\n",
    "df = pd.get_dummies(customers_dummies, prefix=['Gender', 'Ever_Married', 'Graduated', 'Profession', 'Spending_Score'])\n",
    "df.head()"
   ]
  },
  {
   "cell_type": "code",
   "execution_count": null,
   "metadata": {
    "ExecuteTime": {
     "end_time": "2021-03-18T16:11:13.688635Z",
     "start_time": "2021-03-18T16:11:12.014Z"
    },
    "scrolled": false
   },
   "outputs": [],
   "source": [
    "plt.figure(figsize=(15,6))\n",
    "sns.heatmap(df.corr())"
   ]
  },
  {
   "cell_type": "code",
   "execution_count": null,
   "metadata": {
    "ExecuteTime": {
     "end_time": "2021-03-18T16:11:13.690429Z",
     "start_time": "2021-03-18T16:11:12.019Z"
    }
   },
   "outputs": [],
   "source": [
    "from sklearn.cluster import KMeans \n",
    "\n",
    "inertias = []\n",
    "ks = range(1,10)\n",
    "for k in ks:\n",
    "    km_test = KMeans(n_clusters=k).fit(df)\n",
    "    inertias.append(km_test.inertia_)\n",
    "plt.plot(ks, inertias)\n",
    "plt.xlabel('k cluster number')"
   ]
  },
  {
   "cell_type": "code",
   "execution_count": null,
   "metadata": {
    "ExecuteTime": {
     "end_time": "2021-03-18T16:11:13.692356Z",
     "start_time": "2021-03-18T16:11:12.023Z"
    },
    "scrolled": true
   },
   "outputs": [],
   "source": [
    "km = KMeans(n_clusters=2)\n",
    "km.fit(df)\n",
    "km.cluster_centers_"
   ]
  },
  {
   "cell_type": "code",
   "execution_count": null,
   "metadata": {
    "ExecuteTime": {
     "end_time": "2021-03-18T16:11:13.694203Z",
     "start_time": "2021-03-18T16:11:12.026Z"
    }
   },
   "outputs": [],
   "source": [
    "n_clusters = 2"
   ]
  },
  {
   "cell_type": "markdown",
   "metadata": {},
   "source": [
    "**💾 Save your results**\n",
    "\n",
    "Run the following cell to save your results."
   ]
  },
  {
   "cell_type": "code",
   "execution_count": null,
   "metadata": {
    "ExecuteTime": {
     "end_time": "2021-03-18T16:11:13.696171Z",
     "start_time": "2021-03-18T16:11:12.030Z"
    }
   },
   "outputs": [],
   "source": [
    "ChallengeResult('clusters', n_clusters=n_clusters).write()"
   ]
  },
  {
   "cell_type": "markdown",
   "metadata": {},
   "source": [
    "### Segment D statistics\n",
    "\n",
    "In addition the marketing team is really interested in the **segment D** so you will have to answer some questions about it. \n",
    "\n",
    "To do so, we are considering a binary segmentation: **D vs the rest**. Download the `customers_encoded.csv` dataset from this [URL](https://wagon-public-datasets.s3.amazonaws.com/certification_paris_2021Q1/customers_encoded.csv) and store it into the `data` folder."
   ]
  },
  {
   "cell_type": "markdown",
   "metadata": {
    "heading_collapsed": true
   },
   "source": [
    "#### Loading data"
   ]
  },
  {
   "cell_type": "code",
   "execution_count": null,
   "metadata": {
    "ExecuteTime": {
     "end_time": "2021-03-18T16:11:13.698633Z",
     "start_time": "2021-03-18T16:11:12.035Z"
    },
    "hidden": true
   },
   "outputs": [],
   "source": [
    "# Load the data and display the first rows\n",
    "customers_encoded = pd.read_csv('data/customers_encoded.csv')\n",
    "customers_encoded.head()"
   ]
  },
  {
   "cell_type": "markdown",
   "metadata": {
    "hidden": true
   },
   "source": [
    "After loading the data you can see a new column `is_D` which take the value `1` if the customer belongs to the segment D, `0` otherwise."
   ]
  },
  {
   "cell_type": "markdown",
   "metadata": {
    "heading_collapsed": true
   },
   "source": [
    "#### Age analysis of segment D\n",
    "\n",
    "❓ Using a statistical test, show than customers from segment D are **statistically younger** than the whole customers. \n",
    "\n",
    "Store the $p-value$ of your test inside a `p_value` variable."
   ]
  },
  {
   "cell_type": "code",
   "execution_count": null,
   "metadata": {
    "ExecuteTime": {
     "end_time": "2021-03-18T16:11:13.700872Z",
     "start_time": "2021-03-18T16:11:12.041Z"
    },
    "hidden": true
   },
   "outputs": [],
   "source": [
    "# Average age\n",
    "average_age = customers_encoded.Age.mean()\n",
    "average_age"
   ]
  },
  {
   "cell_type": "code",
   "execution_count": null,
   "metadata": {
    "ExecuteTime": {
     "end_time": "2021-03-18T16:11:13.703113Z",
     "start_time": "2021-03-18T16:11:12.044Z"
    },
    "hidden": true
   },
   "outputs": [],
   "source": [
    "# Average age of D customers\n",
    "d_average_age = customers_encoded[customers_encoded['is_D']==1].Age.mean()\n",
    "d_average_age"
   ]
  },
  {
   "cell_type": "code",
   "execution_count": null,
   "metadata": {
    "ExecuteTime": {
     "end_time": "2021-03-18T16:11:13.705628Z",
     "start_time": "2021-03-18T16:11:12.047Z"
    },
    "hidden": true
   },
   "outputs": [],
   "source": [
    "# Standard Deviation of age\n",
    "import numpy as np\n",
    "std_age = np.std(customers_encoded.Age)\n",
    "std_age"
   ]
  },
  {
   "cell_type": "code",
   "execution_count": null,
   "metadata": {
    "ExecuteTime": {
     "end_time": "2021-03-18T16:11:13.707873Z",
     "start_time": "2021-03-18T16:11:12.050Z"
    },
    "hidden": true
   },
   "outputs": [],
   "source": [
    "# Number of D customers\n",
    "len_d_customers = sum(customers_encoded['is_D'])\n",
    "len_d_customers"
   ]
  },
  {
   "cell_type": "code",
   "execution_count": null,
   "metadata": {
    "ExecuteTime": {
     "end_time": "2021-03-18T16:11:13.709861Z",
     "start_time": "2021-03-18T16:11:12.053Z"
    },
    "hidden": true
   },
   "outputs": [],
   "source": [
    "# Create a null hypothesis\n",
    "H0 = \"D customers are NOT statistically younger (=older) than 43,5 years old\"\n",
    "H1 = \"D customers are  statistically younger than 43,5 years old\""
   ]
  },
  {
   "cell_type": "code",
   "execution_count": null,
   "metadata": {
    "ExecuteTime": {
     "end_time": "2021-03-18T16:11:13.712360Z",
     "start_time": "2021-03-18T16:11:12.057Z"
    },
    "hidden": true
   },
   "outputs": [],
   "source": [
    "# Test\n",
    "from scipy.stats import norm\n",
    "X = norm(average_age,std_age/(len_d_customers**0.5))\n",
    "X"
   ]
  },
  {
   "cell_type": "code",
   "execution_count": null,
   "metadata": {
    "ExecuteTime": {
     "end_time": "2021-03-18T16:11:13.714920Z",
     "start_time": "2021-03-18T16:11:12.060Z"
    },
    "hidden": true
   },
   "outputs": [],
   "source": [
    "# p_value\n",
    "p_value = X.cdf(d_average_age)\n",
    "p_value"
   ]
  },
  {
   "cell_type": "markdown",
   "metadata": {
    "hidden": true
   },
   "source": [
    "P-Value is inferior to 5% so we can reject the null hypothesis and conclude that D customers are  statistically younger than the whole customers"
   ]
  },
  {
   "cell_type": "markdown",
   "metadata": {},
   "source": [
    "#### Segment D odds analysis\n",
    "\n",
    "❓ What are the **odds** for a customer to be in the segment D?\n",
    "\n",
    "Store the result inside a `odds` variable."
   ]
  },
  {
   "cell_type": "code",
   "execution_count": null,
   "metadata": {
    "ExecuteTime": {
     "end_time": "2021-03-18T16:11:13.717030Z",
     "start_time": "2021-03-18T16:11:12.064Z"
    }
   },
   "outputs": [],
   "source": [
    "# odds\n",
    "odds = customers_encoded.is_D.mean()\n",
    "odds"
   ]
  },
  {
   "cell_type": "markdown",
   "metadata": {},
   "source": [
    "❓ Considering a **married and graduated** customer, how are the odds of being part of segment D **multiplied** while **increasing** the age by 1 year?\n",
    "\n",
    "Store the result inside a `odds_variation` variable."
   ]
  },
  {
   "cell_type": "code",
   "execution_count": null,
   "metadata": {
    "ExecuteTime": {
     "end_time": "2021-03-18T16:11:13.720052Z",
     "start_time": "2021-03-18T16:11:12.068Z"
    }
   },
   "outputs": [],
   "source": [
    "# Filter by married & graduated\n",
    "married = customers_encoded[customers_encoded['Ever_Married']=='Yes']\n",
    "married_and_graduated = married[married['Graduated']=='Yes']\n",
    "d_married_and_graduated = married_and_graduated[married_and_graduated['is_D']==1]"
   ]
  },
  {
   "cell_type": "code",
   "execution_count": null,
   "metadata": {
    "ExecuteTime": {
     "end_time": "2021-03-18T16:11:13.722485Z",
     "start_time": "2021-03-18T16:11:12.071Z"
    }
   },
   "outputs": [],
   "source": [
    "import statsmodels.formula.api as smf\n",
    "model = smf.logit(formula='is_D ~ Age', data=married_and_graduated).fit()\n",
    "model.params"
   ]
  },
  {
   "cell_type": "markdown",
   "metadata": {
    "ExecuteTime": {
     "end_time": "2021-03-18T14:48:39.260511Z",
     "start_time": "2021-03-18T14:48:39.245492Z"
    }
   },
   "source": [
    "--> **Increasing age by 1 year decreases the log odds of being a customer D by 0.02**"
   ]
  },
  {
   "cell_type": "code",
   "execution_count": null,
   "metadata": {
    "ExecuteTime": {
     "end_time": "2021-03-18T16:11:13.724435Z",
     "start_time": "2021-03-18T16:11:12.075Z"
    }
   },
   "outputs": [],
   "source": [
    "# --> Taking the exponential\n",
    "np.exp(-0.023062)"
   ]
  },
  {
   "cell_type": "markdown",
   "metadata": {
    "ExecuteTime": {
     "end_time": "2021-03-18T14:48:39.260511Z",
     "start_time": "2021-03-18T14:48:39.245492Z"
    }
   },
   "source": [
    "--> **Increasing age by 1 year multiplies the odds of being a customer D by 0.9772018953775428**"
   ]
  },
  {
   "cell_type": "code",
   "execution_count": null,
   "metadata": {
    "ExecuteTime": {
     "end_time": "2021-03-18T16:11:13.726651Z",
     "start_time": "2021-03-18T16:11:12.079Z"
    }
   },
   "outputs": [],
   "source": [
    "odds_variation=0.9772018953775428"
   ]
  },
  {
   "cell_type": "markdown",
   "metadata": {},
   "source": [
    "####  💾 Save your results\n",
    "\n",
    "Run the following cell to save your results."
   ]
  },
  {
   "cell_type": "code",
   "execution_count": null,
   "metadata": {
    "ExecuteTime": {
     "end_time": "2021-03-18T16:11:13.728507Z",
     "start_time": "2021-03-18T16:11:12.083Z"
    }
   },
   "outputs": [],
   "source": [
    "ChallengeResult('segment_d', p_value=p_value, odds=odds, gap=odds_variation).write()"
   ]
  },
  {
   "cell_type": "markdown",
   "metadata": {},
   "source": [
    "**⚠️ Save your notebook then commit and push your code on GitHub**"
   ]
  }
 ],
 "metadata": {
  "kernelspec": {
   "display_name": "Python 3",
   "language": "python",
   "name": "python3"
  },
  "language_info": {
   "codemirror_mode": {
    "name": "ipython",
    "version": 3
   },
   "file_extension": ".py",
   "mimetype": "text/x-python",
   "name": "python",
   "nbconvert_exporter": "python",
   "pygments_lexer": "ipython3",
   "version": "3.8.6"
  },
  "toc": {
   "base_numbering": 1,
   "nav_menu": {},
   "number_sections": true,
   "sideBar": true,
   "skip_h1_title": true,
   "title_cell": "Table of Contents",
   "title_sidebar": "Contents",
   "toc_cell": false,
   "toc_position": {
    "height": "calc(100% - 180px)",
    "left": "10px",
    "top": "150px",
    "width": "165px"
   },
   "toc_section_display": true,
   "toc_window_display": true
  },
  "varInspector": {
   "cols": {
    "lenName": 16,
    "lenType": 16,
    "lenVar": 40
   },
   "kernels_config": {
    "python": {
     "delete_cmd_postfix": "",
     "delete_cmd_prefix": "del ",
     "library": "var_list.py",
     "varRefreshCmd": "print(var_dic_list())"
    },
    "r": {
     "delete_cmd_postfix": ") ",
     "delete_cmd_prefix": "rm(",
     "library": "var_list.r",
     "varRefreshCmd": "cat(var_dic_list()) "
    }
   },
   "types_to_exclude": [
    "module",
    "function",
    "builtin_function_or_method",
    "instance",
    "_Feature"
   ],
   "window_display": false
  }
 },
 "nbformat": 4,
 "nbformat_minor": 4
}
