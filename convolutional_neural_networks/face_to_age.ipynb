{
 "cells": [
  {
   "cell_type": "markdown",
   "metadata": {
    "id": "WCk2YEqBhdP2"
   },
   "source": [
    "# Face Detection Challenge"
   ]
  },
  {
   "cell_type": "code",
   "execution_count": 49,
   "metadata": {
    "ExecuteTime": {
     "end_time": "2021-03-18T15:44:57.089652Z",
     "start_time": "2021-03-18T15:44:46.384966Z"
    },
    "executionInfo": {
     "elapsed": 3224,
     "status": "ok",
     "timestamp": 1615229786391,
     "user": {
      "displayName": "Bruno Lajoie",
      "photoUrl": "https://lh3.googleusercontent.com/a-/AOh14Gg0dl6gThG8gOPbCvHbgt62zQnsi8cgbQ7C5HkD_Cg=s64",
      "userId": "15793030209206844069"
     },
     "user_tz": -60
    },
    "id": "ZH4sxIwVqhAV"
   },
   "outputs": [],
   "source": [
    "# Linear algebra\n",
    "import numpy as np \n",
    "import pandas as pd\n",
    "\n",
    "# Data visualization\n",
    "import seaborn as sns\n",
    "import matplotlib.pyplot as plt\n",
    "\n",
    "# sklearn\n",
    "from sklearn.preprocessing import MinMaxScaler\n",
    "from sklearn.model_selection import train_test_split\n",
    "\n",
    "# Tensorflow, Keras\n",
    "from tensorflow.keras import models\n",
    "from tensorflow.keras import layers"
   ]
  },
  {
   "cell_type": "markdown",
   "metadata": {
    "id": "JBXc4442fJZV"
   },
   "source": [
    "### Objectives\n",
    "-  visualize images\n",
    "-  preprocess images for Neural Networks\n",
    "-  fit a custom CNN for a regression task\n",
    "-  fine-tune a analyse model performance"
   ]
  },
  {
   "cell_type": "markdown",
   "metadata": {
    "id": "gv76LFXjqzau"
   },
   "source": [
    "## 1. Visualize images"
   ]
  },
  {
   "cell_type": "markdown",
   "metadata": {},
   "source": [
    "👉 Load the dataset (200 Mo)"
   ]
  },
  {
   "cell_type": "code",
   "execution_count": 2,
   "metadata": {
    "ExecuteTime": {
     "end_time": "2021-03-18T14:42:32.065870Z",
     "start_time": "2021-03-18T14:41:20.544406Z"
    },
    "executionInfo": {
     "elapsed": 10102,
     "status": "ok",
     "timestamp": 1615229794824,
     "user": {
      "displayName": "Bruno Lajoie",
      "photoUrl": "https://lh3.googleusercontent.com/a-/AOh14Gg0dl6gThG8gOPbCvHbgt62zQnsi8cgbQ7C5HkD_Cg=s64",
      "userId": "15793030209206844069"
     },
     "user_tz": -60
    },
    "id": "2tZUrTCepyPs"
   },
   "outputs": [
    {
     "data": {
      "text/html": [
       "<div>\n",
       "<style scoped>\n",
       "    .dataframe tbody tr th:only-of-type {\n",
       "        vertical-align: middle;\n",
       "    }\n",
       "\n",
       "    .dataframe tbody tr th {\n",
       "        vertical-align: top;\n",
       "    }\n",
       "\n",
       "    .dataframe thead th {\n",
       "        text-align: right;\n",
       "    }\n",
       "</style>\n",
       "<table border=\"1\" class=\"dataframe\">\n",
       "  <thead>\n",
       "    <tr style=\"text-align: right;\">\n",
       "      <th></th>\n",
       "      <th>age</th>\n",
       "      <th>pixels</th>\n",
       "    </tr>\n",
       "  </thead>\n",
       "  <tbody>\n",
       "    <tr>\n",
       "      <th>0</th>\n",
       "      <td>1</td>\n",
       "      <td>129 128 128 126 127 130 133 135 139 142 145 14...</td>\n",
       "    </tr>\n",
       "    <tr>\n",
       "      <th>1</th>\n",
       "      <td>1</td>\n",
       "      <td>164 74 111 168 169 171 175 182 184 188 193 199...</td>\n",
       "    </tr>\n",
       "    <tr>\n",
       "      <th>2</th>\n",
       "      <td>1</td>\n",
       "      <td>67 70 71 70 69 67 70 79 90 103 116 132 145 155...</td>\n",
       "    </tr>\n",
       "    <tr>\n",
       "      <th>3</th>\n",
       "      <td>1</td>\n",
       "      <td>193 197 198 200 199 200 202 203 204 205 208 21...</td>\n",
       "    </tr>\n",
       "    <tr>\n",
       "      <th>4</th>\n",
       "      <td>1</td>\n",
       "      <td>202 205 209 210 209 209 210 211 212 214 218 21...</td>\n",
       "    </tr>\n",
       "    <tr>\n",
       "      <th>...</th>\n",
       "      <td>...</td>\n",
       "      <td>...</td>\n",
       "    </tr>\n",
       "    <tr>\n",
       "      <th>23700</th>\n",
       "      <td>99</td>\n",
       "      <td>127 100 94 81 77 77 74 99 102 98 128 145 160 1...</td>\n",
       "    </tr>\n",
       "    <tr>\n",
       "      <th>23701</th>\n",
       "      <td>99</td>\n",
       "      <td>23 28 32 35 42 47 68 85 98 103 113 117 130 129...</td>\n",
       "    </tr>\n",
       "    <tr>\n",
       "      <th>23702</th>\n",
       "      <td>99</td>\n",
       "      <td>59 50 37 40 34 19 30 101 156 170 177 184 187 1...</td>\n",
       "    </tr>\n",
       "    <tr>\n",
       "      <th>23703</th>\n",
       "      <td>99</td>\n",
       "      <td>45 108 120 156 206 197 140 180 191 199 204 207...</td>\n",
       "    </tr>\n",
       "    <tr>\n",
       "      <th>23704</th>\n",
       "      <td>99</td>\n",
       "      <td>156 161 160 165 170 173 166 177 183 191 187 18...</td>\n",
       "    </tr>\n",
       "  </tbody>\n",
       "</table>\n",
       "<p>23705 rows × 2 columns</p>\n",
       "</div>"
      ],
      "text/plain": [
       "       age                                             pixels\n",
       "0        1  129 128 128 126 127 130 133 135 139 142 145 14...\n",
       "1        1  164 74 111 168 169 171 175 182 184 188 193 199...\n",
       "2        1  67 70 71 70 69 67 70 79 90 103 116 132 145 155...\n",
       "3        1  193 197 198 200 199 200 202 203 204 205 208 21...\n",
       "4        1  202 205 209 210 209 209 210 211 212 214 218 21...\n",
       "...    ...                                                ...\n",
       "23700   99  127 100 94 81 77 77 74 99 102 98 128 145 160 1...\n",
       "23701   99  23 28 32 35 42 47 68 85 98 103 113 117 130 129...\n",
       "23702   99  59 50 37 40 34 19 30 101 156 170 177 184 187 1...\n",
       "23703   99  45 108 120 156 206 197 140 180 191 199 204 207...\n",
       "23704   99  156 161 160 165 170 173 166 177 183 191 187 18...\n",
       "\n",
       "[23705 rows x 2 columns]"
      ]
     },
     "execution_count": 2,
     "metadata": {},
     "output_type": "execute_result"
    }
   ],
   "source": [
    "data = pd.read_csv(\"https://wagon-public-datasets.s3.amazonaws.com/certification_paris_2021Q1/images.csv\")\n",
    "data"
   ]
  },
  {
   "cell_type": "markdown",
   "metadata": {
    "ExecuteTime": {
     "end_time": "2021-03-12T10:04:13.153735Z",
     "start_time": "2021-03-12T10:04:13.148224Z"
    }
   },
   "source": [
    "Each row represent the image of a face in black and white\n",
    "- `age` is the age in year\n",
    "- `pixels` contains the 2304 (= 48 * 48) flatten values of each pixel in the image, in a black scale from 0 to 255, stored as string"
   ]
  },
  {
   "cell_type": "markdown",
   "metadata": {},
   "source": [
    "❓ Plot the histogram of age in your dataset"
   ]
  },
  {
   "cell_type": "code",
   "execution_count": 4,
   "metadata": {
    "ExecuteTime": {
     "end_time": "2021-03-18T15:20:13.295572Z",
     "start_time": "2021-03-18T15:20:12.111375Z"
    },
    "scrolled": true
   },
   "outputs": [
    {
     "data": {
      "text/plain": [
       "<AxesSubplot:xlabel='age', ylabel='Count'>"
      ]
     },
     "execution_count": 4,
     "metadata": {},
     "output_type": "execute_result"
    },
    {
     "data": {
      "image/png": "[encoded data removed]",
      "text/plain": [
       "<Figure size 432x288 with 1 Axes>"
      ]
     },
     "metadata": {
      "needs_background": "light"
     },
     "output_type": "display_data"
    }
   ],
   "source": [
    "### TODO\n",
    "sns.histplot(data.age)"
   ]
  },
  {
   "cell_type": "code",
   "execution_count": 105,
   "metadata": {
    "ExecuteTime": {
     "end_time": "2021-03-18T16:14:08.690237Z",
     "start_time": "2021-03-18T16:14:08.684871Z"
    }
   },
   "outputs": [
    {
     "data": {
      "text/plain": [
       "33.30090698164944"
      ]
     },
     "execution_count": 105,
     "metadata": {},
     "output_type": "execute_result"
    }
   ],
   "source": [
    "data.age.mean()"
   ]
  },
  {
   "cell_type": "markdown",
   "metadata": {
    "id": "JQ1ew-IAwUNL"
   },
   "source": [
    "❓ Visually display one image of your choice."
   ]
  },
  {
   "cell_type": "code",
   "execution_count": 20,
   "metadata": {
    "ExecuteTime": {
     "end_time": "2021-03-18T15:24:32.833112Z",
     "start_time": "2021-03-18T15:24:32.827365Z"
    }
   },
   "outputs": [
    {
     "data": {
      "text/plain": [
       "array([129., 128., 128., ..., 146., 146., 146.])"
      ]
     },
     "execution_count": 20,
     "metadata": {},
     "output_type": "execute_result"
    }
   ],
   "source": [
    "np.fromstring(data.pixels[0], sep=' ')"
   ]
  },
  {
   "cell_type": "code",
   "execution_count": 28,
   "metadata": {
    "ExecuteTime": {
     "end_time": "2021-03-18T15:25:53.325221Z",
     "start_time": "2021-03-18T15:25:53.320687Z"
    }
   },
   "outputs": [],
   "source": [
    "img_0 = np.fromstring(data.pixels[0], sep=' ')"
   ]
  },
  {
   "cell_type": "code",
   "execution_count": 29,
   "metadata": {
    "ExecuteTime": {
     "end_time": "2021-03-18T15:25:53.866657Z",
     "start_time": "2021-03-18T15:25:53.860263Z"
    }
   },
   "outputs": [
    {
     "data": {
      "text/plain": [
       "48.0"
      ]
     },
     "execution_count": 29,
     "metadata": {},
     "output_type": "execute_result"
    }
   ],
   "source": [
    "reshape_size = len(np.fromstring(data.pixels[0], sep=' '))**0.5\n",
    "reshape_size"
   ]
  },
  {
   "cell_type": "code",
   "execution_count": 30,
   "metadata": {
    "ExecuteTime": {
     "end_time": "2021-03-18T15:25:54.496194Z",
     "start_time": "2021-03-18T15:25:54.358163Z"
    },
    "colab": {
     "base_uri": "https://localhost:8080/",
     "height": 284
    },
    "executionInfo": {
     "elapsed": 594,
     "status": "ok",
     "timestamp": 1615229800246,
     "user": {
      "displayName": "Bruno Lajoie",
      "photoUrl": "https://lh3.googleusercontent.com/a-/AOh14Gg0dl6gThG8gOPbCvHbgt62zQnsi8cgbQ7C5HkD_Cg=s64",
      "userId": "15793030209206844069"
     },
     "user_tz": -60
    },
    "id": "q9dLVirWwMoE",
    "outputId": "cd8b8794-35ff-4405-cef7-15909a03b846"
   },
   "outputs": [
    {
     "data": {
      "text/plain": [
       "<matplotlib.image.AxesImage at 0x1291bf2b0>"
      ]
     },
     "execution_count": 30,
     "metadata": {},
     "output_type": "execute_result"
    },
    {
     "data": {
      "image/png": "[encoded data removed]",
      "text/plain": [
       "<Figure size 432x288 with 1 Axes>"
      ]
     },
     "metadata": {
      "needs_background": "light"
     },
     "output_type": "display_data"
    }
   ],
   "source": [
    "### TODO\n",
    "img_0 = img_0.reshape(48,48)\n",
    "plt.imshow(img_0, cmap=plt.cm.gray)"
   ]
  },
  {
   "cell_type": "markdown",
   "metadata": {},
   "source": [
    "❓ What is the physical characteristic of the image at **index** `10000`?"
   ]
  },
  {
   "cell_type": "code",
   "execution_count": 31,
   "metadata": {
    "ExecuteTime": {
     "end_time": "2021-03-18T15:27:09.362450Z",
     "start_time": "2021-03-18T15:27:09.212314Z"
    }
   },
   "outputs": [
    {
     "data": {
      "text/plain": [
       "<matplotlib.image.AxesImage at 0x129211160>"
      ]
     },
     "execution_count": 31,
     "metadata": {},
     "output_type": "execute_result"
    },
    {
     "data": {
      "image/png": "[encoded data removed]",
      "text/plain": [
       "<Figure size 432x288 with 1 Axes>"
      ]
     },
     "metadata": {
      "needs_background": "light"
     },
     "output_type": "display_data"
    }
   ],
   "source": [
    "img_10_000 = np.fromstring(data.pixels[10_000], sep=' ')\n",
    "img_10_000 = img_10_000.reshape(48,48)\n",
    "plt.imshow(img_10_000, cmap=plt.cm.gray)"
   ]
  },
  {
   "cell_type": "code",
   "execution_count": 32,
   "metadata": {
    "ExecuteTime": {
     "end_time": "2021-03-18T15:27:22.765448Z",
     "start_time": "2021-03-18T15:27:22.762839Z"
    }
   },
   "outputs": [],
   "source": [
    "# Store your result in the variable below\n",
    "\n",
    "gender = \"male\"\n",
    "# gender = \"female\"\n",
    "\n",
    "# smile = True\n",
    "smile = False"
   ]
  },
  {
   "cell_type": "code",
   "execution_count": 33,
   "metadata": {
    "ExecuteTime": {
     "end_time": "2021-03-18T15:27:27.199039Z",
     "start_time": "2021-03-18T15:27:27.193322Z"
    }
   },
   "outputs": [],
   "source": [
    "from nbresult import ChallengeResult\n",
    "result = ChallengeResult('C14',\n",
    "                         gender=gender,\n",
    "                         smile=smile)\n",
    "result.write()"
   ]
  },
  {
   "cell_type": "markdown",
   "metadata": {
    "id": "AjeMU0GTwFSe"
   },
   "source": [
    "## 2. Processing"
   ]
  },
  {
   "cell_type": "markdown",
   "metadata": {},
   "source": [
    "❓ Your goal is to train a convolutional neural network model to predict the age of a person based solely on a picture of his/her face.\n",
    "- Create your feature matrix `X` as nparray of shape suited for a CNN, scaled between 0 and 1\n",
    "- Create your target vector `y`\n",
    "- Create a holdout set (`X_train`, `y_train`) (`X_test`, `y_test`) keeping `30%` in the test set, randomly sampled out of the whole dataset\n",
    "\n",
    "😌 Don't worry, you will be given the solution in the next question in case you don't make it"
   ]
  },
  {
   "cell_type": "code",
   "execution_count": 67,
   "metadata": {
    "ExecuteTime": {
     "end_time": "2021-03-18T15:50:45.205912Z",
     "start_time": "2021-03-18T15:50:39.063379Z"
    }
   },
   "outputs": [],
   "source": [
    "## YOUR CODE\n",
    "\n",
    "# Feature matrix X as nparray\n",
    "X = data.pixels.apply(lambda x: np.array(np.fromstring(x, dtype=int, sep=' ').reshape(48, 48)))\n",
    "\n",
    "# Scaler\n",
    "scaler = MinMaxScaler()\n",
    "X = X.apply(lambda x: scaler.fit_transform(x))\n",
    "\n",
    "# Target vector y\n",
    "y = data.age\n",
    "\n",
    "# Holdout\n",
    "X_train, X_test, y_train, y_test = train_test_split(X, y, test_size=0.3)"
   ]
  },
  {
   "cell_type": "code",
   "execution_count": 45,
   "metadata": {
    "ExecuteTime": {
     "end_time": "2021-03-18T15:37:17.727996Z",
     "start_time": "2021-03-18T15:37:17.723871Z"
    }
   },
   "outputs": [],
   "source": [
    "from nbresult import ChallengeResult\n",
    "result = ChallengeResult('C1415', \n",
    "                         X_train_shape = X_train.shape,\n",
    "                         y_train_shape = y_train.shape,\n",
    "                         first_image = X_train[0]\n",
    "                        )\n",
    "result.write()"
   ]
  },
  {
   "cell_type": "markdown",
   "metadata": {
    "id": "3bSHDYC8OlrL"
   },
   "source": [
    "## Convolutional Neural Network for Age prediction"
   ]
  },
  {
   "cell_type": "markdown",
   "metadata": {},
   "source": [
    "❓ Build a convolutional neural network\n",
    "\n",
    "- Do not use transfer learning\n",
    "- Store number of trainable parameters in a variable `params_number`\n",
    "- Plot your metric & loss at each epoch\n",
    "- make sure your model does not overfit with appropriate control techniques\n",
    "- Compute the mean absolute error on your test set and store it as `mae_test`\n",
    "- Compute, store and compare it with a `mae_baseline`\n",
    "\n",
    "💡 You will not be judged by the computing power of your computer, but you should obtain significantly better performance than the baseline in less than 3 minutes, even without GPUs"
   ]
  },
  {
   "cell_type": "markdown",
   "metadata": {},
   "source": [
    "👉 Feel free to start back from the solution by running the cell below (~500Mo download)"
   ]
  },
  {
   "cell_type": "code",
   "execution_count": 48,
   "metadata": {
    "ExecuteTime": {
     "end_time": "2021-03-18T15:44:45.897319Z",
     "start_time": "2021-03-18T15:40:33.417842Z"
    }
   },
   "outputs": [
    {
     "name": "stdout",
     "output_type": "stream",
     "text": [
      "  % Total    % Received % Xferd  Average Speed   Time    Time     Time  Current\n",
      "                                 Dload  Upload   Total   Spent    Left  Speed\n",
      "100  291M  100  291M    0     0  1768k      0  0:02:48  0:02:48 --:--:-- 1605k02:43  0:00:11  0:02:32 1956k44  0:00:43  0:02:01 1992k  0:01:50 1822k1863k2:48  0:01:28  0:01:20 1253k2:48  0:02:26  0:00:22 1734k\n",
      "  % Total    % Received % Xferd  Average Speed   Time    Time     Time  Current\n",
      "                                 Dload  Upload   Total   Spent    Left  Speed\n",
      "100  125M  100  125M    0     0  1574k      0  0:01:21  0:01:21 --:--:-- 1663k  0:01:00 2026k 0:00:15  0:00:52 1819k:01:07  0:00:19  0:00:48 1962k:23  0:00:39  0:00:44 1182k69k\n",
      "  % Total    % Received % Xferd  Average Speed   Time    Time     Time  Current\n",
      "                                 Dload  Upload   Total   Spent    Left  Speed\n",
      "100  129k  100  129k    0     0   360k      0 --:--:-- --:--:-- --:--:--  360k\n",
      "  % Total    % Received % Xferd  Average Speed   Time    Time     Time  Current\n",
      "                                 Dload  Upload   Total   Spent    Left  Speed\n",
      "100 57023  100 57023    0     0   131k      0 --:--:-- --:--:-- --:--:--  131k\n"
     ]
    }
   ],
   "source": [
    "import pickle\n",
    "\n",
    "file_names = [\"images_X_train.pickle\", \"images_X_test.pickle\", \"images_y_train.pickle\", \"images_y_test.pickle\"]\n",
    "pickles = dict()\n",
    "\n",
    "for file_name in file_names:\n",
    "    url = f\"https://wagon-public-datasets.s3.amazonaws.com/certification_paris_2021Q1/{file_name}\"\n",
    "    command = f\"curl --output {file_name} {url}\"\n",
    "    ! eval {command}\n",
    "    with open(file_name, 'rb') as handle:\n",
    "        pickles[file_name] = pickle.load(handle)\n",
    "    command = f\"rm {file_name}\"\n",
    "    ! eval {command}\n",
    "        \n",
    "X_train, X_test, y_train, y_test = pickles.values()"
   ]
  },
  {
   "cell_type": "code",
   "execution_count": 101,
   "metadata": {
    "ExecuteTime": {
     "end_time": "2021-03-18T16:12:19.771481Z",
     "start_time": "2021-03-18T16:12:19.766884Z"
    }
   },
   "outputs": [
    {
     "data": {
      "text/plain": [
       "(16593, 48, 48, 1)"
      ]
     },
     "execution_count": 101,
     "metadata": {},
     "output_type": "execute_result"
    }
   ],
   "source": [
    "X_train.shape"
   ]
  },
  {
   "cell_type": "code",
   "execution_count": 78,
   "metadata": {
    "ExecuteTime": {
     "end_time": "2021-03-18T15:58:16.891187Z",
     "start_time": "2021-03-18T15:58:16.887398Z"
    }
   },
   "outputs": [],
   "source": [
    "X_train, X_test, y_train, y_test = pickles.values()"
   ]
  },
  {
   "cell_type": "code",
   "execution_count": 98,
   "metadata": {
    "ExecuteTime": {
     "end_time": "2021-03-18T16:11:04.866644Z",
     "start_time": "2021-03-18T16:11:04.862494Z"
    }
   },
   "outputs": [
    {
     "data": {
      "text/plain": [
       "(16593, 48, 48, 1)"
      ]
     },
     "execution_count": 98,
     "metadata": {},
     "output_type": "execute_result"
    }
   ],
   "source": [
    "X_train.shape"
   ]
  },
  {
   "cell_type": "code",
   "execution_count": 88,
   "metadata": {
    "ExecuteTime": {
     "end_time": "2021-03-18T16:05:19.922140Z",
     "start_time": "2021-03-18T16:05:19.824448Z"
    }
   },
   "outputs": [
    {
     "name": "stdout",
     "output_type": "stream",
     "text": [
      "Model: \"sequential_4\"\n",
      "_________________________________________________________________\n",
      "Layer (type)                 Output Shape              Param #   \n",
      "=================================================================\n",
      "conv2d_10 (Conv2D)           (None, 45, 45, 16)        272       \n",
      "_________________________________________________________________\n",
      "max_pooling2d_3 (MaxPooling2 (None, 22, 22, 16)        0         \n",
      "_________________________________________________________________\n",
      "conv2d_11 (Conv2D)           (None, 20, 20, 32)        4640      \n",
      "_________________________________________________________________\n",
      "max_pooling2d_4 (MaxPooling2 (None, 10, 10, 32)        0         \n",
      "_________________________________________________________________\n",
      "flatten_3 (Flatten)          (None, 3200)              0         \n",
      "_________________________________________________________________\n",
      "dense_4 (Dense)              (None, 16)                51216     \n",
      "_________________________________________________________________\n",
      "dense_5 (Dense)              (None, 1)                 17        \n",
      "=================================================================\n",
      "Total params: 56,145\n",
      "Trainable params: 56,145\n",
      "Non-trainable params: 0\n",
      "_________________________________________________________________\n"
     ]
    }
   ],
   "source": [
    "### YOUR CODE\n",
    "model = models.Sequential()\n",
    "\n",
    "model.add(layers.Conv2D(16, (4,4), input_shape=(48, 48, 1)))\n",
    "model.add(layers.MaxPool2D(pool_size=(2,2))) \n",
    "\n",
    "model.add(layers.Conv2D(32, (3,3)))\n",
    "model.add(layers.MaxPool2D(pool_size=(2,2))) \n",
    "\n",
    "model.add(layers.Flatten())\n",
    "\n",
    "model.add(layers.Dense(16, activation='relu'))\n",
    "model.add(layers.Dense(1, activation='relu')) \n",
    "\n",
    "model.summary()"
   ]
  },
  {
   "cell_type": "code",
   "execution_count": 89,
   "metadata": {
    "ExecuteTime": {
     "end_time": "2021-03-18T16:05:30.076661Z",
     "start_time": "2021-03-18T16:05:30.071718Z"
    }
   },
   "outputs": [
    {
     "data": {
      "text/plain": [
       "56145"
      ]
     },
     "execution_count": 89,
     "metadata": {},
     "output_type": "execute_result"
    }
   ],
   "source": [
    "params_number = model.count_params()\n",
    "params_number"
   ]
  },
  {
   "cell_type": "code",
   "execution_count": 95,
   "metadata": {
    "ExecuteTime": {
     "end_time": "2021-03-18T16:09:14.555437Z",
     "start_time": "2021-03-18T16:09:14.544397Z"
    }
   },
   "outputs": [],
   "source": [
    "model.compile(loss='mse',\n",
    "              optimizer='adam',\n",
    "              metrics=['mae'])"
   ]
  },
  {
   "cell_type": "code",
   "execution_count": 97,
   "metadata": {
    "ExecuteTime": {
     "end_time": "2021-03-18T16:11:04.389278Z",
     "start_time": "2021-03-18T16:10:00.533677Z"
    }
   },
   "outputs": [
    {
     "name": "stdout",
     "output_type": "stream",
     "text": [
      "Epoch 1/30\n",
      "363/363 [==============================] - 6s 17ms/step - loss: 96.0667 - mae: 7.0509 - val_loss: 125.1761 - val_mae: 8.2656\n",
      "Epoch 2/30\n",
      "363/363 [==============================] - 6s 17ms/step - loss: 94.2926 - mae: 7.0125 - val_loss: 126.2789 - val_mae: 7.9016\n",
      "Epoch 3/30\n",
      "363/363 [==============================] - 6s 17ms/step - loss: 91.2712 - mae: 6.9096 - val_loss: 118.9660 - val_mae: 7.9636\n",
      "Epoch 4/30\n",
      "363/363 [==============================] - 7s 18ms/step - loss: 87.6762 - mae: 6.7955 - val_loss: 119.7622 - val_mae: 7.8696\n",
      "Epoch 5/30\n",
      "363/363 [==============================] - 6s 17ms/step - loss: 86.6468 - mae: 6.7530 - val_loss: 118.6686 - val_mae: 7.7865\n",
      "Epoch 6/30\n",
      "363/363 [==============================] - 6s 17ms/step - loss: 83.2543 - mae: 6.6299 - val_loss: 122.0293 - val_mae: 8.0700\n",
      "Epoch 7/30\n",
      "363/363 [==============================] - 6s 18ms/step - loss: 80.9829 - mae: 6.5793 - val_loss: 123.7010 - val_mae: 7.8647\n",
      "Epoch 8/30\n",
      "363/363 [==============================] - 6s 18ms/step - loss: 78.5956 - mae: 6.4940 - val_loss: 121.2933 - val_mae: 7.8211\n",
      "Epoch 9/30\n",
      "363/363 [==============================] - 7s 19ms/step - loss: 77.0943 - mae: 6.4159 - val_loss: 119.1035 - val_mae: 7.8360\n",
      "Epoch 10/30\n",
      "363/363 [==============================] - 7s 18ms/step - loss: 73.7252 - mae: 6.2979 - val_loss: 124.7263 - val_mae: 7.9098\n"
     ]
    },
    {
     "data": {
      "text/plain": [
       "<tensorflow.python.keras.callbacks.History at 0x14def0250>"
      ]
     },
     "execution_count": 97,
     "metadata": {},
     "output_type": "execute_result"
    }
   ],
   "source": [
    "from tensorflow.keras import callbacks\n",
    "\n",
    "es = callbacks.EarlyStopping(patience=5, restore_best_weights=True)\n",
    "\n",
    "\n",
    "model.fit(X_train, y_train, \n",
    "          epochs=30, \n",
    "          batch_size=32, \n",
    "          validation_split=0.3,\n",
    "          callbacks=[es],\n",
    "          verbose=1\n",
    "          )"
   ]
  },
  {
   "cell_type": "code",
   "execution_count": 110,
   "metadata": {
    "ExecuteTime": {
     "end_time": "2021-03-18T16:24:00.859214Z",
     "start_time": "2021-03-18T16:23:59.899883Z"
    },
    "scrolled": true
   },
   "outputs": [
    {
     "name": "stdout",
     "output_type": "stream",
     "text": [
      "223/223 [==============================] - 1s 4ms/step - loss: 111.0432 - mae: 7.6305\n"
     ]
    },
    {
     "data": {
      "text/plain": [
       "7.630527019500732"
      ]
     },
     "execution_count": 110,
     "metadata": {},
     "output_type": "execute_result"
    }
   ],
   "source": [
    "mae_test = model.evaluate(X_test, y_test, verbose=1)[1]\n"
   ]
  },
  {
   "cell_type": "code",
   "execution_count": 108,
   "metadata": {
    "ExecuteTime": {
     "end_time": "2021-03-18T16:21:45.115698Z",
     "start_time": "2021-03-18T16:21:44.474850Z"
    }
   },
   "outputs": [
    {
     "data": {
      "text/plain": [
       "15.322046662802459"
      ]
     },
     "execution_count": 108,
     "metadata": {},
     "output_type": "execute_result"
    }
   ],
   "source": [
    "mae_baseline = pd.Series(y_test).apply(lambda x : abs(data.age.mean() - x)).mean()\n",
    "mae_baseline"
   ]
  },
  {
   "cell_type": "code",
   "execution_count": null,
   "metadata": {},
   "outputs": [],
   "source": [
    "mae_test = mae_test"
   ]
  },
  {
   "cell_type": "code",
   "execution_count": null,
   "metadata": {},
   "outputs": [],
   "source": [
    "from nbresult import ChallengeResult\n",
    "result = ChallengeResult('C1516',\n",
    "                         params_number=params_number,\n",
    "                         mae_baseline = mae_baseline,\n",
    "                         mae_test = mae_test,\n",
    "                        )\n",
    "result.write()"
   ]
  }
 ],
 "metadata": {
  "accelerator": "GPU",
  "colab": {
   "authorship_tag": "ABX9TyMOYn4GJAg9EKtu1bGhcoI1",
   "collapsed_sections": [],
   "name": "certification_DL_images",
   "provenance": [],
   "toc_visible": true
  },
  "kernelspec": {
   "display_name": "Python 3",
   "language": "python",
   "name": "python3"
  },
  "language_info": {
   "codemirror_mode": {
    "name": "ipython",
    "version": 3
   },
   "file_extension": ".py",
   "mimetype": "text/x-python",
   "name": "python",
   "nbconvert_exporter": "python",
   "pygments_lexer": "ipython3",
   "version": "3.8.6"
  },
  "toc": {
   "base_numbering": 1,
   "nav_menu": {},
   "number_sections": false,
   "sideBar": true,
   "skip_h1_title": false,
   "title_cell": "Table of Contents",
   "title_sidebar": "Contents",
   "toc_cell": false,
   "toc_position": {},
   "toc_section_display": true,
   "toc_window_display": true
  },
  "varInspector": {
   "cols": {
    "lenName": 16,
    "lenType": 16,
    "lenVar": 40
   },
   "kernels_config": {
    "python": {
     "delete_cmd_postfix": "",
     "delete_cmd_prefix": "del ",
     "library": "var_list.py",
     "varRefreshCmd": "print(var_dic_list())"
    },
    "r": {
     "delete_cmd_postfix": ") ",
     "delete_cmd_prefix": "rm(",
     "library": "var_list.r",
     "varRefreshCmd": "cat(var_dic_list()) "
    }
   },
   "types_to_exclude": [
    "module",
    "function",
    "builtin_function_or_method",
    "instance",
    "_Feature"
   ],
   "window_display": false
  }
 },
 "nbformat": 4,
 "nbformat_minor": 1
}
